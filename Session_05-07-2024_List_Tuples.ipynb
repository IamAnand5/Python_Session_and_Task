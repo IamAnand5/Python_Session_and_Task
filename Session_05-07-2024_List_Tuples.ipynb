{
 "cells": [
  {
   "cell_type": "markdown",
   "id": "76ec0ac2",
   "metadata": {},
   "source": [
    "#### List continued\n",
    "\n",
    "Ordering elements of the List:\n",
    " - reverse()\n",
    " - sort()\n",
    "   - If numbers then defaults sorting order would be in Ascending order\n",
    "   - If its alphabet then it should be in Alphabetical order\n",
    "   \n",
    "Mathematical Operators for List:\n",
    " +  , *\n",
    " + = Concatenation\n",
    " * = repetition\n",
    " \n",
    " comparing list :\n",
    " ==, !=\n",
    " \n",
    " Membership operators:\n",
    " in , not in\n",
    " "
   ]
  },
  {
   "cell_type": "code",
   "execution_count": 1,
   "id": "22cf7132",
   "metadata": {},
   "outputs": [
    {
     "name": "stdout",
     "output_type": "stream",
     "text": [
      "[40, 30, 20, 10]\n"
     ]
    }
   ],
   "source": [
    "list1 = [10,20,30,40]\n",
    "list1.reverse()\n",
    "print(list1)"
   ]
  },
  {
   "cell_type": "code",
   "execution_count": 2,
   "id": "05e8729e",
   "metadata": {},
   "outputs": [
    {
     "name": "stdout",
     "output_type": "stream",
     "text": [
      "[4, 6, 23, 30, 78]\n"
     ]
    }
   ],
   "source": [
    "list2 = [30,6,23,78,4]\n",
    "list2.sort()\n",
    "print(list2)"
   ]
  },
  {
   "cell_type": "code",
   "execution_count": 3,
   "id": "635215e9",
   "metadata": {},
   "outputs": [
    {
     "name": "stdout",
     "output_type": "stream",
     "text": [
      "['Banana', 'Orange', 'Papaya']\n"
     ]
    }
   ],
   "source": [
    "list3 = [\"Orange\", \"Banana\", \"Papaya\"]\n",
    "list3.sort()\n",
    "print(list3)"
   ]
  },
  {
   "cell_type": "code",
   "execution_count": 4,
   "id": "370304b4",
   "metadata": {},
   "outputs": [
    {
     "ename": "TypeError",
     "evalue": "'<' not supported between instances of 'str' and 'int'",
     "output_type": "error",
     "traceback": [
      "\u001b[1;31m---------------------------------------------------------------------------\u001b[0m",
      "\u001b[1;31mTypeError\u001b[0m                                 Traceback (most recent call last)",
      "Cell \u001b[1;32mIn[4], line 2\u001b[0m\n\u001b[0;32m      1\u001b[0m list4 \u001b[38;5;241m=\u001b[39m [\u001b[38;5;241m4\u001b[39m,\u001b[38;5;124m\"\u001b[39m\u001b[38;5;124ma\u001b[39m\u001b[38;5;124m\"\u001b[39m,\u001b[38;5;241m9\u001b[39m,\u001b[38;5;124m\"\u001b[39m\u001b[38;5;124md\u001b[39m\u001b[38;5;124m\"\u001b[39m]\n\u001b[1;32m----> 2\u001b[0m list4\u001b[38;5;241m.\u001b[39msort()\n\u001b[0;32m      3\u001b[0m \u001b[38;5;28mprint\u001b[39m(list4)\n",
      "\u001b[1;31mTypeError\u001b[0m: '<' not supported between instances of 'str' and 'int'"
     ]
    }
   ],
   "source": [
    "list4 = [4,\"a\",9,\"d\"]\n",
    "list4.sort()\n",
    "print(list4)"
   ]
  },
  {
   "cell_type": "code",
   "execution_count": 5,
   "id": "2d9840d1",
   "metadata": {},
   "outputs": [
    {
     "name": "stdout",
     "output_type": "stream",
     "text": [
      "[78, 30, 23, 6, 4]\n"
     ]
    }
   ],
   "source": [
    "list5 = [30,6,23,78,4]\n",
    "list5.sort(reverse = True)\n",
    "print(list5)"
   ]
  },
  {
   "cell_type": "code",
   "execution_count": 6,
   "id": "5a206bb1",
   "metadata": {},
   "outputs": [
    {
     "name": "stdout",
     "output_type": "stream",
     "text": [
      "[20, 30, 40, 50]\n"
     ]
    }
   ],
   "source": [
    "l1 = [20,30]\n",
    "l2 = [40,50]\n",
    "l3 = l1 + l2\n",
    "print(l3)"
   ]
  },
  {
   "cell_type": "code",
   "execution_count": 7,
   "id": "5bda24dc",
   "metadata": {},
   "outputs": [
    {
     "name": "stdout",
     "output_type": "stream",
     "text": [
      "[10, 20, 10, 20]\n"
     ]
    }
   ],
   "source": [
    "l4 = [10,20]\n",
    "l5 = l4*2\n",
    "print(l5)"
   ]
  },
  {
   "cell_type": "code",
   "execution_count": 8,
   "id": "659b643c",
   "metadata": {},
   "outputs": [
    {
     "name": "stdout",
     "output_type": "stream",
     "text": [
      "True\n",
      "False\n",
      "True\n",
      "True\n"
     ]
    }
   ],
   "source": [
    "l6 = [\"Orange\", \"Papaya\"]\n",
    "l7 = [\"Orange\", \"Papaya\"]\n",
    "l8 = [\"Guava\", \"Apple\"]\n",
    "l9 = [\"ORANGE\", \"PAPAYA\"]\n",
    "print(l6 == l7) #True\n",
    "print(l6 == l8) #False\n",
    "print(l6 != l8) #True\n",
    "print(l6 != l9) #True"
   ]
  },
  {
   "cell_type": "code",
   "execution_count": 9,
   "id": "4ccb7a52",
   "metadata": {},
   "outputs": [
    {
     "name": "stdout",
     "output_type": "stream",
     "text": [
      "True\n",
      "False\n",
      "False\n"
     ]
    }
   ],
   "source": [
    "l10 = [20,30,40]\n",
    "print(20 in l10) #True\n",
    "print(30 not in l10) #False\n",
    "print(60 in l10) #False"
   ]
  },
  {
   "cell_type": "code",
   "execution_count": 10,
   "id": "9128bf27",
   "metadata": {},
   "outputs": [
    {
     "name": "stdout",
     "output_type": "stream",
     "text": [
      "[20, 30, 40]\n",
      "[]\n"
     ]
    }
   ],
   "source": [
    "# clear()\n",
    "l11 = [20,30,40]\n",
    "print(l11)\n",
    "l11.clear()\n",
    "print(l11)"
   ]
  },
  {
   "cell_type": "code",
   "execution_count": 11,
   "id": "70a21d94",
   "metadata": {},
   "outputs": [
    {
     "name": "stdout",
     "output_type": "stream",
     "text": [
      "[10, 20, [30, 40]]\n",
      "20\n",
      "[30, 40]\n",
      "30\n",
      "40\n"
     ]
    }
   ],
   "source": [
    "# Nested list\n",
    "lt1 = [10,20,[30,40]]\n",
    "print(lt1)\n",
    "print(lt1[1])\n",
    "print(lt1[2])\n",
    "print(lt1[2][0])\n",
    "print(lt1[2][1])"
   ]
  },
  {
   "cell_type": "markdown",
   "id": "f6d63433",
   "metadata": {},
   "source": [
    "### Tuples"
   ]
  },
  {
   "cell_type": "code",
   "execution_count": 12,
   "id": "2c95844f",
   "metadata": {},
   "outputs": [
    {
     "name": "stdout",
     "output_type": "stream",
     "text": [
      "<class 'tuple'>\n"
     ]
    }
   ],
   "source": [
    "t1 = (10,20,30,40)\n",
    "print(type(t1))"
   ]
  },
  {
   "cell_type": "code",
   "execution_count": 13,
   "id": "3367a8e9",
   "metadata": {},
   "outputs": [
    {
     "name": "stdout",
     "output_type": "stream",
     "text": [
      "<class 'tuple'>\n"
     ]
    }
   ],
   "source": [
    "# tuple ()\n",
    "l12 = [10,20,30]\n",
    "t2 = tuple(l12)\n",
    "print(type(t2))"
   ]
  },
  {
   "cell_type": "code",
   "execution_count": 14,
   "id": "d625f1b9",
   "metadata": {},
   "outputs": [
    {
     "name": "stdout",
     "output_type": "stream",
     "text": [
      "20\n",
      "10\n"
     ]
    }
   ],
   "source": [
    "# By using index , we can acces element\n",
    "print(t2[1])\n",
    "print(t2[-3])\n"
   ]
  },
  {
   "cell_type": "code",
   "execution_count": 15,
   "id": "8ba3ce2b",
   "metadata": {},
   "outputs": [
    {
     "name": "stdout",
     "output_type": "stream",
     "text": [
      "(10, 20)\n"
     ]
    }
   ],
   "source": [
    "# Slice\n",
    "print(t2[0:2])"
   ]
  },
  {
   "cell_type": "code",
   "execution_count": 16,
   "id": "6361585d",
   "metadata": {},
   "outputs": [
    {
     "name": "stdout",
     "output_type": "stream",
     "text": [
      "(10, 20, 30, 40, 50, 60)\n"
     ]
    }
   ],
   "source": [
    "# +, * can be use\n",
    "t3 = (10,20,30,40)\n",
    "t4 = (50,60)\n",
    "t5 = t3 + t4\n",
    "print(t5)"
   ]
  },
  {
   "cell_type": "code",
   "execution_count": 17,
   "id": "a1b491f6",
   "metadata": {},
   "outputs": [
    {
     "name": "stdout",
     "output_type": "stream",
     "text": [
      "(50, 60, 50, 60, 50, 60)\n"
     ]
    }
   ],
   "source": [
    "t6 = (50,60)\n",
    "t7 = t6*3\n",
    "print(t7)"
   ]
  },
  {
   "cell_type": "code",
   "execution_count": null,
   "id": "2e65dd96",
   "metadata": {},
   "outputs": [],
   "source": [
    "# len(), count(),index(),sorted(), min(), max(), cmp()\n",
    "\n",
    "# Practice yourself"
   ]
  }
 ],
 "metadata": {
  "kernelspec": {
   "display_name": "Python 3 (ipykernel)",
   "language": "python",
   "name": "python3"
  },
  "language_info": {
   "codemirror_mode": {
    "name": "ipython",
    "version": 3
   },
   "file_extension": ".py",
   "mimetype": "text/x-python",
   "name": "python",
   "nbconvert_exporter": "python",
   "pygments_lexer": "ipython3",
   "version": "3.11.5"
  }
 },
 "nbformat": 4,
 "nbformat_minor": 5
}
