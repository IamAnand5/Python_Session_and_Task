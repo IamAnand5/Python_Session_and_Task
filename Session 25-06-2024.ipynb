{
 "cells": [
  {
   "cell_type": "markdown",
   "id": "6e1621e4",
   "metadata": {},
   "source": [
    "#### Special Operator\n",
    "* Identity operator\n",
    "* Membership operator"
   ]
  },
  {
   "cell_type": "code",
   "execution_count": 20,
   "id": "67682501",
   "metadata": {},
   "outputs": [
    {
     "name": "stdout",
     "output_type": "stream",
     "text": [
      "False\n"
     ]
    }
   ],
   "source": [
    "# Identity operator (is, is not)\n",
    "# range is from -5 to 256\n",
    "a = 210\n",
    "b = 210\n",
    "print(a is not b)"
   ]
  },
  {
   "cell_type": "code",
   "execution_count": 17,
   "id": "02383a0e",
   "metadata": {},
   "outputs": [
    {
     "name": "stdout",
     "output_type": "stream",
     "text": [
      "False\n"
     ]
    }
   ],
   "source": [
    "a = 270\n",
    "b = 270\n",
    "print(a is b)   # because the range is greater than 256"
   ]
  },
  {
   "cell_type": "code",
   "execution_count": 21,
   "id": "ebc78b24",
   "metadata": {},
   "outputs": [
    {
     "name": "stdout",
     "output_type": "stream",
     "text": [
      "140712646847816\n"
     ]
    }
   ],
   "source": [
    "print(id(a))   # id of a and b is same because both will store same values"
   ]
  },
  {
   "cell_type": "code",
   "execution_count": 22,
   "id": "ce148341",
   "metadata": {},
   "outputs": [
    {
     "name": "stdout",
     "output_type": "stream",
     "text": [
      "140712646847816\n"
     ]
    }
   ],
   "source": [
    "print(id(b))"
   ]
  },
  {
   "cell_type": "code",
   "execution_count": 25,
   "id": "15922a5e",
   "metadata": {},
   "outputs": [
    {
     "name": "stdout",
     "output_type": "stream",
     "text": [
      "True\n",
      "False\n",
      "True\n",
      "False\n"
     ]
    }
   ],
   "source": [
    "# Membership operator\n",
    "\n",
    "list1 = [\"Python\", \"Java\", \"C#\", \"JavaScript\"]\n",
    "print(\"Java\" in list1)\n",
    "print(\"C#\" not in list1)\n",
    "print('JavaScript' in list1)\n",
    "print(\"C\" in list1)"
   ]
  },
  {
   "cell_type": "markdown",
   "id": "048c0f23",
   "metadata": {},
   "source": [
    "####  Mathematical Function:\n",
    " import math\n",
    " print(math.sqrt(16))\n",
    " \n",
    " from math import sqrt,pi\n",
    " print(sqrt(16))\n",
    " \n",
    " import math as m\n",
    "  print(m.sqrt(16))"
   ]
  },
  {
   "cell_type": "code",
   "execution_count": 26,
   "id": "ee6b2767",
   "metadata": {},
   "outputs": [
    {
     "name": "stdout",
     "output_type": "stream",
     "text": [
      "4.0\n"
     ]
    }
   ],
   "source": [
    "import math\n",
    "print(math.sqrt(16))"
   ]
  },
  {
   "cell_type": "code",
   "execution_count": 27,
   "id": "af9f501e",
   "metadata": {},
   "outputs": [
    {
     "name": "stdout",
     "output_type": "stream",
     "text": [
      "4.0\n"
     ]
    }
   ],
   "source": [
    "import math as m\n",
    "print(m.sqrt(16))"
   ]
  },
  {
   "cell_type": "code",
   "execution_count": 29,
   "id": "b6159cfc",
   "metadata": {},
   "outputs": [
    {
     "name": "stdout",
     "output_type": "stream",
     "text": [
      "4.0\n",
      "3.141592653589793\n"
     ]
    }
   ],
   "source": [
    "from math import sqrt, pi\n",
    "print(sqrt(16))\n",
    "print(pi)"
   ]
  },
  {
   "cell_type": "code",
   "execution_count": 30,
   "id": "758e73f0",
   "metadata": {},
   "outputs": [
    {
     "name": "stdout",
     "output_type": "stream",
     "text": [
      "Area of circle is:  78.53981633974483\n"
     ]
    }
   ],
   "source": [
    "# Write a program to find area of circle\n",
    "\n",
    "r = 5\n",
    "print(\"Area of circle is: \", pi*r**2)"
   ]
  },
  {
   "cell_type": "markdown",
   "id": "6cb2040b",
   "metadata": {},
   "source": [
    "##### Difference between raw_input() and input() is that there is no need to make type conversion in raw_input() whereas input() needs to convert its data type, e.g. if data type of a variable is string by default then it needs to be changed in int by type conversion while using input()."
   ]
  },
  {
   "cell_type": "code",
   "execution_count": 32,
   "id": "9d9d02c2",
   "metadata": {},
   "outputs": [
    {
     "name": "stdout",
     "output_type": "stream",
     "text": [
      "Enter value: 78\n",
      "<class 'str'>\n"
     ]
    }
   ],
   "source": [
    "# Dynamic input from the keyboard\n",
    "# Python 2 : raw_input() and input()\n",
    "# Python 3: input()\n",
    "\n",
    "a = input(\"Enter value: \")\n",
    "print(type(a))"
   ]
  },
  {
   "cell_type": "code",
   "execution_count": 33,
   "id": "c7344106",
   "metadata": {},
   "outputs": [
    {
     "name": "stdout",
     "output_type": "stream",
     "text": [
      "Enter value: 78\n",
      "<class 'int'>\n"
     ]
    }
   ],
   "source": [
    "a = int(input(\"Enter value: \"))\n",
    "print(type(a))"
   ]
  },
  {
   "cell_type": "code",
   "execution_count": 37,
   "id": "38a2b922",
   "metadata": {},
   "outputs": [
    {
     "name": "stdout",
     "output_type": "stream",
     "text": [
      "Enter the name: Anand\n",
      "Enter the emp Id: 111\n",
      "Enter the department: IT\n",
      "Enter the designation: SW\n",
      "Enter the salary: 150000\n",
      "Name: Anand \n",
      " Id: 111 \n",
      " Department: IT \n",
      " Designation: SW \n",
      " Salary: 150000\n"
     ]
    }
   ],
   "source": [
    "# Write a program to enter employee detail from the keyboard\n",
    "\n",
    "name = input('Enter the name: ')\n",
    "id = int(input('Enter the emp Id: '))\n",
    "dept = input(\"Enter the department: \")\n",
    "desg = input(\"Enter the designation: \")\n",
    "sal = input('Enter the salary: ')\n",
    "\n",
    "print(\"Name:\",name,\"\\n\", \"Id:\",id,\"\\n\",\"Department:\",dept,\"\\n\",'Designation:',desg,\"\\n\",'Salary:',sal)"
   ]
  },
  {
   "cell_type": "markdown",
   "id": "9067ada6",
   "metadata": {},
   "source": [
    "##### eval():\n",
    "eval functon take a String and evaluate the result in integer format\n",
    "eval() will evaluates the mathematical expression whether it we provide the experssion in the strings \n"
   ]
  },
  {
   "cell_type": "code",
   "execution_count": 38,
   "id": "43a4255a",
   "metadata": {},
   "outputs": [
    {
     "name": "stdout",
     "output_type": "stream",
     "text": [
      "24.0\n"
     ]
    }
   ],
   "source": [
    "# eval() will evaluates the mathematical expression whether it we provide the experssion in the strings\n",
    "\n",
    "a = eval('20 + 2*4/2')\n",
    "print(a)"
   ]
  },
  {
   "cell_type": "code",
   "execution_count": null,
   "id": "06aa6354",
   "metadata": {},
   "outputs": [],
   "source": []
  },
  {
   "cell_type": "code",
   "execution_count": null,
   "id": "248032dc",
   "metadata": {},
   "outputs": [],
   "source": []
  },
  {
   "cell_type": "markdown",
   "id": "1b8501e4",
   "metadata": {},
   "source": [
    "##### Output statements: print()"
   ]
  },
  {
   "cell_type": "code",
   "execution_count": 1,
   "id": "d387de9c",
   "metadata": {},
   "outputs": [
    {
     "name": "stdout",
     "output_type": "stream",
     "text": [
      "Hello \n",
      " World\n"
     ]
    }
   ],
   "source": [
    "#print()\n",
    "print(\"Hello \\n World\")"
   ]
  },
  {
   "cell_type": "code",
   "execution_count": 2,
   "id": "d9d4c6ec",
   "metadata": {},
   "outputs": [
    {
     "name": "stdout",
     "output_type": "stream",
     "text": [
      "HelloHelloHelloHelloHello\n"
     ]
    }
   ],
   "source": [
    "print('Hello'*5)"
   ]
  },
  {
   "cell_type": "code",
   "execution_count": 3,
   "id": "c6f795c5",
   "metadata": {},
   "outputs": [
    {
     "ename": "TypeError",
     "evalue": "can only concatenate str (not \"int\") to str",
     "output_type": "error",
     "traceback": [
      "\u001b[1;31m---------------------------------------------------------------------------\u001b[0m",
      "\u001b[1;31mTypeError\u001b[0m                                 Traceback (most recent call last)",
      "Cell \u001b[1;32mIn[3], line 1\u001b[0m\n\u001b[1;32m----> 1\u001b[0m \u001b[38;5;28mprint\u001b[39m(\u001b[38;5;124m'\u001b[39m\u001b[38;5;124mHello\u001b[39m\u001b[38;5;124m'\u001b[39m\u001b[38;5;241m+\u001b[39m\u001b[38;5;241m5\u001b[39m)\n",
      "\u001b[1;31mTypeError\u001b[0m: can only concatenate str (not \"int\") to str"
     ]
    }
   ],
   "source": [
    "print('Hello'+5)    #error due to unmatched data types"
   ]
  },
  {
   "cell_type": "code",
   "execution_count": 4,
   "id": "7049c4ca",
   "metadata": {},
   "outputs": [
    {
     "name": "stdout",
     "output_type": "stream",
     "text": [
      "Helloworld\n"
     ]
    }
   ],
   "source": [
    "print('Hello'+\"world\")"
   ]
  },
  {
   "cell_type": "code",
   "execution_count": 5,
   "id": "c221c2f6",
   "metadata": {},
   "outputs": [
    {
     "name": "stdout",
     "output_type": "stream",
     "text": [
      "9\n"
     ]
    }
   ],
   "source": [
    "print(4+5)"
   ]
  },
  {
   "cell_type": "code",
   "execution_count": 6,
   "id": "ff29ce77",
   "metadata": {},
   "outputs": [
    {
     "name": "stdout",
     "output_type": "stream",
     "text": [
      "The values are: 2 4 7\n"
     ]
    }
   ],
   "source": [
    "a,b,c = 2,4,7\n",
    "print('The values are:',a,b,c)    # press shift + tab to see the documentation"
   ]
  },
  {
   "cell_type": "code",
   "execution_count": 7,
   "id": "782d1f4f",
   "metadata": {},
   "outputs": [
    {
     "name": "stdout",
     "output_type": "stream",
     "text": [
      "The values are:,2,4,7\n"
     ]
    }
   ],
   "source": [
    "#inputting separator\n",
    "a,b,c = 2,4,7\n",
    "print('The values are:',a,b,c, sep= \",\")"
   ]
  },
  {
   "cell_type": "code",
   "execution_count": 8,
   "id": "e9a267df",
   "metadata": {},
   "outputs": [
    {
     "name": "stdout",
     "output_type": "stream",
     "text": [
      "Hello python "
     ]
    }
   ],
   "source": [
    "print('Hello',end=' ')\n",
    "print('python',end=' ')"
   ]
  },
  {
   "cell_type": "code",
   "execution_count": 10,
   "id": "21aa8b3d",
   "metadata": {},
   "outputs": [
    {
     "name": "stdout",
     "output_type": "stream",
     "text": [
      "Language Python Experience 4 Company SW\n"
     ]
    }
   ],
   "source": [
    "language = \"Python\"\n",
    "experience = 4\n",
    "company = 'SW'\n",
    "print('Language',language,'Experience',experience,\"Company\",company)"
   ]
  },
  {
   "cell_type": "code",
   "execution_count": 13,
   "id": "fc572ef5",
   "metadata": {},
   "outputs": [
    {
     "name": "stdout",
     "output_type": "stream",
     "text": [
      "Company is sw and salary is 10000.500000 and experience is 5\n"
     ]
    }
   ],
   "source": [
    "#%i = int, %d = int, %s = string, %f = float\n",
    "exp = 5\n",
    "comp = 'sw'\n",
    "sal = 10000.50\n",
    "print('Company is %s and salary is %f and experience is %d'%(comp, sal, exp))"
   ]
  },
  {
   "cell_type": "markdown",
   "id": "69b607d6",
   "metadata": {},
   "source": [
    "#### Control Statements\n",
    "if, if-elif, if-elif-else\n",
    "#### Transfer statements\n",
    "break, continue, pass\n",
    "#### Iterative statements\n",
    "for, while\n"
   ]
  },
  {
   "cell_type": "code",
   "execution_count": 15,
   "id": "73902e13",
   "metadata": {},
   "outputs": [
    {
     "name": "stdout",
     "output_type": "stream",
     "text": [
      "Enter company namesw\n",
      "Top fortune 500 company\n",
      "Mid level company\n"
     ]
    }
   ],
   "source": [
    "# conditional statements\n",
    "\n",
    "company_name = input('Enter company name')\n",
    "if company_name == 'sw':\n",
    "    print('Top fortune 500 company')\n",
    "print(\"Mid level company\")"
   ]
  },
  {
   "cell_type": "code",
   "execution_count": 19,
   "id": "70e482c9",
   "metadata": {},
   "outputs": [
    {
     "name": "stdout",
     "output_type": "stream",
     "text": [
      "Enter company namesw\n",
      "Top fortune 500 company\n"
     ]
    }
   ],
   "source": [
    "company_name1 = input('Enter company name')\n",
    "if company_name1 == 'sw':\n",
    "    print('Top fortune 500 company')\n",
    "else:\n",
    "    print(\"Mid level company\")"
   ]
  },
  {
   "cell_type": "code",
   "execution_count": 21,
   "id": "8ec1eccd",
   "metadata": {},
   "outputs": [
    {
     "name": "stdout",
     "output_type": "stream",
     "text": [
      "Enter company namefacebook\n",
      "Top 100 fortune company\n"
     ]
    }
   ],
   "source": [
    "company_name2 = input('Enter company name')\n",
    "if company_name2 == 'sw':\n",
    "    print('Top fortune 500 company')\n",
    "elif company_name2 == 'facebook':\n",
    "    print('Top 100 fortune company')\n",
    "else:\n",
    "    print(\"Mid level company\")"
   ]
  },
  {
   "cell_type": "code",
   "execution_count": 39,
   "id": "fb443923",
   "metadata": {},
   "outputs": [
    {
     "name": "stdout",
     "output_type": "stream",
     "text": [
      "Enter number1:25\n",
      "Enter number2:85\n",
      "Number2 is biggest\n"
     ]
    }
   ],
   "source": [
    "#write a program to find biggest of given 2 numbers\n",
    "\n",
    "num1 = int(input(\"Enter number1:\"))\n",
    "num2 = int(input('Enter number2:'))\n",
    "\n",
    "if (num1>num2):\n",
    "    print(\"Number1 is biggest\")\n",
    "else:\n",
    "    print('Number2 is biggest')"
   ]
  },
  {
   "cell_type": "code",
   "execution_count": 41,
   "id": "58d90a47",
   "metadata": {},
   "outputs": [
    {
     "name": "stdout",
     "output_type": "stream",
     "text": [
      "Enter number1:85\n",
      "Enter number2:45\n",
      "Enter number3:71\n",
      "Number1 is biggest\n"
     ]
    }
   ],
   "source": [
    "#write a program to find biggest of given three numbers\n",
    "\n",
    "num1 = int(input(\"Enter number1:\"))\n",
    "num2 = int(input('Enter number2:'))\n",
    "num3 = int(input('Enter number3:'))\n",
    "\n",
    "if (num1>num2) and (num1>num3):\n",
    "    print(\"Number1 is biggest\")\n",
    "\n",
    "elif (num2>num1) and (num2>num3):\n",
    "    print(\"Number2 is biggest\")\n",
    "else:\n",
    "    print('Number3 is biggest')"
   ]
  },
  {
   "cell_type": "code",
   "execution_count": 45,
   "id": "4d2c4693",
   "metadata": {},
   "outputs": [
    {
     "name": "stdout",
     "output_type": "stream",
     "text": [
      "Enter number:25\n",
      "Number is between 20 and 50\n"
     ]
    }
   ],
   "source": [
    "#write a program to check whether the given number is in between 20 to 50\n",
    "\n",
    "num = int(input(\"Enter number:\"))\n",
    "\n",
    "if (num>=20) and (num<=50):\n",
    "    print(\"Number is between 20 and 50\")\n",
    "\n",
    "else:\n",
    "    print('Number is out of index')"
   ]
  },
  {
   "cell_type": "code",
   "execution_count": 49,
   "id": "098ce2bd",
   "metadata": {},
   "outputs": [
    {
     "name": "stdout",
     "output_type": "stream",
     "text": [
      "Enter a single digit:11\n",
      "B.B..Bye!!\n"
     ]
    }
   ],
   "source": [
    "# write a program to take a single digit number from the keyboard and print its english word\n",
    "\n",
    "digit = int(input('Enter a single digit:'))\n",
    "\n",
    "if (digit == 1):\n",
    "    print('One')\n",
    "elif(digit == 2):\n",
    "    print('Two')\n",
    "elif (digit == 3):\n",
    "    print('Three')\n",
    "elif(digit == 4):\n",
    "    print('Four')\n",
    "elif (digit == 5):\n",
    "    print('Five')\n",
    "elif(digit == 6):\n",
    "    print('Six')\n",
    "elif (digit == 7):\n",
    "    print('Seven')\n",
    "elif(digit == 8):\n",
    "    print('Eight')\n",
    "elif (digit == 9):\n",
    "    print('Nine')\n",
    "else:\n",
    "    print('B.B..Bye!!')"
   ]
  },
  {
   "cell_type": "code",
   "execution_count": null,
   "id": "73402db9",
   "metadata": {},
   "outputs": [],
   "source": []
  },
  {
   "cell_type": "code",
   "execution_count": null,
   "id": "1e6ca8d2",
   "metadata": {},
   "outputs": [],
   "source": []
  }
 ],
 "metadata": {
  "kernelspec": {
   "display_name": "Python 3 (ipykernel)",
   "language": "python",
   "name": "python3"
  },
  "language_info": {
   "codemirror_mode": {
    "name": "ipython",
    "version": 3
   },
   "file_extension": ".py",
   "mimetype": "text/x-python",
   "name": "python",
   "nbconvert_exporter": "python",
   "pygments_lexer": "ipython3",
   "version": "3.11.5"
  }
 },
 "nbformat": 4,
 "nbformat_minor": 5
}
