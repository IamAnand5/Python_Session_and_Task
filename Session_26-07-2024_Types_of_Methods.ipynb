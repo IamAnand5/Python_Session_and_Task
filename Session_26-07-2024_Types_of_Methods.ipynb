{
 "cells": [
  {
   "cell_type": "markdown",
   "id": "8f3233af",
   "metadata": {},
   "source": [
    "Types of Methods:\n",
    "Instance Methods\n",
    "Class methods\n",
    "Static Methods\n",
    "\n",
    "Instance Methods:\n",
    "We can use instance variables inside the instance methods implementation\n",
    "We have to pass self variable\n",
    "We can access instance variable inside the instance method by using the self variable\n",
    "We can call instance method by using self variable inside the class and use object from outside the class\n",
    "\n",
    "Setter and Getter Methods:\n",
    "We can set and get the values of instance variables by using getter and setter methods\n",
    "\n",
    "Setter Methods:\n",
    "    Setter methods can be used to set the values of instance variables. It also called Mutator methods\n",
    "Syntax:\n",
    "      def  setVariableName(self, variableName):\n",
    "\t\tself.variableName = variableName\n",
    "\n",
    "Getter Method:\n",
    "\tGetter Methods can be used to get values of the instance variables. It also called accessor methods\n",
    "Syntax:\n",
    "        def  getVariableName(self):\n",
    "\treturn self.variableName\n",
    "\n",
    "\n",
    "Class Methods:\n",
    "Inside method implementation if we are using only class variables(static variables), then such type of methods we called class method.\n",
    "WE can declare class method explicitly by using @classmethod decorator.\n",
    "We should provide cls variable at the time of declaration\n",
    "We can call classmethod by using classname or object reference variable.\n",
    "\n",
    "Static methods:\n",
    "These methods are generally utility methods.\n",
    "These methods we won’t use any instance or class variables\n",
    "We won’t provide self or cls arguments at the time of declaration.\n",
    "We can declare static method explicitly by using @staticmethod decorator.\n",
    "We can access static methods by using classname or object reference.\n"
   ]
  },
  {
   "cell_type": "code",
   "execution_count": 1,
   "id": "19d9bcec",
   "metadata": {},
   "outputs": [
    {
     "name": "stdout",
     "output_type": "stream",
     "text": [
      "Enter number of students:1\n",
      "Enter Name:k\n",
      "Enter Marks45\n",
      "Hi k\n",
      "Your Marks are : 45\n",
      "Your got Third Grade\n",
      "\n"
     ]
    }
   ],
   "source": [
    "class Student:\n",
    "    def __init__(self,name,marks):\n",
    "        self.name = name\n",
    "        self.marks = marks\n",
    "    def display(self):\n",
    "        print('Hi', self.name)\n",
    "        print('Your Marks are :',self.marks)\n",
    "    def grade(self):\n",
    "        if self.marks >=60:\n",
    "            print(\"You got First Grade\")\n",
    "        elif self.marks>=50:\n",
    "            print(\"You got Second Grade\")\n",
    "        elif self.marks>=35:\n",
    "            print('Your got Third Grade')\n",
    "        else:\n",
    "            print('You are Failed')\n",
    "\n",
    "n = int(input('Enter number of students:'))\n",
    "for i in range(n):\n",
    "    name = input(\"Enter Name:\")\n",
    "    marks = int(input('Enter Marks'))\n",
    "    s= Student(name,marks)\n",
    "    s.display()\n",
    "    s.grade()\n",
    "    print()"
   ]
  },
  {
   "cell_type": "code",
   "execution_count": 2,
   "id": "63c2bbcd",
   "metadata": {},
   "outputs": [
    {
     "name": "stdout",
     "output_type": "stream",
     "text": [
      "Enter number of students:1\n",
      "Enter Name:l\n",
      "Enter Marks87\n",
      "Hi l\n",
      "Your marks are:  87\n",
      "\n"
     ]
    }
   ],
   "source": [
    "class Student1:\n",
    "    def setName(self,name):\n",
    "        self.name = name\n",
    "    def getName(self):\n",
    "        return self.name\n",
    "    def setMarks(self, marks):\n",
    "        self.marks = marks\n",
    "    def getMarks(self):\n",
    "        return self.marks\n",
    "    \n",
    "n = int(input('Enter number of students:'))\n",
    "for i in range(n):\n",
    "    s = Student1()\n",
    "    name = input('Enter Name:')\n",
    "    s.setName(name)\n",
    "    marks = int(input('Enter Marks'))\n",
    "    s.setMarks(marks)\n",
    "    \n",
    "    print('Hi', s.getName())\n",
    "    print('Your marks are: ',s.getMarks())\n",
    "    print()"
   ]
  },
  {
   "cell_type": "code",
   "execution_count": 1,
   "id": "0fcbbe7d",
   "metadata": {},
   "outputs": [],
   "source": [
    "# write a program to count number of objects in a class\n",
    "\n",
    "class ObjectCount:\n",
    "    counter = 0\n",
    "    \n",
    "    def __init__(self):\n",
    "        "
   ]
  },
  {
   "cell_type": "markdown",
   "id": "49641f05",
   "metadata": {},
   "source": [
    "#### Self: Self is reference to the current instance of the class. It is used to access the variable that belongs to that class."
   ]
  },
  {
   "cell_type": "code",
   "execution_count": 48,
   "id": "6537723f",
   "metadata": {},
   "outputs": [
    {
     "name": "stdout",
     "output_type": "stream",
     "text": [
      "****Class One Start****\n",
      "\n",
      "I am a constructor of class 2\n",
      "I am an instance method of class 2\n",
      "\n",
      "I am a constructor of class 1\n",
      "I am an instance method of class 1\n",
      "I am a class method of class 1\n",
      "I am a static method of class 1\n",
      "\n",
      " ****Class Two Start****\n",
      "\n",
      "I am a constructor of class 2\n",
      "I am an instance method of class 2\n",
      "I am a class method of class 2\n",
      "I am a static method of class 2\n"
     ]
    }
   ],
   "source": [
    "# write a program to access the members of one class to another class\n",
    "\n",
    "\n",
    "class One:\n",
    "    print('****Class One Start****')\n",
    "    def __init__(self):\n",
    "        self.obj = Two()\n",
    "        self.obj = Two.method2(self)\n",
    "        \n",
    "        print('\\nI am a constructor of class 1')\n",
    "        \n",
    "    def method1(self):\n",
    "        print(\"I am an instance method of class 1\")\n",
    "        \n",
    "    @classmethod\n",
    "    def clsmethod1(cls):\n",
    "        print('I am a class method of class 1')\n",
    "        \n",
    "    @staticmethod\n",
    "    def stmethod1():\n",
    "        print('I am a static method of class 1')\n",
    "        \n",
    "class Two:\n",
    "    \n",
    "    def __init__(self):\n",
    "#         self.obj = One()\n",
    "#         self.obj = One.method1(self)\n",
    "        \n",
    "        print('\\nI am a constructor of class 2')\n",
    "        \n",
    "     \n",
    "    def method2(self):\n",
    "    \n",
    "        print(\"I am an instance method of class 2\")\n",
    "        \n",
    "    @classmethod\n",
    "    def clsmethod2(cls):\n",
    "        print('I am a class method of class 2')\n",
    "        \n",
    "    @staticmethod\n",
    "    def stmethod2():\n",
    "        print('I am a static method of class 2')\n",
    "        \n",
    "obj1 = One()\n",
    "obj1.method1()\n",
    "One.clsmethod1()\n",
    "One.stmethod1()\n",
    "\n",
    "print(\"\\n ****Class Two Start****\")\n",
    "\n",
    "obj2 = Two()\n",
    "obj2.method2()\n",
    "obj2.clsmethod2()\n",
    "obj2.stmethod2()\n"
   ]
  },
  {
   "cell_type": "code",
   "execution_count": null,
   "id": "6253670d",
   "metadata": {},
   "outputs": [],
   "source": []
  }
 ],
 "metadata": {
  "kernelspec": {
   "display_name": "Python 3 (ipykernel)",
   "language": "python",
   "name": "python3"
  },
  "language_info": {
   "codemirror_mode": {
    "name": "ipython",
    "version": 3
   },
   "file_extension": ".py",
   "mimetype": "text/x-python",
   "name": "python",
   "nbconvert_exporter": "python",
   "pygments_lexer": "ipython3",
   "version": "3.11.5"
  }
 },
 "nbformat": 4,
 "nbformat_minor": 5
}
