{
 "cells": [
  {
   "cell_type": "markdown",
   "id": "07fe56d1",
   "metadata": {},
   "source": [
    "#### String :\n",
    "Sequence of characters is called string\n",
    "eg. s = \"Python\"\n",
    "\n",
    "s = 'a'\n",
    "\n",
    "eg. s1 = ''' This is Python class.\n",
    "Also we cover OOPs topic'''\n",
    "\n",
    "\n",
    "String :\n",
    "sequence of characters is called string\n",
    "eg. s = \"Python\"\n",
    "\n",
    "s = 'a'\n",
    "\n",
    "eg. s1 = ''' This is the ML classes.\n",
    "Also we cover AI topic'''\n",
    "\n",
    "s1 = ' this is a 'ML class' -- Invalid\n",
    "\n",
    "s2 = ' This is \\' ML class' -- \n",
    "\n",
    "S3 = \" This is ' ML class\"  -- \n",
    "\n",
    "s4 = ' This is \" ML class'  --\n",
    "\n",
    "Access characters of String:\n",
    "- By index\n",
    "- By Slicing\n",
    "\n",
    "\n",
    "- By index\n",
    "\n",
    "- s1 = \"Python\"\n",
    "\n",
    "s[3]  ---> h\n",
    "\n",
    "s[-2] ----> o\n",
    "\n",
    "s[-7] --> index out of range\n",
    "\n",
    "\n",
    "- By Slicing\n",
    "- Begin index: From where we have to consider slice(substring)\n",
    "- End Index: We have to terminate the slice at endindex - 1\n",
    "- step: Incremented value\n",
    "\n",
    "s1 = \"Python\"\n",
    "\n",
    "s1[1:3:1]  - yt\n",
    "\n",
    "s1[0:6:2]  - Pto\n",
    "\n",
    "Mathematical operators for String:\n",
    "\n",
    "+ for concatenation\n",
    "\n",
    "* for repitation\n",
    "  \n",
    " print(\"Python\" + \"Classes\")  \n",
    " print(\"Python\" * 4)\n",
    "\n",
    "\n",
    "Membership operator:\n",
    "\n",
    "s3 = \"Python classes\"\n",
    "\n",
    "print('o' in s3)\n",
    "\n",
    "print('f' in s3)\n",
    " \n",
    "Compare two strings:\n",
    "\n",
    "s1 = \"Python\"\n",
    "\n",
    "s2 = \"Java\"\n",
    "\n",
    "s1 == s2\n",
    "\n",
    "s1<s2\n",
    "\n",
    "\n",
    "Removing spaces from the String:\n",
    "      \n",
    "- rstrip() - to remove spaces at the right hand side\n",
    "      \n",
    "- lstrip()  - remove spaces at left hand side\n",
    "      \n",
    "- strip() - remove spaces both sides\n",
    "\n",
    "Substrings:\n",
    "\n",
    " - forward direction\n",
    "    \n",
    "      - find()\n",
    "\t\n",
    "      - index()\n",
    " - backward direction \n",
    "    \n",
    "      - rfind()\n",
    "      \n",
    "\t- rindex()"
   ]
  },
  {
   "cell_type": "code",
   "execution_count": 1,
   "id": "8776d067",
   "metadata": {},
   "outputs": [
    {
     "name": "stdout",
     "output_type": "stream",
     "text": [
      "This is ' Python class\n",
      "this is ' Python class\n",
      "this is \"Python class\n"
     ]
    }
   ],
   "source": [
    "#s = 'This is 'Python class'  will produce error\n",
    "s1 = 'This is \\' Python class'\n",
    "s2 = \"this is ' Python class\"\n",
    "s3 = 'this is \"Python class'\n",
    "\n",
    "print(s1)\n",
    "print(s2)\n",
    "print(s3)"
   ]
  },
  {
   "cell_type": "markdown",
   "id": "85b44f20",
   "metadata": {},
   "source": [
    "### Slicing a string (Special cases)"
   ]
  },
  {
   "cell_type": "code",
   "execution_count": 19,
   "id": "ec0156d2",
   "metadata": {},
   "outputs": [
    {
     "name": "stdout",
     "output_type": "stream",
     "text": [
      "t\n",
      "h\n",
      "Python\n",
      "ython\n",
      "Python\n"
     ]
    },
    {
     "ename": "IndexError",
     "evalue": "string index out of range",
     "output_type": "error",
     "traceback": [
      "\u001b[1;31m---------------------------------------------------------------------------\u001b[0m",
      "\u001b[1;31mIndexError\u001b[0m                                Traceback (most recent call last)",
      "Cell \u001b[1;32mIn[19], line 10\u001b[0m\n\u001b[0;32m      7\u001b[0m \u001b[38;5;28mprint\u001b[39m(s4[\u001b[38;5;241m1\u001b[39m:])\n\u001b[0;32m      8\u001b[0m \u001b[38;5;28mprint\u001b[39m(s4[:\u001b[38;5;241m55\u001b[39m])\n\u001b[1;32m---> 10\u001b[0m \u001b[38;5;28mprint\u001b[39m(s4[\u001b[38;5;241m-\u001b[39m\u001b[38;5;241m7\u001b[39m])\n",
      "\u001b[1;31mIndexError\u001b[0m: string index out of range"
     ]
    }
   ],
   "source": [
    "s4 = \"Python\"\n",
    "print(s4[2])\n",
    "print(s4[-3])\n",
    "\n",
    "\n",
    "print(s4[:])\n",
    "print(s4[1:])\n",
    "print(s4[:55])\n",
    "\n",
    "print(s4[-7])\n"
   ]
  },
  {
   "cell_type": "code",
   "execution_count": 11,
   "id": "88c6439f",
   "metadata": {},
   "outputs": [
    {
     "data": {
      "text/plain": [
       "'yt'"
      ]
     },
     "execution_count": 11,
     "metadata": {},
     "output_type": "execute_result"
    }
   ],
   "source": [
    "s5 = \"Python\"    # here 1:3:1 means it works normally as 1:3 work\n",
    "s5[1:3:1]"
   ]
  },
  {
   "cell_type": "code",
   "execution_count": 20,
   "id": "baf16dbe",
   "metadata": {},
   "outputs": [
    {
     "data": {
      "text/plain": [
       "'Pto'"
      ]
     },
     "execution_count": 20,
     "metadata": {},
     "output_type": "execute_result"
    }
   ],
   "source": [
    "s5[0:6:2]"
   ]
  },
  {
   "cell_type": "code",
   "execution_count": 21,
   "id": "d41c138b",
   "metadata": {},
   "outputs": [
    {
     "data": {
      "text/plain": [
       "'nohtyP'"
      ]
     },
     "execution_count": 21,
     "metadata": {},
     "output_type": "execute_result"
    }
   ],
   "source": [
    "s5[::-1]"
   ]
  },
  {
   "cell_type": "code",
   "execution_count": 22,
   "id": "3f32a044",
   "metadata": {},
   "outputs": [
    {
     "data": {
      "text/plain": [
       "'Python'"
      ]
     },
     "execution_count": 22,
     "metadata": {},
     "output_type": "execute_result"
    }
   ],
   "source": [
    "s5[::]"
   ]
  },
  {
   "cell_type": "code",
   "execution_count": 23,
   "id": "ab51851a",
   "metadata": {},
   "outputs": [
    {
     "name": "stdout",
     "output_type": "stream",
     "text": [
      "Python Classes\n"
     ]
    }
   ],
   "source": [
    "print(\"Python \" + \"Classes\")"
   ]
  },
  {
   "cell_type": "code",
   "execution_count": 25,
   "id": "6e9e5ee0",
   "metadata": {},
   "outputs": [
    {
     "name": "stdout",
     "output_type": "stream",
     "text": [
      "Python Python Python Python \n"
     ]
    }
   ],
   "source": [
    "print(\"Python \" * 4)"
   ]
  },
  {
   "cell_type": "code",
   "execution_count": 29,
   "id": "d4d1c02e",
   "metadata": {},
   "outputs": [
    {
     "name": "stdout",
     "output_type": "stream",
     "text": [
      "14\n"
     ]
    }
   ],
   "source": [
    "s6 = \"Python classes\"\n",
    "print(len(s6))"
   ]
  },
  {
   "cell_type": "code",
   "execution_count": 30,
   "id": "2a8872c8",
   "metadata": {},
   "outputs": [
    {
     "name": "stdout",
     "output_type": "stream",
     "text": [
      "True\n",
      "False\n"
     ]
    }
   ],
   "source": [
    "print(\"o\" in s6)\n",
    "print('f' in s6)"
   ]
  },
  {
   "cell_type": "code",
   "execution_count": 31,
   "id": "7cb63b3a",
   "metadata": {},
   "outputs": [
    {
     "name": "stdout",
     "output_type": "stream",
     "text": [
      "s7 is less than s8\n"
     ]
    }
   ],
   "source": [
    "s7 = 'Java'\n",
    "s8 = 'Python'\n",
    "\n",
    "if s7 == s8:\n",
    "    print('Both are equal')\n",
    "elif s7<s8:\n",
    "    print(\"s7 is less than s8\")"
   ]
  },
  {
   "cell_type": "code",
   "execution_count": 32,
   "id": "25f26a01",
   "metadata": {},
   "outputs": [
    {
     "name": "stdout",
     "output_type": "stream",
     "text": [
      "Python\n"
     ]
    }
   ],
   "source": [
    "s9 = \"    Python    \"\n",
    "print(s9.strip())"
   ]
  },
  {
   "cell_type": "code",
   "execution_count": 33,
   "id": "14cba9e0",
   "metadata": {},
   "outputs": [
    {
     "name": "stdout",
     "output_type": "stream",
     "text": [
      "0\n",
      "-1\n",
      "8\n",
      "17\n",
      "17\n"
     ]
    }
   ],
   "source": [
    "# find ()-: always returns the only first index of the given substring, returs -1 if no substring is present in the string\n",
    "s5 = \"Python is very easy\"\n",
    "print(s5.find(\"Python\")) #0\n",
    "print(s5.find(\"Java\"))  # returns index -1 if word is not present in the string\n",
    "print(s5.find(\"s\"))    #8\n",
    "print(s5.rfind(\"s\"))   #17\n",
    "print(s5.find(\"s\",9,18)) #17"
   ]
  },
  {
   "cell_type": "code",
   "execution_count": 3,
   "id": "88e6a758",
   "metadata": {},
   "outputs": [
    {
     "name": "stdout",
     "output_type": "stream",
     "text": [
      "Enter main string:I am good boy\n",
      "Enter sub string:boy\n",
      "substring found\n"
     ]
    }
   ],
   "source": [
    "# index()- its same as find() but if we specify substring which is not available in the main string then we will get valueerror\n",
    "\n",
    "s7 = input(\"Enter main string:\")\n",
    "subs = input(\"Enter sub string:\")\n",
    "try:\n",
    "    n = s7.index(subs)\n",
    "except ValueError:\n",
    "    print(\"sub string not found\")\n",
    "else:\n",
    "    print(\"substring found\")"
   ]
  },
  {
   "cell_type": "code",
   "execution_count": null,
   "id": "f002c6a6",
   "metadata": {},
   "outputs": [],
   "source": []
  }
 ],
 "metadata": {
  "kernelspec": {
   "display_name": "Python 3 (ipykernel)",
   "language": "python",
   "name": "python3"
  },
  "language_info": {
   "codemirror_mode": {
    "name": "ipython",
    "version": 3
   },
   "file_extension": ".py",
   "mimetype": "text/x-python",
   "name": "python",
   "nbconvert_exporter": "python",
   "pygments_lexer": "ipython3",
   "version": "3.11.5"
  }
 },
 "nbformat": 4,
 "nbformat_minor": 5
}
