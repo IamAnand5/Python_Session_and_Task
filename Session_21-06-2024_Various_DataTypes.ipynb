{
 "cells": [
  {
   "cell_type": "markdown",
   "id": "53228e02",
   "metadata": {},
   "source": [
    "### List, Range, Tuple, Set, Dictionary Data Types"
   ]
  },
  {
   "cell_type": "markdown",
   "id": "eb2bb401",
   "metadata": {},
   "source": [
    "### List Data Type and it methods"
   ]
  },
  {
   "cell_type": "code",
   "execution_count": 6,
   "id": "9194c280",
   "metadata": {},
   "outputs": [
    {
     "name": "stdout",
     "output_type": "stream",
     "text": [
      "<class 'bytes'>\n"
     ]
    }
   ],
   "source": [
    "a1 = [4,5,6,8]\n",
    "b1 = bytes(a1)\n",
    "type(b1)\n",
    "print(type(b1))"
   ]
  },
  {
   "cell_type": "code",
   "execution_count": 7,
   "id": "faca8c91",
   "metadata": {},
   "outputs": [
    {
     "data": {
      "text/plain": [
       "5"
      ]
     },
     "execution_count": 7,
     "metadata": {},
     "output_type": "execute_result"
    }
   ],
   "source": [
    "b1[1]"
   ]
  },
  {
   "cell_type": "code",
   "execution_count": 8,
   "id": "0ad89511",
   "metadata": {},
   "outputs": [
    {
     "data": {
      "text/plain": [
       "6"
      ]
     },
     "execution_count": 8,
     "metadata": {},
     "output_type": "execute_result"
    }
   ],
   "source": [
    "b1[-2]"
   ]
  },
  {
   "cell_type": "code",
   "execution_count": 10,
   "id": "65844697",
   "metadata": {},
   "outputs": [
    {
     "name": "stdout",
     "output_type": "stream",
     "text": [
      "in loop\n",
      "4\n",
      "in loop\n",
      "5\n",
      "in loop\n",
      "6\n",
      "in loop\n",
      "8\n",
      "out of loop\n"
     ]
    }
   ],
   "source": [
    "for i in b1:\n",
    "    print('in loop')\n",
    "    print(i)\n",
    "print('out of loop')"
   ]
  },
  {
   "cell_type": "code",
   "execution_count": 11,
   "id": "b5aa8ecd",
   "metadata": {},
   "outputs": [
    {
     "ename": "TypeError",
     "evalue": "'bytes' object does not support item assignment",
     "output_type": "error",
     "traceback": [
      "\u001b[1;31m---------------------------------------------------------------------------\u001b[0m",
      "\u001b[1;31mTypeError\u001b[0m                                 Traceback (most recent call last)",
      "Cell \u001b[1;32mIn[11], line 1\u001b[0m\n\u001b[1;32m----> 1\u001b[0m b1[\u001b[38;5;241m1\u001b[39m] \u001b[38;5;241m=\u001b[39m \u001b[38;5;241m222\u001b[39m\n",
      "\u001b[1;31mTypeError\u001b[0m: 'bytes' object does not support item assignment"
     ]
    }
   ],
   "source": [
    "b1[1] = 222"
   ]
  },
  {
   "cell_type": "code",
   "execution_count": 13,
   "id": "e391c664",
   "metadata": {},
   "outputs": [
    {
     "data": {
      "text/plain": [
       "bytearray"
      ]
     },
     "execution_count": 13,
     "metadata": {},
     "output_type": "execute_result"
    }
   ],
   "source": [
    "a2 = [2,4,5,6,7]\n",
    "b2 = bytearray(a2)\n",
    "type(b2)"
   ]
  },
  {
   "cell_type": "code",
   "execution_count": 14,
   "id": "c3f766bb",
   "metadata": {},
   "outputs": [
    {
     "name": "stdout",
     "output_type": "stream",
     "text": [
      "2\n",
      "4\n",
      "5\n",
      "6\n",
      "7\n"
     ]
    }
   ],
   "source": [
    "for i in b2:\n",
    "    print(i)"
   ]
  },
  {
   "cell_type": "code",
   "execution_count": 15,
   "id": "72acfea3",
   "metadata": {},
   "outputs": [
    {
     "name": "stdout",
     "output_type": "stream",
     "text": [
      "2\n",
      "4\n",
      "111\n",
      "6\n",
      "7\n"
     ]
    }
   ],
   "source": [
    "b2[2] = 111\n",
    "for i in b2:\n",
    "    print(i)"
   ]
  },
  {
   "cell_type": "code",
   "execution_count": 16,
   "id": "60d7afdb",
   "metadata": {},
   "outputs": [
    {
     "name": "stdout",
     "output_type": "stream",
     "text": [
      "[22, 54.4, True, 87, 'Python']\n"
     ]
    }
   ],
   "source": [
    "l1 = [22,54.4, True, 87, 'Python']\n",
    "print(l1)"
   ]
  },
  {
   "cell_type": "code",
   "execution_count": 17,
   "id": "0870f0f6",
   "metadata": {},
   "outputs": [
    {
     "data": {
      "text/plain": [
       "87"
      ]
     },
     "execution_count": 17,
     "metadata": {},
     "output_type": "execute_result"
    }
   ],
   "source": [
    "l1[3]"
   ]
  },
  {
   "cell_type": "code",
   "execution_count": 18,
   "id": "2f7f496a",
   "metadata": {},
   "outputs": [
    {
     "data": {
      "text/plain": [
       "54.4"
      ]
     },
     "execution_count": 18,
     "metadata": {},
     "output_type": "execute_result"
    }
   ],
   "source": [
    "l1[-4]"
   ]
  },
  {
   "cell_type": "code",
   "execution_count": 19,
   "id": "75deb656",
   "metadata": {},
   "outputs": [
    {
     "data": {
      "text/plain": [
       "[54.4, True, 87, 'Python']"
      ]
     },
     "execution_count": 19,
     "metadata": {},
     "output_type": "execute_result"
    }
   ],
   "source": [
    "l1[1:5]"
   ]
  },
  {
   "cell_type": "code",
   "execution_count": 20,
   "id": "62cab7f7",
   "metadata": {},
   "outputs": [
    {
     "data": {
      "text/plain": [
       "[87, 'Python']"
      ]
     },
     "execution_count": 20,
     "metadata": {},
     "output_type": "execute_result"
    }
   ],
   "source": [
    "l1[-2:]"
   ]
  },
  {
   "cell_type": "code",
   "execution_count": 30,
   "id": "cadc9eb3",
   "metadata": {},
   "outputs": [
    {
     "name": "stdout",
     "output_type": "stream",
     "text": [
      "22\n",
      "54.4\n",
      "True\n",
      "Python\n",
      "Student\n",
      "Student\n"
     ]
    }
   ],
   "source": [
    "for i in l1:\n",
    "    print(i)"
   ]
  },
  {
   "cell_type": "code",
   "execution_count": 35,
   "id": "06bf1928",
   "metadata": {},
   "outputs": [
    {
     "name": "stdout",
     "output_type": "stream",
     "text": [
      "[22, 54.4, True, 'Python', 'Student']\n"
     ]
    }
   ],
   "source": [
    "l1.append('Student')\n",
    "print(l1)"
   ]
  },
  {
   "cell_type": "code",
   "execution_count": 36,
   "id": "a0c35d6b",
   "metadata": {},
   "outputs": [
    {
     "name": "stdout",
     "output_type": "stream",
     "text": [
      "[54.4, True, 'Python', 'Student']\n"
     ]
    }
   ],
   "source": [
    "l1.remove(22)\n",
    "print(l1)"
   ]
  },
  {
   "cell_type": "markdown",
   "id": "78cf6b13",
   "metadata": {},
   "source": [
    "### Tuple Data Type"
   ]
  },
  {
   "cell_type": "code",
   "execution_count": 37,
   "id": "ba01e059",
   "metadata": {},
   "outputs": [
    {
     "data": {
      "text/plain": [
       "tuple"
      ]
     },
     "execution_count": 37,
     "metadata": {},
     "output_type": "execute_result"
    }
   ],
   "source": [
    "t1 = (20,30,40,50,10)\n",
    "type(t1)"
   ]
  },
  {
   "cell_type": "code",
   "execution_count": 38,
   "id": "62e65137",
   "metadata": {},
   "outputs": [
    {
     "data": {
      "text/plain": [
       "10"
      ]
     },
     "execution_count": 38,
     "metadata": {},
     "output_type": "execute_result"
    }
   ],
   "source": [
    "t1[4]"
   ]
  },
  {
   "cell_type": "code",
   "execution_count": 39,
   "id": "b8e93f20",
   "metadata": {},
   "outputs": [
    {
     "ename": "TypeError",
     "evalue": "'tuple' object does not support item assignment",
     "output_type": "error",
     "traceback": [
      "\u001b[1;31m---------------------------------------------------------------------------\u001b[0m",
      "\u001b[1;31mTypeError\u001b[0m                                 Traceback (most recent call last)",
      "Cell \u001b[1;32mIn[39], line 1\u001b[0m\n\u001b[1;32m----> 1\u001b[0m t1[\u001b[38;5;241m2\u001b[39m] \u001b[38;5;241m=\u001b[39m \u001b[38;5;241m300\u001b[39m\n",
      "\u001b[1;31mTypeError\u001b[0m: 'tuple' object does not support item assignment"
     ]
    }
   ],
   "source": [
    "t1[2] = 300"
   ]
  },
  {
   "cell_type": "markdown",
   "id": "b4fd0954",
   "metadata": {},
   "source": [
    "### Range()"
   ]
  },
  {
   "cell_type": "code",
   "execution_count": 41,
   "id": "86325317",
   "metadata": {},
   "outputs": [
    {
     "name": "stdout",
     "output_type": "stream",
     "text": [
      "0\n",
      "1\n",
      "2\n",
      "3\n",
      "4\n",
      "5\n",
      "6\n",
      "7\n",
      "8\n",
      "9\n",
      "10\n",
      "11\n",
      "12\n",
      "13\n",
      "14\n",
      "15\n",
      "16\n",
      "17\n",
      "18\n",
      "19\n"
     ]
    }
   ],
   "source": [
    "range1 = range(20)\n",
    "for i in range1:\n",
    "    print(i)"
   ]
  },
  {
   "cell_type": "code",
   "execution_count": 42,
   "id": "58a05d77",
   "metadata": {},
   "outputs": [
    {
     "name": "stdout",
     "output_type": "stream",
     "text": [
      "12\n",
      "16\n",
      "20\n",
      "24\n",
      "28\n"
     ]
    }
   ],
   "source": [
    "range2 = range(12,30,4)\n",
    "for i in range2:\n",
    "    print(i)"
   ]
  },
  {
   "cell_type": "code",
   "execution_count": 43,
   "id": "83ea0798",
   "metadata": {},
   "outputs": [
    {
     "ename": "IndexError",
     "evalue": "range object index out of range",
     "output_type": "error",
     "traceback": [
      "\u001b[1;31m---------------------------------------------------------------------------\u001b[0m",
      "\u001b[1;31mIndexError\u001b[0m                                Traceback (most recent call last)",
      "Cell \u001b[1;32mIn[43], line 1\u001b[0m\n\u001b[1;32m----> 1\u001b[0m range2[\u001b[38;5;241m6\u001b[39m]\n",
      "\u001b[1;31mIndexError\u001b[0m: range object index out of range"
     ]
    }
   ],
   "source": [
    "range2[6]"
   ]
  },
  {
   "cell_type": "markdown",
   "id": "8fc26db1",
   "metadata": {},
   "source": [
    "### set Data Type"
   ]
  },
  {
   "cell_type": "code",
   "execution_count": 44,
   "id": "9e60d5a9",
   "metadata": {},
   "outputs": [
    {
     "name": "stdout",
     "output_type": "stream",
     "text": [
      "{2, 4, 89, 11, 'Python'}\n"
     ]
    }
   ],
   "source": [
    "set1 = {11,2,4,'Python',89}\n",
    "print(set1)"
   ]
  },
  {
   "cell_type": "code",
   "execution_count": 45,
   "id": "efe44130",
   "metadata": {},
   "outputs": [
    {
     "name": "stdout",
     "output_type": "stream",
     "text": [
      "{2, 4, 89, 11, 'Python', 59}\n"
     ]
    }
   ],
   "source": [
    "set1.add(59)\n",
    "print(set1)"
   ]
  },
  {
   "cell_type": "code",
   "execution_count": 49,
   "id": "4153573d",
   "metadata": {},
   "outputs": [
    {
     "name": "stdout",
     "output_type": "stream",
     "text": [
      "{2, 89, 'Python', 59}\n"
     ]
    }
   ],
   "source": [
    "set1.remove(11)\n",
    "print(set1)"
   ]
  },
  {
   "cell_type": "markdown",
   "id": "8bdf3ae3",
   "metadata": {},
   "source": [
    "### Frozenset"
   ]
  },
  {
   "cell_type": "code",
   "execution_count": 50,
   "id": "54e9aa97",
   "metadata": {},
   "outputs": [
    {
     "data": {
      "text/plain": [
       "frozenset"
      ]
     },
     "execution_count": 50,
     "metadata": {},
     "output_type": "execute_result"
    }
   ],
   "source": [
    "set2 = {55,44,99,22,11}\n",
    "fset2 = frozenset(set2)\n",
    "type(fset2)"
   ]
  },
  {
   "cell_type": "markdown",
   "id": "fcd7b17b",
   "metadata": {},
   "source": [
    "### Dictionary Data Type"
   ]
  },
  {
   "cell_type": "code",
   "execution_count": 52,
   "id": "1eb690aa",
   "metadata": {},
   "outputs": [
    {
     "name": "stdout",
     "output_type": "stream",
     "text": [
      "{1: 'Python', 2: 'C', 3: 'Java', 4: 'C#'}\n"
     ]
    }
   ],
   "source": [
    "d1 = {1:'Python', 2:\"C\", 3:'Java', 4:'C#'}\n",
    "print(d1)"
   ]
  },
  {
   "cell_type": "code",
   "execution_count": 53,
   "id": "21c32934",
   "metadata": {},
   "outputs": [
    {
     "data": {
      "text/plain": [
       "dict"
      ]
     },
     "execution_count": 53,
     "metadata": {},
     "output_type": "execute_result"
    }
   ],
   "source": [
    "type(d1)"
   ]
  },
  {
   "cell_type": "code",
   "execution_count": 54,
   "id": "b0c0b548",
   "metadata": {},
   "outputs": [
    {
     "data": {
      "text/plain": [
       "'C'"
      ]
     },
     "execution_count": 54,
     "metadata": {},
     "output_type": "execute_result"
    }
   ],
   "source": [
    "d1[2]"
   ]
  },
  {
   "cell_type": "code",
   "execution_count": 55,
   "id": "3a00dde3",
   "metadata": {},
   "outputs": [
    {
     "name": "stdout",
     "output_type": "stream",
     "text": [
      "{1: 'Python', 2: 'C', 3: 'JavaScript', 4: 'C#'}\n"
     ]
    }
   ],
   "source": [
    "d1[3] = 'JavaScript'\n",
    "print(d1)"
   ]
  },
  {
   "cell_type": "code",
   "execution_count": 56,
   "id": "58e07b8a",
   "metadata": {},
   "outputs": [
    {
     "name": "stdout",
     "output_type": "stream",
     "text": [
      "{1: 'Python', 2: 'C', 3: 'JavaScript', 4: 'C#', 'A1': 'NASA'}\n"
     ]
    }
   ],
   "source": [
    "d1['A1'] = 'NASA'\n",
    "print(d1)"
   ]
  },
  {
   "cell_type": "code",
   "execution_count": null,
   "id": "13e4654a",
   "metadata": {},
   "outputs": [],
   "source": []
  }
 ],
 "metadata": {
  "kernelspec": {
   "display_name": "Python 3 (ipykernel)",
   "language": "python",
   "name": "python3"
  },
  "language_info": {
   "codemirror_mode": {
    "name": "ipython",
    "version": 3
   },
   "file_extension": ".py",
   "mimetype": "text/x-python",
   "name": "python",
   "nbconvert_exporter": "python",
   "pygments_lexer": "ipython3",
   "version": "3.11.5"
  }
 },
 "nbformat": 4,
 "nbformat_minor": 5
}
