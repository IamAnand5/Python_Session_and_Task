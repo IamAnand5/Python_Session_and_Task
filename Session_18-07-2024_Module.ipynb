{
 "cells": [
  {
   "cell_type": "markdown",
   "id": "4dee3cd2",
   "metadata": {},
   "source": [
    "#### Modules:\n",
    "A group of functions, variables and classes saved in a file is called a module\n",
    "\n",
    "arithematicOperation.py\n",
    "\n",
    "a=25\n",
    "def add(x,y):\n",
    "\tprint(\"the sum:\",x+y)\n",
    "\n",
    "def product(a,b):\n",
    "\tprint(\"the Product:\",a*b)\n",
    "\t\n",
    "-----\n",
    "test.py\n",
    "\n",
    "import arithematicOperation\n",
    "print(arithematicOperation.a)\n",
    "arithematicOperation.add(20,30)\n",
    "arithematicOperation.product(10,20)\n",
    "\n",
    "---------------\n",
    "test1.py\n",
    "\n",
    "import arithematicOperation as am\n",
    "print(am.a)\n",
    "am.add(20,30)\n",
    "am.product(10,20)\n",
    "\n",
    "-----------\n",
    "We can import particular members of module by using from keyword\n",
    "\n",
    "from arithematicOperation import a,add\n",
    "print(a)\n",
    "add(20,30)\n",
    "\n",
    "-----\n",
    "import module1, module2, module3\n",
    "import module1 as m\n",
    "import module1 as m1, module2 as m2, module3 as m3\n",
    "from module import members\n",
    "from module import member1 as m1   e.g from arithematicOperation import add as sum\n",
    "\n",
    "----------\n",
    "\n",
    "module1.py\n",
    "print(\"Hello module1\")\n",
    "print(\"Good morning\")\n",
    "\n",
    "test.py\n",
    "import module1\n",
    "import module1\n",
    "import module1\n",
    "import imp\n",
    "imp.reload(module1)\n",
    "print(\"hello test\")\n",
    "\n",
    "In the above program module1 will be loaded only once even though we are importing multiple times.. \n",
    "\n",
    "--\n",
    "Special Variable __name__\n",
    " -for every python program , a special variable __name__ will be added internally\n",
    " -This variable stores information regarding whether the program is executed as an individual program or as a module\n",
    " -if the program executed as an individual program then the value of this variable is __main__\n",
    " -if the program executed as a module from some other program then then value of this variable is the name of the   module where it is defined\n",
    "\n",
    "Q - write a program to find that program is executed as a individual or from module.\n",
    " \n"
   ]
  },
  {
   "cell_type": "code",
   "execution_count": 1,
   "id": "bdc1b4b8",
   "metadata": {},
   "outputs": [
    {
     "name": "stdout",
     "output_type": "stream",
     "text": [
      "['In', 'Out', '_', '__', '___', '__builtin__', '__builtins__', '__doc__', '__loader__', '__name__', '__package__', '__spec__', '_dh', '_i', '_i1', '_ih', '_ii', '_iii', '_oh', 'a', 'b', 'exit', 'f1', 'get_ipython', 'open', 'quit']\n"
     ]
    }
   ],
   "source": [
    "# dir()\n",
    "a=10\n",
    "b=20\n",
    "def f1():\n",
    "    print(\"hello\")\n",
    "print(dir())"
   ]
  },
  {
   "cell_type": "code",
   "execution_count": 2,
   "id": "80996aac",
   "metadata": {},
   "outputs": [
    {
     "name": "stdout",
     "output_type": "stream",
     "text": [
      "['DirEntry', 'EX_OK', 'F_OK', 'GenericAlias', 'Mapping', 'MutableMapping', 'O_APPEND', 'O_BINARY', 'O_CREAT', 'O_EXCL', 'O_NOINHERIT', 'O_RANDOM', 'O_RDONLY', 'O_RDWR', 'O_SEQUENTIAL', 'O_SHORT_LIVED', 'O_TEMPORARY', 'O_TEXT', 'O_TRUNC', 'O_WRONLY', 'P_DETACH', 'P_NOWAIT', 'P_NOWAITO', 'P_OVERLAY', 'P_WAIT', 'PathLike', 'R_OK', 'SEEK_CUR', 'SEEK_END', 'SEEK_SET', 'TMP_MAX', 'W_OK', 'X_OK', '_AddedDllDirectory', '_Environ', '__all__', '__builtins__', '__doc__', '__file__', '__loader__', '__name__', '__package__', '__spec__', '_check_methods', '_execvpe', '_exists', '_exit', '_fspath', '_get_exports_list', '_walk', '_wrap_close', 'abc', 'abort', 'access', 'add_dll_directory', 'altsep', 'chdir', 'chmod', 'close', 'closerange', 'cpu_count', 'curdir', 'defpath', 'device_encoding', 'devnull', 'dup', 'dup2', 'environ', 'error', 'execl', 'execle', 'execlp', 'execlpe', 'execv', 'execve', 'execvp', 'execvpe', 'extsep', 'fdopen', 'fsdecode', 'fsencode', 'fspath', 'fstat', 'fsync', 'ftruncate', 'get_exec_path', 'get_handle_inheritable', 'get_inheritable', 'get_terminal_size', 'getcwd', 'getcwdb', 'getenv', 'getlogin', 'getpid', 'getppid', 'isatty', 'kill', 'linesep', 'link', 'listdir', 'lseek', 'lstat', 'makedirs', 'mkdir', 'name', 'open', 'pardir', 'path', 'pathsep', 'pipe', 'popen', 'putenv', 'read', 'readlink', 'remove', 'removedirs', 'rename', 'renames', 'replace', 'rmdir', 'scandir', 'sep', 'set_handle_inheritable', 'set_inheritable', 'spawnl', 'spawnle', 'spawnv', 'spawnve', 'st', 'startfile', 'stat', 'stat_result', 'statvfs_result', 'strerror', 'supports_bytes_environ', 'supports_dir_fd', 'supports_effective_ids', 'supports_fd', 'supports_follow_symlinks', 'symlink', 'sys', 'system', 'terminal_size', 'times', 'times_result', 'truncate', 'umask', 'uname_result', 'unlink', 'unsetenv', 'urandom', 'utime', 'waitpid', 'waitstatus_to_exitcode', 'walk', 'write']\n"
     ]
    }
   ],
   "source": [
    "import os\n",
    "print(dir(os))"
   ]
  },
  {
   "cell_type": "code",
   "execution_count": 3,
   "id": "981b2a29",
   "metadata": {},
   "outputs": [
    {
     "data": {
      "text/plain": [
       "'nt'"
      ]
     },
     "execution_count": 3,
     "metadata": {},
     "output_type": "execute_result"
    }
   ],
   "source": [
    "os.name"
   ]
  },
  {
   "cell_type": "code",
   "execution_count": 4,
   "id": "9ce30526",
   "metadata": {},
   "outputs": [
    {
     "data": {
      "text/plain": [
       "'C:\\\\Users\\\\Anand S\\\\Core_Python\\\\Daily_Session'"
      ]
     },
     "execution_count": 4,
     "metadata": {},
     "output_type": "execute_result"
    }
   ],
   "source": [
    "os.getcwd()"
   ]
  },
  {
   "cell_type": "code",
   "execution_count": null,
   "id": "c40ccfe9",
   "metadata": {},
   "outputs": [],
   "source": []
  }
 ],
 "metadata": {
  "kernelspec": {
   "display_name": "Python 3 (ipykernel)",
   "language": "python",
   "name": "python3"
  },
  "language_info": {
   "codemirror_mode": {
    "name": "ipython",
    "version": 3
   },
   "file_extension": ".py",
   "mimetype": "text/x-python",
   "name": "python",
   "nbconvert_exporter": "python",
   "pygments_lexer": "ipython3",
   "version": "3.11.5"
  }
 },
 "nbformat": 4,
 "nbformat_minor": 5
}
