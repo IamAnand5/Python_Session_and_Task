{
 "cells": [
  {
   "cell_type": "code",
   "execution_count": 1,
   "id": "a4c8ad00",
   "metadata": {},
   "outputs": [
    {
     "name": "stdout",
     "output_type": "stream",
     "text": [
      "150\n"
     ]
    }
   ],
   "source": [
    "#reduce\n",
    "\n",
    "from functools import*\n",
    "lst1 = [10,20,30,40,50]\n",
    "result=reduce(lambda x,y:x+y,lst1)\n",
    "print(result)"
   ]
  },
  {
   "cell_type": "code",
   "execution_count": 2,
   "id": "d058b547",
   "metadata": {},
   "outputs": [
    {
     "name": "stdout",
     "output_type": "stream",
     "text": [
      "2036649095264\n",
      "2036649095264\n",
      "Program Language Name:  Java\n",
      "Program Language Name:  Python\n",
      "Program Language Name:  C#\n"
     ]
    }
   ],
   "source": [
    "# Function Alias\n",
    "def progLangName(progName):\n",
    "    print(\"Program Language Name: \",progName)\n",
    "\n",
    "techLangName = progLangName\n",
    "print(id(progLangName))\n",
    "print(id(techLangName))\n",
    "\n",
    "techLangName(\"Java\")\n",
    "progLangName(\"Python\")\n",
    "\n",
    "del progLangName\n",
    "techLangName(\"C#\")"
   ]
  },
  {
   "cell_type": "code",
   "execution_count": 3,
   "id": "ec25c5d5",
   "metadata": {},
   "outputs": [
    {
     "name": "stdout",
     "output_type": "stream",
     "text": [
      "upper function started\n",
      "upper function is calling lower function\n",
      "lower function execution\n"
     ]
    }
   ],
   "source": [
    "#Nested Function:\n",
    "def upperFunc():\n",
    "    print(\"upper function started\")\n",
    "    def lowerFunc():\n",
    "        print(\"lower function execution\")\n",
    "    print(\"upper function is calling lower function\")\n",
    "    lowerFunc()\n",
    "upperFunc()"
   ]
  },
  {
   "cell_type": "code",
   "execution_count": 4,
   "id": "bb5ee5ed",
   "metadata": {},
   "outputs": [
    {
     "name": "stdout",
     "output_type": "stream",
     "text": [
      "30\n"
     ]
    }
   ],
   "source": [
    "def sum():\n",
    "    result = 10+20\n",
    "    return result\n",
    "total = sum()\n",
    "print(total)"
   ]
  },
  {
   "cell_type": "code",
   "execution_count": 5,
   "id": "7c843065",
   "metadata": {},
   "outputs": [
    {
     "name": "stdout",
     "output_type": "stream",
     "text": [
      "upper function started\n",
      "upper function is calling lower function\n",
      "lower function execution\n",
      "lower function execution\n"
     ]
    }
   ],
   "source": [
    "# Function can return another function\n",
    "def upperFunc1():\n",
    "    print(\"upper function started\")\n",
    "    def lowerFunc1():\n",
    "        print(\"lower function execution\")\n",
    "    print(\"upper function is calling lower function\")\n",
    "    return lowerFunc1\n",
    "f1 = upperFunc1()\n",
    "f1()\n",
    "f1()"
   ]
  },
  {
   "cell_type": "code",
   "execution_count": null,
   "id": "e5c30155",
   "metadata": {},
   "outputs": [],
   "source": []
  }
 ],
 "metadata": {
  "kernelspec": {
   "display_name": "Python 3 (ipykernel)",
   "language": "python",
   "name": "python3"
  },
  "language_info": {
   "codemirror_mode": {
    "name": "ipython",
    "version": 3
   },
   "file_extension": ".py",
   "mimetype": "text/x-python",
   "name": "python",
   "nbconvert_exporter": "python",
   "pygments_lexer": "ipython3",
   "version": "3.11.5"
  }
 },
 "nbformat": 4,
 "nbformat_minor": 5
}
