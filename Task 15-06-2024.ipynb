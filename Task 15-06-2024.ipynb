{
 "cells": [
  {
   "cell_type": "markdown",
   "id": "1f9d5322",
   "metadata": {},
   "source": [
    "### # write a program to find biggest number from the given values using lambda function"
   ]
  },
  {
   "cell_type": "code",
   "execution_count": 16,
   "id": "05b3fa23",
   "metadata": {},
   "outputs": [
    {
     "name": "stdout",
     "output_type": "stream",
     "text": [
      "The biggest number is: 35\n"
     ]
    }
   ],
   "source": [
    "lst = [0,5,10,15,20,25,30,35]\n",
    "biggest = (lambda x:max(x))(lst)\n",
    "print(\"The biggest number is:\",biggest)"
   ]
  },
  {
   "cell_type": "code",
   "execution_count": 18,
   "id": "ee8b8e76",
   "metadata": {},
   "outputs": [
    {
     "name": "stdout",
     "output_type": "stream",
     "text": [
      "The biggest number is: <function <lambda> at 0x00000146A87919E0>\n"
     ]
    }
   ],
   "source": [
    "lst = [0,5,10,15,20,25,30]\n",
    "func = lambda x:lst[2]+lst[4]\n",
    "#biggest = filter(func,lst)\n",
    "print(\"The biggest number is:\",func)"
   ]
  },
  {
   "cell_type": "code",
   "execution_count": 12,
   "id": "ea346f6f",
   "metadata": {},
   "outputs": [
    {
     "name": "stdout",
     "output_type": "stream",
     "text": [
      "[0, 10, 20, 30]\n",
      "[5, 15, 25]\n"
     ]
    }
   ],
   "source": [
    "lst3 = [0,5,10,15,20,25,30]\n",
    "lst4 = list(filter(lambda x:x%2==0,lst3))\n",
    "print(lst4)\n",
    "lst5 = list(filter(lambda x:x%2!=0,lst3))\n",
    "print(lst5)"
   ]
  }
 ],
 "metadata": {
  "kernelspec": {
   "display_name": "Python 3 (ipykernel)",
   "language": "python",
   "name": "python3"
  },
  "language_info": {
   "codemirror_mode": {
    "name": "ipython",
    "version": 3
   },
   "file_extension": ".py",
   "mimetype": "text/x-python",
   "name": "python",
   "nbconvert_exporter": "python",
   "pygments_lexer": "ipython3",
   "version": "3.11.5"
  }
 },
 "nbformat": 4,
 "nbformat_minor": 5
}
