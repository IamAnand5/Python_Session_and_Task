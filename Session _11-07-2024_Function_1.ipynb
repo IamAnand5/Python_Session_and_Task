{
 "cells": [
  {
   "cell_type": "markdown",
   "id": "6db387c7",
   "metadata": {},
   "source": [
    "### Function:\n",
    "def withdraw():\n",
    "\n",
    "def deposit():\n",
    "\n",
    "methods, procedures, subroutines ....\n",
    "\n",
    "Two types of functions:\n",
    " - Build in functions - system defined functions\n",
    "    id(), type(), eval()....\n",
    " - user defined functions\n",
    "     def function_name(parameters):\n",
    "\t\t---functionality---\n",
    "\t\t\n",
    "\t\treturn value\n",
    "\t\t\n",
    "Parameters: Parameters are inputs to the function\n",
    "Return : Returns output to the caller with return statement\n",
    "\n",
    "Multiple Parameters:\n",
    " def function_name(parameter1, parameter2,...):\n",
    " \n",
    "Returning Multiple values from a function:\n",
    " A function ca return any number of values.\n",
    " \n",
    "types of arguments:\n",
    "- Positional Arguments\n",
    "- Keyword Arguments\n",
    "- Default Arguments\n",
    "- variable length arguments\n",
    "\n",
    "- Positional Arguments:\n",
    " There are the arguments passed to function in correct positional order\n",
    "  def sub(a, b):\n",
    "\tprint(a-b)\n",
    "sub(100, 200)\n",
    "sub(200, 100)\n",
    " the number of arguments and position of arguments must be matched. if we change the order then result may be changed\n",
    " \n",
    "- Keyword Arguments:\n",
    " we can pass argument values by key-values pair\n",
    " def wish(name, msg):\n",
    "\tprint(\"Hello\", name, msg)\n",
    "wish(name=\"Pardeep\", msg=\"Good Morning\")\n",
    "wish(msg=\"Good Morning\", name = \"Dyal\")\n",
    "\n",
    "Default Parameters:\n",
    " we want to provide default values to any positional arugments\n",
    " \n",
    "Variable length Arguments:\n",
    "We can declare a variable length arugments with * symbol\n",
    "   def function1(*a)\n",
    " we can mix variable length arguments with positional arguments\n",
    "   def function2(x,*a)\n",
    " After variable length argument, if we are taking any other arguments then we should provide values as keyword arguments\n",
    "   def f2(*n, x)\n",
    "   \n",
    "   f2(10,20,x=\"test\")\n",
    "   \n",
    "- keyword variable length arguments:\n",
    "  - we have to use **\n",
    "   def f3(**n)\n",
    "   \n",
    "   f3(n1=10,n2=20,n3=30)"
   ]
  },
  {
   "cell_type": "code",
   "execution_count": 1,
   "id": "cd72482a",
   "metadata": {},
   "outputs": [
    {
     "name": "stdout",
     "output_type": "stream",
     "text": [
      "Hello Good Morning\n"
     ]
    }
   ],
   "source": [
    "def helloTest():\n",
    "    print(\"Hello Good Morning\")\n",
    "helloTest()"
   ]
  },
  {
   "cell_type": "code",
   "execution_count": 2,
   "id": "c000cee2",
   "metadata": {},
   "outputs": [
    {
     "name": "stdout",
     "output_type": "stream",
     "text": [
      "Hello Anand  Good Morning\n"
     ]
    }
   ],
   "source": [
    "def helloPass(name):\n",
    "    print(\"Hello\",name,\" Good Morning\")\n",
    "helloPass(\"Anand\")"
   ]
  },
  {
   "cell_type": "code",
   "execution_count": 3,
   "id": "ef041d4f",
   "metadata": {},
   "outputs": [
    {
     "name": "stdout",
     "output_type": "stream",
     "text": [
      "The square of  4 is 16\n",
      "The square of  8 is 64\n"
     ]
    }
   ],
   "source": [
    "def squareNumber(number):\n",
    "    print(\"The square of \", number, \"is\", number*number)\n",
    "squareNumber(4)\n",
    "squareNumber(8)"
   ]
  },
  {
   "cell_type": "code",
   "execution_count": 4,
   "id": "4234e357",
   "metadata": {},
   "outputs": [
    {
     "name": "stdout",
     "output_type": "stream",
     "text": [
      "25\n"
     ]
    }
   ],
   "source": [
    "def squareNum(number):\n",
    "    result = number * number\n",
    "    return result\n",
    "resultOfNum = squareNum(5)\n",
    "print(resultOfNum)"
   ]
  },
  {
   "cell_type": "code",
   "execution_count": 5,
   "id": "f30518c0",
   "metadata": {},
   "outputs": [],
   "source": [
    "# Write a function to accept 2 numbers as input and return Sum\n",
    "# Write a function to check whether the given number is even or odd?\n",
    "# Write a function to find factorial of given number"
   ]
  },
  {
   "cell_type": "code",
   "execution_count": 6,
   "id": "d82e7b32",
   "metadata": {},
   "outputs": [
    {
     "name": "stdout",
     "output_type": "stream",
     "text": [
      "Multiple:  200\n",
      "Division:  2.0\n"
     ]
    }
   ],
   "source": [
    "def mul_div(operand1, operand2):\n",
    "    mul = operand1*operand2\n",
    "    div = operand1/operand2\n",
    "    return mul, div\n",
    "m, d = mul_div(20,10)\n",
    "print(\"Multiple: \",m)\n",
    "print(\"Division: \",d)"
   ]
  },
  {
   "cell_type": "code",
   "execution_count": 7,
   "id": "e51f5e3d",
   "metadata": {},
   "outputs": [
    {
     "name": "stdout",
     "output_type": "stream",
     "text": [
      "Hello Pardeep Good Morning\n",
      "Hello Dyal Good Morning\n"
     ]
    }
   ],
   "source": [
    "def wish(name, msg):\n",
    "    print(\"Hello\", name, msg)\n",
    "wish(name=\"Pardeep\", msg=\"Good Morning\")\n",
    "wish(msg=\"Good Morning\", name = \"Dyal\")"
   ]
  },
  {
   "cell_type": "code",
   "execution_count": 8,
   "id": "cb864727",
   "metadata": {},
   "outputs": [
    {
     "name": "stdout",
     "output_type": "stream",
     "text": [
      "Hello Anand  Good Morning\n",
      "Hello Guest  Good Morning\n"
     ]
    }
   ],
   "source": [
    "def helloPass2(name=\"Guest\"):\n",
    "    print(\"Hello\",name,\" Good Morning\")\n",
    "helloPass2(\"Anand\")\n",
    "helloPass2()"
   ]
  },
  {
   "cell_type": "code",
   "execution_count": 9,
   "id": "05e9f6d8",
   "metadata": {},
   "outputs": [
    {
     "name": "stdout",
     "output_type": "stream",
     "text": [
      "Total Sum:  10\n",
      "Total Sum:  30\n",
      "Total Sum:  0\n"
     ]
    }
   ],
   "source": [
    "def add(*n):\n",
    "    total = 0\n",
    "    for n1 in n:\n",
    "        total = total+n1\n",
    "    print(\"Total Sum: \", total)\n",
    "\n",
    "add(10)\n",
    "add(10,20)\n",
    "add()"
   ]
  },
  {
   "cell_type": "code",
   "execution_count": null,
   "id": "fda062ec",
   "metadata": {},
   "outputs": [],
   "source": []
  }
 ],
 "metadata": {
  "kernelspec": {
   "display_name": "Python 3 (ipykernel)",
   "language": "python",
   "name": "python3"
  },
  "language_info": {
   "codemirror_mode": {
    "name": "ipython",
    "version": 3
   },
   "file_extension": ".py",
   "mimetype": "text/x-python",
   "name": "python",
   "nbconvert_exporter": "python",
   "pygments_lexer": "ipython3",
   "version": "3.11.5"
  }
 },
 "nbformat": 4,
 "nbformat_minor": 5
}
