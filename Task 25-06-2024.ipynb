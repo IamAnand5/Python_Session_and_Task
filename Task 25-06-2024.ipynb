{
 "cells": [
  {
   "cell_type": "code",
   "execution_count": 3,
   "id": "d7173571",
   "metadata": {},
   "outputs": [
    {
     "name": "stdout",
     "output_type": "stream",
     "text": [
      "Area of circle is:  78.53981633974483\n"
     ]
    }
   ],
   "source": [
    "# Write a program to find area of circle\n",
    "from math import sqrt, pi\n",
    "\n",
    "radius = 5\n",
    "print(\"Area of circle is: \", pi*radius**2)"
   ]
  },
  {
   "cell_type": "code",
   "execution_count": null,
   "id": "68ecc601",
   "metadata": {},
   "outputs": [],
   "source": [
    "# Write a program to enter employee detail from the keyboard\n",
    "\n",
    "name = input('Enter the name: ')\n",
    "id = int(input('Enter the emp Id: '))\n",
    "dept = input(\"Enter the department: \")\n",
    "desg = input(\"Enter the designation: \")\n",
    "sal = input('Enter the salary: ')\n",
    "\n",
    "print(\"Name:\",name,\"\\n\", \"Id:\",id,\"\\n\",\"Department:\",dept,\"\\n\",'Designation:',desg,\"\\n\",'Salary:',sal)"
   ]
  },
  {
   "cell_type": "code",
   "execution_count": null,
   "id": "9aa72dd5",
   "metadata": {},
   "outputs": [],
   "source": [
    "#write a program to find biggest of given 2 numbers\n",
    "\n",
    "num1 = int(input(\"Enter number1:\"))\n",
    "num2 = int(input('Enter number2:'))\n",
    "\n",
    "if (num1>num2):\n",
    "    print(\"Number1 is biggest\")\n",
    "else:\n",
    "    print('Number2 is biggest')"
   ]
  },
  {
   "cell_type": "code",
   "execution_count": 4,
   "id": "db37534f",
   "metadata": {},
   "outputs": [
    {
     "name": "stdout",
     "output_type": "stream",
     "text": [
      "Enter number1:25\n",
      "Enter number2:65\n",
      "Enter number3:8\n",
      "Number2 is biggest\n"
     ]
    }
   ],
   "source": [
    "#write a program to find biggest of given three numbers\n",
    "\n",
    "num1 = int(input(\"Enter number1:\"))\n",
    "num2 = int(input('Enter number2:'))\n",
    "num3 = int(input('Enter number3:'))\n",
    "\n",
    "if (num1>num2) and (num1>num3):\n",
    "    print(\"Number1 is biggest\")\n",
    "\n",
    "elif (num2>num1) and (num2>num3):\n",
    "    print(\"Number2 is biggest\")\n",
    "else:\n",
    "    print('Number3 is biggest')"
   ]
  },
  {
   "cell_type": "code",
   "execution_count": 5,
   "id": "416a0690",
   "metadata": {},
   "outputs": [
    {
     "name": "stdout",
     "output_type": "stream",
     "text": [
      "Enter number:25\n",
      "Number is between 20 and 50\n"
     ]
    }
   ],
   "source": [
    "#write a program to check whether the given number is in between 20 to 50\n",
    "\n",
    "num = int(input(\"Enter number:\"))\n",
    "\n",
    "if (num>=20) and (num<=50):\n",
    "    print(\"Number is between 20 and 50\")\n",
    "\n",
    "else:\n",
    "    print('Number is out of index')"
   ]
  },
  {
   "cell_type": "code",
   "execution_count": 9,
   "id": "a01692c0",
   "metadata": {},
   "outputs": [
    {
     "name": "stdout",
     "output_type": "stream",
     "text": [
      "Enter a single digit:5\n",
      "Five\n"
     ]
    }
   ],
   "source": [
    "# write a program to take a single digit number from the keyboard and print its english word\n",
    "\n",
    "digit = int(input('Enter a single digit:'))\n",
    "\n",
    "if (digit == 1):\n",
    "    print('One')\n",
    "elif(digit == 2):\n",
    "    print('Two')\n",
    "elif (digit == 3):\n",
    "    print('Three')\n",
    "elif(digit == 4):\n",
    "    print('Four')\n",
    "elif (digit == 5):\n",
    "    print('Five')\n",
    "elif(digit == 6):\n",
    "    print('Six')\n",
    "elif (digit == 7):\n",
    "    print('Seven')\n",
    "elif(digit == 8):\n",
    "    print('Eight')\n",
    "elif (digit == 9):\n",
    "    print('Nine')\n",
    "else:\n",
    "    print('B.B..Bye!!')"
   ]
  },
  {
   "cell_type": "code",
   "execution_count": null,
   "id": "97c0f584",
   "metadata": {},
   "outputs": [],
   "source": []
  }
 ],
 "metadata": {
  "kernelspec": {
   "display_name": "Python 3 (ipykernel)",
   "language": "python",
   "name": "python3"
  },
  "language_info": {
   "codemirror_mode": {
    "name": "ipython",
    "version": 3
   },
   "file_extension": ".py",
   "mimetype": "text/x-python",
   "name": "python",
   "nbconvert_exporter": "python",
   "pygments_lexer": "ipython3",
   "version": "3.11.5"
  }
 },
 "nbformat": 4,
 "nbformat_minor": 5
}
