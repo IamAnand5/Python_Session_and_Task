{
 "cells": [
  {
   "cell_type": "markdown",
   "id": "ea0be661",
   "metadata": {},
   "source": [
    "#### write a  class program to display the employee details. Details enter through keyboard or runtime"
   ]
  },
  {
   "cell_type": "code",
   "execution_count": 17,
   "id": "341096e1",
   "metadata": {},
   "outputs": [
    {
     "name": "stdout",
     "output_type": "stream",
     "text": [
      "Enter the eid:101\n",
      "Enter the name:Anand\n",
      "Enter the salary:345333\n",
      "Enter the qualification:MCA\n",
      "{'eid': 101, 'name': 'Anand', 'salary': 345333, 'qualification': 'MCA'}\n"
     ]
    }
   ],
   "source": [
    "class employeeDetails:\n",
    "        \n",
    "    def inputDetails(self):\n",
    "        \n",
    "        eid = int(input('Enter the eid:'))\n",
    "        self.eid = eid\n",
    "        \n",
    "        name = input('Enter the name:')\n",
    "        self.name = name\n",
    "        \n",
    "        salary = int(input('Enter the salary:'))\n",
    "        self.salary = salary\n",
    "        \n",
    "        qualification = input('Enter the qualification:')\n",
    "        self.qualification = qualification\n",
    "        \n",
    "        \n",
    "e = employeeDetails()\n",
    "e.inputDetails()\n",
    "\n",
    "print(e.__dict__)"
   ]
  },
  {
   "cell_type": "code",
   "execution_count": 19,
   "id": "74ae5642",
   "metadata": {},
   "outputs": [
    {
     "name": "stdout",
     "output_type": "stream",
     "text": [
      "Enter the eid:108\n",
      "Enter the name:Anand\n",
      "Enter the salary:456446\n",
      "Enter the qualification:MCA\n",
      "\n",
      "Employee Details:\n",
      "id: 108\n",
      "Name: Anand\n",
      "Salary: 456446\n",
      "Qualification: MCA\n"
     ]
    }
   ],
   "source": [
    "class employeeDetails:\n",
    "        \n",
    "    def inputDetails(self):\n",
    "        \n",
    "        eid = int(input('Enter the eid:'))\n",
    "        self.eid = eid\n",
    "        \n",
    "        name = input('Enter the name:')\n",
    "        self.name = name\n",
    "        \n",
    "        salary = int(input('Enter the salary:'))\n",
    "        self.salary = salary\n",
    "        \n",
    "        qualification = input('Enter the qualification:')\n",
    "        self.qualification = qualification\n",
    "        \n",
    "    def showDetails(self):\n",
    "        print(\"\\nEmployee Details:\")\n",
    "\n",
    "        print('id:',self.eid)\n",
    "        print(\"Name:\",self.name)\n",
    "        print(\"Salary:\",self.salary)\n",
    "        print(\"Qualification:\",self.qualification)\n",
    "        \n",
    "        \n",
    "e = employeeDetails()\n",
    "e.inputDetails()\n",
    "e.showDetails()"
   ]
  }
 ],
 "metadata": {
  "kernelspec": {
   "display_name": "Python 3 (ipykernel)",
   "language": "python",
   "name": "python3"
  },
  "language_info": {
   "codemirror_mode": {
    "name": "ipython",
    "version": 3
   },
   "file_extension": ".py",
   "mimetype": "text/x-python",
   "name": "python",
   "nbconvert_exporter": "python",
   "pygments_lexer": "ipython3",
   "version": "3.11.5"
  }
 },
 "nbformat": 4,
 "nbformat_minor": 5
}
