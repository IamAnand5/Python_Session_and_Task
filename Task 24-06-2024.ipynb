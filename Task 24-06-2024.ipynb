{
 "cells": [
  {
   "cell_type": "code",
   "execution_count": 24,
   "id": "16fd9f62",
   "metadata": {},
   "outputs": [
    {
     "name": "stdout",
     "output_type": "stream",
     "text": [
      "Number b is minimum\n"
     ]
    }
   ],
   "source": [
    "#Program to find minimum number from 3 values.\n",
    "a = 45\n",
    "b = 4\n",
    "c = 180\n",
    "if (a<b) and (a<c):\n",
    "    print(\"Number a is minimum\")\n",
    "elif (b<a) and (b<c):\n",
    "    print(\"Number b is minimum\")\n",
    "else:\n",
    "    print(\"Number c is minimum\")"
   ]
  },
  {
   "cell_type": "code",
   "execution_count": 20,
   "id": "ceb43383",
   "metadata": {},
   "outputs": [
    {
     "name": "stdout",
     "output_type": "stream",
     "text": [
      "Number c is minimum\n"
     ]
    }
   ],
   "source": [
    "#Program to find minimum number from 3 values.(2nd method)\n",
    "a = 300\n",
    "b = 200\n",
    "c = 56\n",
    "\n",
    "print(\"Number a is minimum\") if (a<b and a<c) else print(\"Number b is minimum\") if(b<a and b<c) else print('Number c is minimum')"
   ]
  },
  {
   "cell_type": "code",
   "execution_count": 14,
   "id": "727858f2",
   "metadata": {},
   "outputs": [
    {
     "name": "stdout",
     "output_type": "stream",
     "text": [
      "Number a is maximum\n"
     ]
    }
   ],
   "source": [
    "#Program to find maximum number from 3 values.\n",
    "a = 450\n",
    "b = 47\n",
    "c = 18\n",
    "if (a>b) and (a>c):\n",
    "    print(\"Number a is maximum\")\n",
    "elif (b>a) and (b>c):\n",
    "    print(\"Number b is maximum\")\n",
    "else:\n",
    "    print(\"Number c is maximum\")"
   ]
  },
  {
   "cell_type": "code",
   "execution_count": 22,
   "id": "ee08cb20",
   "metadata": {},
   "outputs": [
    {
     "name": "stdout",
     "output_type": "stream",
     "text": [
      "Number c is maximum\n"
     ]
    }
   ],
   "source": [
    "#Program to find maximum number from 3 values.(2nd method)\n",
    "a = 300\n",
    "b = 200\n",
    "c = 560\n",
    "\n",
    "print(\"Number a is maximum\") if (a>b and a>c) else print(\"Number b is maximum\") if(b>a and b>c) else print('Number c is maximum')"
   ]
  }
 ],
 "metadata": {
  "kernelspec": {
   "display_name": "Python 3 (ipykernel)",
   "language": "python",
   "name": "python3"
  },
  "language_info": {
   "codemirror_mode": {
    "name": "ipython",
    "version": 3
   },
   "file_extension": ".py",
   "mimetype": "text/x-python",
   "name": "python",
   "nbconvert_exporter": "python",
   "pygments_lexer": "ipython3",
   "version": "3.11.5"
  }
 },
 "nbformat": 4,
 "nbformat_minor": 5
}
