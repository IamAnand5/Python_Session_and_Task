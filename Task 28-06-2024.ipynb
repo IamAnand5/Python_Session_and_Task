{
 "cells": [
  {
   "cell_type": "markdown",
   "id": "5acb60fc",
   "metadata": {},
   "source": [
    "### Program to display all positions of substring from a main string {method one (Basic concept of find())}"
   ]
  },
  {
   "cell_type": "code",
   "execution_count": 2,
   "id": "27896140",
   "metadata": {},
   "outputs": [
    {
     "name": "stdout",
     "output_type": "stream",
     "text": [
      "17\n",
      "0\n",
      "4\n",
      "8\n",
      "12\n",
      "-1\n"
     ]
    }
   ],
   "source": [
    "s = 'abceabcfabcgabctt'\n",
    "ss = 'abc'\n",
    "length = len(s)\n",
    "print(length)\n",
    "\n",
    "index = s.find(ss)\n",
    "print(index)\n",
    "\n",
    "index = s.find(ss,3,16)\n",
    "print(index)\n",
    "\n",
    "index = s.find(ss,7,16)\n",
    "print(index)\n",
    "\n",
    "index = s.find(ss,11,16)\n",
    "print(index)\n",
    "\n",
    "index = s.find(ss,15,16)\n",
    "print(index)"
   ]
  },
  {
   "cell_type": "markdown",
   "id": "40f0363f",
   "metadata": {},
   "source": [
    "### Program to display all positions of substring from a main string (method 2 using while loop)"
   ]
  },
  {
   "cell_type": "code",
   "execution_count": 49,
   "id": "6fc3c4f7",
   "metadata": {},
   "outputs": [
    {
     "name": "stdout",
     "output_type": "stream",
     "text": [
      "Enter a string:The find() method finds the first occurrence of the specified value\n",
      "Enter substring:find\n",
      "substring 'find' found at index 4\n",
      "substring 'find' found at index 18\n"
     ]
    }
   ],
   "source": [
    "\n",
    "s = input('Enter a string:')\n",
    "ss = input('Enter substring:')\n",
    "\n",
    "index = s.find(ss)\n",
    "\n",
    "#print(\"Length of a string is:\",len(s))\n",
    "# if index == -1:\n",
    "#     print('Substring not found')    \n",
    "\n",
    "while index != -1:\n",
    "    \n",
    "   # print(\"substring found at index :\", index)\n",
    "    print(\"substring '{}' found at index {}\".format(ss,index))\n",
    "    \n",
    "    index = s.find(ss, index + len(ss), len(s))\n",
    "    \n",
    "    "
   ]
  },
  {
   "cell_type": "code",
   "execution_count": 39,
   "id": "af4b2ebe",
   "metadata": {},
   "outputs": [
    {
     "name": "stdout",
     "output_type": "stream",
     "text": [
      "Enter a string:sdegdedd\n",
      "Enter substring:d\n",
      "position of substring is starts from: [4]\n"
     ]
    }
   ],
   "source": [
    "# Program to display all positions of substring from a main string (method 3 using for loop)\n",
    "\n",
    "str = input('Enter a string:')\n",
    "substr = input('Enter substring:')\n",
    "\n",
    "position = []\n",
    "\n",
    "index = str.find(substr)   # gives the first index found\n",
    "\n",
    "for i in range(index):\n",
    "    \n",
    "    index = str.find(substr, index + len(substr), len(str))\n",
    "    position.append(index)\n",
    "    \n",
    "    print(\"position of substring is starts from:\",position)"
   ]
  },
  {
   "cell_type": "code",
   "execution_count": 38,
   "id": "82092240",
   "metadata": {},
   "outputs": [
    {
     "name": "stdout",
     "output_type": "stream",
     "text": [
      "enter a string:Punjab\n",
      "P\n",
      "u\n",
      "n\n",
      "j\n",
      "a\n",
      "b\n"
     ]
    }
   ],
   "source": [
    "# write a program to access each character of string in forward and backward direction by using while loop\n",
    "\n",
    "# forward access\n",
    "\n",
    "str_f = input('enter a string:')\n",
    "i = 0\n",
    "while i < len(str_f):\n",
    "    print(str_f[i])\n",
    "    i = i+1"
   ]
  },
  {
   "cell_type": "code",
   "execution_count": 25,
   "id": "f399ee84",
   "metadata": {},
   "outputs": [
    {
     "name": "stdout",
     "output_type": "stream",
     "text": [
      "enter a string you want to reverse:Punjab\n",
      "bajnuP\n"
     ]
    }
   ],
   "source": [
    "# backward access\n",
    "\n",
    "str_b = input('enter a string you want to reverse:')\n",
    "output = ''\n",
    "i = len(str_b) - 1\n",
    "while i>=0:\n",
    "    output = output + str_b[i]\n",
    "    i = i-1\n",
    "print(output)"
   ]
  }
 ],
 "metadata": {
  "kernelspec": {
   "display_name": "Python 3 (ipykernel)",
   "language": "python",
   "name": "python3"
  },
  "language_info": {
   "codemirror_mode": {
    "name": "ipython",
    "version": 3
   },
   "file_extension": ".py",
   "mimetype": "text/x-python",
   "name": "python",
   "nbconvert_exporter": "python",
   "pygments_lexer": "ipython3",
   "version": "3.11.5"
  }
 },
 "nbformat": 4,
 "nbformat_minor": 5
}
