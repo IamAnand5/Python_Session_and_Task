{
 "cells": [
  {
   "cell_type": "markdown",
   "id": "d1a8c8e0",
   "metadata": {},
   "source": [
    "Class:\n",
    "Syntax:\n",
    "class  className:\n",
    "\t“Documentation “\n",
    "\tVariables: instance variable, static and local variables\n",
    "\tMethods: instance methods, static and class methods\n",
    "\n",
    "print(classname.__doc__)\n",
    "help(classname)\n"
   ]
  },
  {
   "cell_type": "code",
   "execution_count": 1,
   "id": "965f0df7",
   "metadata": {},
   "outputs": [
    {
     "name": "stdout",
     "output_type": "stream",
     "text": [
      "This is student class with required data\n",
      "****************\n",
      "Help on class Student in module __main__:\n",
      "\n",
      "class Student(builtins.object)\n",
      " |  This is student class with required data\n",
      " |  \n",
      " |  Data descriptors defined here:\n",
      " |  \n",
      " |  __dict__\n",
      " |      dictionary for instance variables (if defined)\n",
      " |  \n",
      " |  __weakref__\n",
      " |      list of weak references to the object (if defined)\n",
      "\n"
     ]
    }
   ],
   "source": [
    "class Student:\n",
    "    \"This is student class with required data\"\n",
    "print(Student.__doc__)\n",
    "print(\"****************\")\n",
    "help(Student)"
   ]
  },
  {
   "cell_type": "code",
   "execution_count": 2,
   "id": "f7582014",
   "metadata": {},
   "outputs": [],
   "source": [
    "class Student1:\n",
    "    \"Python class for student\"\n",
    "    def __init__(self,name, age, marks):\n",
    "        self.name=name\n",
    "        self.age=age\n",
    "        self.marks=marks\n",
    "    def intro(self):\n",
    "        print(\"Hello I am :\",self.name)\n",
    "        print(\"My age is :\",self.age)\n",
    "        print(\"My marks are :\",self.marks)\n"
   ]
  },
  {
   "cell_type": "code",
   "execution_count": 3,
   "id": "2743afb2",
   "metadata": {},
   "outputs": [
    {
     "name": "stdout",
     "output_type": "stream",
     "text": [
      "Hello I am : Dyal\n",
      "My age is : 20\n",
      "My marks are : 85\n"
     ]
    }
   ],
   "source": [
    "s1 = Student1(\"Dyal\", 20, 85)\n",
    "s1.intro()"
   ]
  },
  {
   "cell_type": "markdown",
   "id": "eb8c21af",
   "metadata": {},
   "source": [
    "### Variables: 3 types\n",
    "Instance variable(Object level variables)\n",
    "Static variables(class level variables)\n",
    "Local variables(Method level variables)\n",
    "Methods- 3 types\n",
    "Instance methods\n",
    "Class methods\n",
    "Static methods\n",
    "Objects: Physical existence of a class. We can create any number of objects for a class\n",
    "Syntax: refVariable = classname()\n",
    "Eg.    s = Student()\n",
    "\n",
    "Reference Variable: The variable which can be used to refer to an object is called a reference variable.\n",
    "\n",
    "Self Variable:\n",
    "Self is the default variable which is always pointing to current object\n",
    "By using self we can access instance variables and instance methods of the object.\n",
    "Self should be first parameter in a constructor\n",
    "Eg. def __init__(self)\n",
    "Self should be first parameter inside instance methods\n",
    "Eg. def intro(self)\n",
    "Constructor:\n",
    "The name of the constructor should be __init__(self)\n",
    "Constructor will be executed automatically at the time of object creation.\n",
    "The main purpose of constructor is to declare and initialise instance variables.\n",
    "Per object constructor will be executed only one time\n",
    "Constructor can take at least one argument ( at least self)\n",
    "Constructor is optional and if we are not providing any constructor then python will provide default constructor.\n",
    "\n",
    "Variables:\n",
    "\n",
    "Instance Variables : \n",
    "If the value of a variable is varied from object to object, then such type of variables are called instance variables\n",
    "For every object a separate copy of instance variables will be created\n",
    "\n",
    "Where we can declare Instance Variables:\n",
    "Inside constructor by using self variable\n",
    "Inside instance method by using self variable\n",
    "Outside of the class by using object reference variable\n",
    "\n",
    "Inside constructor by using self variable\n",
    "     Class Student:\n",
    "\tdef  __init__(self):\n",
    "\t\tself.rollno = 10\n",
    "\t\tself.name=’Pradeep’\n",
    "\t\tself.course=’BCA’"
   ]
  },
  {
   "cell_type": "code",
   "execution_count": 4,
   "id": "b6a9757b",
   "metadata": {},
   "outputs": [
    {
     "name": "stdout",
     "output_type": "stream",
     "text": [
      "Constructor execution\n",
      "Constructor execution\n",
      "Constructor execution\n",
      "Method execution\n"
     ]
    }
   ],
   "source": [
    "class ConstructorTest:\n",
    "    def __init__(self):\n",
    "        print(\"Constructor execution\")\n",
    "    def m1(self):\n",
    "        print(\"Method execution\")\n",
    "\n",
    "constTest1 = ConstructorTest()\n",
    "constTest2 = ConstructorTest()\n",
    "constTest3 = ConstructorTest()\n",
    "constTest1.m1()"
   ]
  },
  {
   "cell_type": "code",
   "execution_count": 7,
   "id": "bc407c19",
   "metadata": {},
   "outputs": [
    {
     "name": "stdout",
     "output_type": "stream",
     "text": [
      "{'name': 'Pradeep', 'age': 20, 'marks': 82}\n"
     ]
    }
   ],
   "source": [
    "#inside constructor by using self variables\n",
    "class Student2:\n",
    "    \"Python class for student\"\n",
    "    def __init__(self):\n",
    "        self.name='Pradeep'\n",
    "        self.age=20\n",
    "        self.marks=82\n",
    "\n",
    "stu2 = Student2()\n",
    "print(stu2.__dict__)"
   ]
  },
  {
   "cell_type": "code",
   "execution_count": 8,
   "id": "68eef99b",
   "metadata": {},
   "outputs": [
    {
     "name": "stdout",
     "output_type": "stream",
     "text": [
      "{'name': 'Pradeep', 'age': 20, 'marks': 82, 'course': 'BCA'}\n"
     ]
    }
   ],
   "source": [
    "# inside instance method by using Self variable\n",
    "class Student3:\n",
    "    def __init__(self):\n",
    "        self.name='Pradeep'\n",
    "        self.age=20\n",
    "        self.marks=82\n",
    "    def m1(self):\n",
    "        self.course = 'BCA'\n",
    "    \n",
    "stu3 = Student3()\n",
    "stu3.m1()\n",
    "print(stu3.__dict__) "
   ]
  },
  {
   "cell_type": "markdown",
   "id": "b4ecf8f7",
   "metadata": {},
   "source": [
    "### Inside Instance Method by using Self Variable:\n",
    "We can also declare instance variables inside the instance method by using self variables.\n",
    "Outside of the class by using Object reference variable:\n",
    "We can also add instance variables outside of a class to a particular object\n",
    "\n",
    "How we can access instance variables:\n",
    "We can access instance variables with in the class by using self variable and outside of the class by using object reference\n",
    "\n",
    "How to delete Instance variable from the Object:\n",
    "Within a class we can delete instance variable as follows:\n",
    " del  self.variableName\n",
    "We can delete instance variables from outside of class as follows:\n",
    " del  objectReference.variableName\n",
    "\n",
    "Static Variables:\n",
    "If the value of a variable is not varied from object to object, such type of variables we have to declare with in the class directly but outside of methods. Such type of variables are called Static variables\n",
    "Only one copy of static variable will be created and shared by all objects of that class\n",
    "We can access static variables either by class name or by object reference. But recommended to use only class name in case of static variables.\n",
    "\n",
    "Declare static variables:\n",
    "We can declare within the class directly but from outside of any method\n",
    "Inside constructor by using class name\n",
    "Inside instance method by using class name\n",
    "Inside classmethod by using either class name or cls variable\n",
    "Inside static method by using class name\n",
    "\n",
    "Access Static Variables:\n",
    "Inside constructor: by using either self or classname\n",
    "Inside instance method: by using either self or classname\n",
    "Inside class method: by using either cls variable or classname\n",
    "Inside static method: by using classname\n",
    "From outside of class: By using either object reference or classname\n",
    "Note: if we change the value of static variable by using either self or object reference variable then the value of static variable won’t be changed, just a new instance variable with that name will be added to that particular object.\n",
    "\n",
    "Delete Static variables:\n",
    "We can delete static variables from anywhere by using the following syntax\n",
    " del classname.variablename\n",
    "\n",
    "Local Variables:\n",
    "Local variables will be created at the time of method execution and destroyed once method completes.\n",
    "Local variables of a method cannot be accessed from outside of a method.\n",
    "\n"
   ]
  },
  {
   "cell_type": "code",
   "execution_count": 9,
   "id": "5249a893",
   "metadata": {},
   "outputs": [
    {
     "name": "stdout",
     "output_type": "stream",
     "text": [
      "84\n",
      "{'name': 'Dyal', 'age': 20, 'marks': 84, 'course': 'BCA', 'mobileNo': '9866554564'}\n",
      "Dyal 20 BCA\n"
     ]
    }
   ],
   "source": [
    "# instance variable outside of the class\n",
    "class Student:\n",
    "    def __init__(self):\n",
    "        self.name='Dyal'\n",
    "        self.age=20\n",
    "        self.marks=84\n",
    "    def m1(self):\n",
    "        self.course='BCA'\n",
    "        print(self.marks)\n",
    "stu1 = Student()\n",
    "stu1.m1()\n",
    "stu1.mobileNo = '9866554564'\n",
    "print(stu1.__dict__)\n",
    "print(stu1.name, stu1.age,stu1.course)"
   ]
  },
  {
   "cell_type": "code",
   "execution_count": 10,
   "id": "dcbd069d",
   "metadata": {},
   "outputs": [
    {
     "name": "stdout",
     "output_type": "stream",
     "text": [
      "{'name': 'Dyal', 'age': 20, 'marks': 84}\n",
      "{'name': 'Dyal', 'marks': 84}\n",
      "{'name': 'Dyal'}\n",
      "{'name': 'Dyal', 'age': 20, 'marks': 84}\n"
     ]
    }
   ],
   "source": [
    "# Delete instance variable\n",
    "class Student2:\n",
    "    def __init__(self):\n",
    "        self.name='Dyal'\n",
    "        self.age=20\n",
    "        self.marks=84\n",
    "    def m1(self):\n",
    "        del self.age\n",
    "\n",
    "stu2 = Student2()\n",
    "stu3 = Student2()\n",
    "print(stu2.__dict__)\n",
    "stu2.m1()\n",
    "print(stu2.__dict__)\n",
    "del stu2.marks\n",
    "print(stu2.__dict__)\n",
    "print(stu3.__dict__)"
   ]
  },
  {
   "cell_type": "code",
   "execution_count": 11,
   "id": "b97535e3",
   "metadata": {},
   "outputs": [
    {
     "name": "stdout",
     "output_type": "stream",
     "text": [
      "T1 object : 10 20\n",
      "T2 object : 10 20\n",
      "T1 object : 444 99\n",
      "T2 object : 444 20\n"
     ]
    }
   ],
   "source": [
    "# static variables\n",
    "class Test:\n",
    "    x = 10  # static variable\n",
    "    def __init__(self):\n",
    "        self.y = 20  # instance variable\n",
    "\n",
    "t1 = Test()\n",
    "t2 = Test()\n",
    "print(\"T1 object :\",t1.x,t1.y) #10 20\n",
    "print(\"T2 object :\",t2.x,t2.y) #10 20\n",
    "Test.x=444\n",
    "t1.y=99\n",
    "print(\"T1 object :\",t1.x,t1.y) # 444 99\n",
    "print(\"T2 object :\",t2.x,t2.y) # 444 20  "
   ]
  },
  {
   "cell_type": "code",
   "execution_count": 12,
   "id": "8c63ecd8",
   "metadata": {},
   "outputs": [
    {
     "name": "stdout",
     "output_type": "stream",
     "text": [
      "{'__module__': '__main__', 'a': 10, '__init__': <function Test2.__init__ at 0x000002679AC0EFC0>, 'm1': <function Test2.m1 at 0x000002679ACB45E0>, 'm2': <classmethod(<function Test2.m2 at 0x000002679ACB4400>)>, 'm3': <staticmethod(<function Test2.m3 at 0x000002679ACB4720>)>, '__dict__': <attribute '__dict__' of 'Test2' objects>, '__weakref__': <attribute '__weakref__' of 'Test2' objects>, '__doc__': None}\n",
      "{'__module__': '__main__', 'a': 10, '__init__': <function Test2.__init__ at 0x000002679AC0EFC0>, 'm1': <function Test2.m1 at 0x000002679ACB45E0>, 'm2': <classmethod(<function Test2.m2 at 0x000002679ACB4400>)>, 'm3': <staticmethod(<function Test2.m3 at 0x000002679ACB4720>)>, '__dict__': <attribute '__dict__' of 'Test2' objects>, '__weakref__': <attribute '__weakref__' of 'Test2' objects>, '__doc__': None, 'b': 20}\n",
      "{'__module__': '__main__', 'a': 10, '__init__': <function Test2.__init__ at 0x000002679AC0EFC0>, 'm1': <function Test2.m1 at 0x000002679ACB45E0>, 'm2': <classmethod(<function Test2.m2 at 0x000002679ACB4400>)>, 'm3': <staticmethod(<function Test2.m3 at 0x000002679ACB4720>)>, '__dict__': <attribute '__dict__' of 'Test2' objects>, '__weakref__': <attribute '__weakref__' of 'Test2' objects>, '__doc__': None, 'b': 20, 'c': 30}\n",
      "{'__module__': '__main__', 'a': 10, '__init__': <function Test2.__init__ at 0x000002679AC0EFC0>, 'm1': <function Test2.m1 at 0x000002679ACB45E0>, 'm2': <classmethod(<function Test2.m2 at 0x000002679ACB4400>)>, 'm3': <staticmethod(<function Test2.m3 at 0x000002679ACB4720>)>, '__dict__': <attribute '__dict__' of 'Test2' objects>, '__weakref__': <attribute '__weakref__' of 'Test2' objects>, '__doc__': None, 'b': 20, 'c': 30, 'd1': 40, 'd2': 200}\n",
      "{'__module__': '__main__', 'a': 10, '__init__': <function Test2.__init__ at 0x000002679AC0EFC0>, 'm1': <function Test2.m1 at 0x000002679ACB45E0>, 'm2': <classmethod(<function Test2.m2 at 0x000002679ACB4400>)>, 'm3': <staticmethod(<function Test2.m3 at 0x000002679ACB4720>)>, '__dict__': <attribute '__dict__' of 'Test2' objects>, '__weakref__': <attribute '__weakref__' of 'Test2' objects>, '__doc__': None, 'b': 20, 'c': 30, 'd1': 40, 'd2': 200, 'e': 50}\n",
      "{'__module__': '__main__', 'a': 10, '__init__': <function Test2.__init__ at 0x000002679AC0EFC0>, 'm1': <function Test2.m1 at 0x000002679ACB45E0>, 'm2': <classmethod(<function Test2.m2 at 0x000002679ACB4400>)>, 'm3': <staticmethod(<function Test2.m3 at 0x000002679ACB4720>)>, '__dict__': <attribute '__dict__' of 'Test2' objects>, '__weakref__': <attribute '__weakref__' of 'Test2' objects>, '__doc__': None, 'b': 20, 'c': 30, 'd1': 40, 'd2': 200, 'e': 50, 'f': 60}\n"
     ]
    }
   ],
   "source": [
    "# Declare Static Variable\n",
    "class Test2:\n",
    "    a=10\n",
    "    def __init__(self):\n",
    "        Test2.b=20\n",
    "    def m1(self):\n",
    "        Test2.c=30\n",
    "    @classmethod  # annotation\n",
    "    def m2(cls):\n",
    "        cls.d1= 40\n",
    "        Test2.d2=200\n",
    "    @staticmethod\n",
    "    def m3():\n",
    "        Test2.e = 50\n",
    "\n",
    "print(Test2.__dict__) # a, 10\n",
    "t = Test2()\n",
    "print(Test2.__dict__) # a,b\n",
    "t.m1()\n",
    "print(Test2.__dict__) # a,b,c\n",
    "Test2.m2()\n",
    "print(Test2.__dict__) # a,b,c,d1,d2\n",
    "Test2.m3()\n",
    "print(Test2.__dict__) # a,b,c,d1,d2,e\n",
    "Test2.f=60\n",
    "print(Test2.__dict__) # a,b,c,d1,d2,e,f\n",
    "\n",
    "    "
   ]
  },
  {
   "cell_type": "code",
   "execution_count": 13,
   "id": "979bfff9",
   "metadata": {},
   "outputs": [
    {
     "name": "stdout",
     "output_type": "stream",
     "text": [
      "10\n",
      "10\n",
      "10\n",
      "10\n",
      "10\n",
      "10\n",
      "44\n",
      "44\n",
      "999\n"
     ]
    }
   ],
   "source": [
    "# Access static variable\n",
    "class Test3:\n",
    "    a=10\n",
    "    def __init__(self):\n",
    "        print(self.a)\n",
    "        print(Test3.a)\n",
    "    def m1(self):\n",
    "        print(self.a)\n",
    "        print(Test3.a)\n",
    "    @classmethod  # annotation\n",
    "    def m2(cls):\n",
    "        Test3.a=44\n",
    "        print(cls.a)\n",
    "        print(Test3.a)\n",
    "        Test3.a=999\n",
    "    @staticmethod\n",
    "    def m3():\n",
    "        print(Test3.a)\n",
    "\n",
    "t = Test3()\n",
    "print(Test3.a)\n",
    "print(t.a)\n",
    "t.m1()\n",
    "t.m2()\n",
    "t.m3()"
   ]
  },
  {
   "cell_type": "code",
   "execution_count": 14,
   "id": "84581b45",
   "metadata": {},
   "outputs": [],
   "source": [
    "# write a program to delete a static variable from inside the class constructor, instance method, class method and static method and also from the outside of the class"
   ]
  },
  {
   "cell_type": "code",
   "execution_count": 1,
   "id": "c7630acd",
   "metadata": {},
   "outputs": [
    {
     "name": "stdout",
     "output_type": "stream",
     "text": [
      "Welcome to  PYTHONBANK\n",
      "Enter your Name:as\n",
      "d-Deposit \n",
      "w-Withdraw \n",
      " e-exit\n",
      "Choose your option:e\n",
      "Thanks for Banking\n"
     ]
    },
    {
     "ename": "SystemExit",
     "evalue": "",
     "output_type": "error",
     "traceback": [
      "An exception has occurred, use %tb to see the full traceback.\n",
      "\u001b[1;31mSystemExit\u001b[0m\n"
     ]
    },
    {
     "name": "stderr",
     "output_type": "stream",
     "text": [
      "C:\\ProgramData\\anaconda3\\Lib\\site-packages\\IPython\\core\\interactiveshell.py:3534: UserWarning: To exit: use 'exit', 'quit', or Ctrl-D.\n",
      "  warn(\"To exit: use 'exit', 'quit', or Ctrl-D.\", stacklevel=1)\n"
     ]
    }
   ],
   "source": [
    "# Application for the use of static variables\n",
    "import sys\n",
    "class Customer:\n",
    "    bankname='PYTHONBANK'\n",
    "    def __init__(self,name, balance=0.0):\n",
    "        self.name = name\n",
    "        self.balance = balance\n",
    "    def deposit(self, amt):\n",
    "        self.balance = self.balance + amt\n",
    "        print(\"Balance after deposit:\", self.balance)\n",
    "        \n",
    "    def withdraw(self, amt):\n",
    "        print(\"Your balance before withdraw :\", self.balance)\n",
    "        if amt > self.balance:\n",
    "            print(\"Insufficient Funds, cannot perform this operation\")\n",
    "            sys.exit()\n",
    "        self.balance = self.balance - amt\n",
    "        print(\"Your balance after withdraw :\", self.balance)\n",
    "        \n",
    "print('Welcome to ', Customer.bankname)\n",
    "name = input('Enter your Name:')\n",
    "c = Customer(name)  \n",
    "while(True):\n",
    "    print(\"d-Deposit \\nw-Withdraw \\n e-exit\")\n",
    "    option = input('Choose your option:')\n",
    "    if option == 'd' or option == 'D':\n",
    "        amt = float(input('Enter deposit amount:'))\n",
    "        c.deposit(amt)\n",
    "    elif option == 'w' or option == 'W':\n",
    "        amt = float(input('Enter withdraw amount:'))\n",
    "        c.withdraw(amt)\n",
    "    elif option == 'e' or option == 'E':\n",
    "        print('Thanks for Banking')\n",
    "        sys.exit()\n",
    "    else:\n",
    "        print('Invalid option, Please choose valid option')"
   ]
  },
  {
   "cell_type": "code",
   "execution_count": 2,
   "id": "c5444bdd",
   "metadata": {},
   "outputs": [
    {
     "name": "stdout",
     "output_type": "stream",
     "text": [
      "100\n",
      "200\n"
     ]
    },
    {
     "ename": "NameError",
     "evalue": "name 'a' is not defined",
     "output_type": "error",
     "traceback": [
      "\u001b[1;31m---------------------------------------------------------------------------\u001b[0m",
      "\u001b[1;31mNameError\u001b[0m                                 Traceback (most recent call last)",
      "Cell \u001b[1;32mIn[2], line 11\u001b[0m\n\u001b[0;32m      9\u001b[0m t \u001b[38;5;241m=\u001b[39m Test()\n\u001b[0;32m     10\u001b[0m t\u001b[38;5;241m.\u001b[39mm1()\n\u001b[1;32m---> 11\u001b[0m t\u001b[38;5;241m.\u001b[39mm2()\n",
      "Cell \u001b[1;32mIn[2], line 8\u001b[0m, in \u001b[0;36mTest.m2\u001b[1;34m(self)\u001b[0m\n\u001b[0;32m      6\u001b[0m b \u001b[38;5;241m=\u001b[39m \u001b[38;5;241m200\u001b[39m\n\u001b[0;32m      7\u001b[0m \u001b[38;5;28mprint\u001b[39m(b)\n\u001b[1;32m----> 8\u001b[0m \u001b[38;5;28mprint\u001b[39m(a)\n",
      "\u001b[1;31mNameError\u001b[0m: name 'a' is not defined"
     ]
    }
   ],
   "source": [
    "class Test:\n",
    "    def m1(self):\n",
    "        a = 100\n",
    "        print(a)\n",
    "    def m2(self):\n",
    "        b = 200\n",
    "        print(b)\n",
    "        print(a)\n",
    "t = Test()\n",
    "t.m1()\n",
    "t.m2()"
   ]
  },
  {
   "cell_type": "code",
   "execution_count": null,
   "id": "5181e714",
   "metadata": {},
   "outputs": [],
   "source": []
  }
 ],
 "metadata": {
  "kernelspec": {
   "display_name": "Python 3 (ipykernel)",
   "language": "python",
   "name": "python3"
  },
  "language_info": {
   "codemirror_mode": {
    "name": "ipython",
    "version": 3
   },
   "file_extension": ".py",
   "mimetype": "text/x-python",
   "name": "python",
   "nbconvert_exporter": "python",
   "pygments_lexer": "ipython3",
   "version": "3.11.5"
  }
 },
 "nbformat": 4,
 "nbformat_minor": 5
}
