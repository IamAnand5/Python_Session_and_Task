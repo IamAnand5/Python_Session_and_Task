{
 "cells": [
  {
   "cell_type": "code",
   "execution_count": 1,
   "id": "a1a886d9",
   "metadata": {},
   "outputs": [
    {
     "name": "stdout",
     "output_type": "stream",
     "text": [
      "****Class One Start****\n",
      "\n",
      "I am a constructor of class 2\n",
      "I am an instance method of class 2\n",
      "\n",
      "I am a constructor of class 1\n",
      "I am an instance method of class 1\n",
      "I am a class method of class 1\n",
      "I am a static method of class 1\n",
      "\n",
      " ****Class Two Start****\n",
      "\n",
      "I am a constructor of class 2\n",
      "I am an instance method of class 2\n",
      "I am a class method of class 2\n",
      "I am a static method of class 2\n"
     ]
    }
   ],
   "source": [
    "# write a program to access the members of one class to another class\n",
    "\n",
    "\n",
    "class One:\n",
    "    print('****Class One Start****')\n",
    "    def __init__(self):\n",
    "        self.obj = Two()\n",
    "        self.obj = Two.method2(self)\n",
    "        \n",
    "        print('\\nI am a constructor of class 1')\n",
    "        \n",
    "    def method1(self):\n",
    "        print(\"I am an instance method of class 1\")\n",
    "        \n",
    "    @classmethod\n",
    "    def clsmethod1(cls):\n",
    "        print('I am a class method of class 1')\n",
    "        \n",
    "    @staticmethod\n",
    "    def stmethod1():\n",
    "        print('I am a static method of class 1')\n",
    "        \n",
    "class Two:\n",
    "    \n",
    "    def __init__(self):\n",
    "#         self.obj = One()\n",
    "#         self.obj = One.method1(self)\n",
    "        \n",
    "        print('\\nI am a constructor of class 2')\n",
    "        \n",
    "     \n",
    "    def method2(self):\n",
    "    \n",
    "        print(\"I am an instance method of class 2\")\n",
    "        \n",
    "    @classmethod\n",
    "    def clsmethod2(cls):\n",
    "        print('I am a class method of class 2')\n",
    "        \n",
    "    @staticmethod\n",
    "    def stmethod2():\n",
    "        print('I am a static method of class 2')\n",
    "        \n",
    "obj1 = One()\n",
    "obj1.method1()\n",
    "One.clsmethod1()\n",
    "One.stmethod1()\n",
    "\n",
    "print(\"\\n ****Class Two Start****\")\n",
    "\n",
    "obj2 = Two()\n",
    "obj2.method2()\n",
    "obj2.clsmethod2()\n",
    "obj2.stmethod2()\n"
   ]
  },
  {
   "cell_type": "code",
   "execution_count": null,
   "id": "f9da60aa",
   "metadata": {},
   "outputs": [],
   "source": []
  }
 ],
 "metadata": {
  "kernelspec": {
   "display_name": "Python 3 (ipykernel)",
   "language": "python",
   "name": "python3"
  },
  "language_info": {
   "codemirror_mode": {
    "name": "ipython",
    "version": 3
   },
   "file_extension": ".py",
   "mimetype": "text/x-python",
   "name": "python",
   "nbconvert_exporter": "python",
   "pygments_lexer": "ipython3",
   "version": "3.11.5"
  }
 },
 "nbformat": 4,
 "nbformat_minor": 5
}
