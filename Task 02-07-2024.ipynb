{
 "cells": [
  {
   "cell_type": "markdown",
   "id": "8073f6c0",
   "metadata": {},
   "source": [
    "### write a program to reverse the given String\n",
    "### write a program to reverse the order of words\n",
    "### write a program to reverse internal content of eash word\n",
    "### write a program to get the following output :\n",
    "#### input = a5b4c2\n",
    "\n",
    "#### output = aaaaabbbbcc"
   ]
  },
  {
   "cell_type": "code",
   "execution_count": 8,
   "id": "2d0af948",
   "metadata": {},
   "outputs": [
    {
     "ename": "SyntaxError",
     "evalue": "invalid syntax (1786156572.py, line 5)",
     "output_type": "error",
     "traceback": [
      "\u001b[1;36m  Cell \u001b[1;32mIn[8], line 5\u001b[1;36m\u001b[0m\n\u001b[1;33m    for i in str(index:index+1:-1):\u001b[0m\n\u001b[1;37m                      ^\u001b[0m\n\u001b[1;31mSyntaxError\u001b[0m\u001b[1;31m:\u001b[0m invalid syntax\n"
     ]
    }
   ],
   "source": [
    "# write a program to reverse the given String\n",
    "\n",
    "str = input('Enter a string:')\n"
   ]
  },
  {
   "cell_type": "code",
   "execution_count": 2,
   "id": "57d717bd",
   "metadata": {},
   "outputs": [],
   "source": [
    "# write a program to reverse the order of words"
   ]
  },
  {
   "cell_type": "code",
   "execution_count": 3,
   "id": "fd98ca36",
   "metadata": {},
   "outputs": [],
   "source": [
    "# write a program to reverse internal content of eash word"
   ]
  },
  {
   "cell_type": "code",
   "execution_count": null,
   "id": "c0948704",
   "metadata": {},
   "outputs": [],
   "source": [
    "# write a program to get the following output"
   ]
  }
 ],
 "metadata": {
  "kernelspec": {
   "display_name": "Python 3 (ipykernel)",
   "language": "python",
   "name": "python3"
  },
  "language_info": {
   "codemirror_mode": {
    "name": "ipython",
    "version": 3
   },
   "file_extension": ".py",
   "mimetype": "text/x-python",
   "name": "python",
   "nbconvert_exporter": "python",
   "pygments_lexer": "ipython3",
   "version": "3.11.5"
  }
 },
 "nbformat": 4,
 "nbformat_minor": 5
}
