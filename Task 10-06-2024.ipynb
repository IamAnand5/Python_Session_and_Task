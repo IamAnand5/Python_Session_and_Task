{
 "cells": [
  {
   "cell_type": "markdown",
   "id": "ae312033",
   "metadata": {},
   "source": [
    "### write a program to enter name and percentage marks in a dictionary and display information on the screen"
   ]
  },
  {
   "cell_type": "code",
   "execution_count": 7,
   "id": "42986736",
   "metadata": {},
   "outputs": [
    {
     "name": "stdout",
     "output_type": "stream",
     "text": [
      "enter the nameanad\n",
      "enter the marks77.0\n",
      "student info {'anad': 77.0}\n"
     ]
    }
   ],
   "source": [
    "dc = {}\n",
    "\n",
    "key = input('Enter Name:')\n",
    "value = int(input('Enter percentage:'))\n",
    "\n",
    "dc[key] = value\n",
    "#dc = (key,value)\n",
    "\n",
    "print(dict(dc))"
   ]
  },
  {
   "cell_type": "markdown",
   "id": "83ec8f86",
   "metadata": {},
   "source": [
    "### write a program to find number of occurences of each letter present in the given string"
   ]
  },
  {
   "cell_type": "code",
   "execution_count": 17,
   "id": "06d743c5",
   "metadata": {},
   "outputs": [
    {
     "name": "stdout",
     "output_type": "stream",
     "text": [
      "Enter a string:hahaha\n",
      "Enter letter to find:h\n",
      "3\n"
     ]
    }
   ],
   "source": [
    "s = input('Enter a string:')\n",
    "c = input('Enter letter to find:')\n",
    "\n",
    "result = 0\n",
    "\n",
    "for i in range(len(s)) :\n",
    "    if (s[i] == c):\n",
    "        result = result + 1         \n",
    "\n",
    "print(result)"
   ]
  },
  {
   "cell_type": "code",
   "execution_count": 9,
   "id": "86d4abd4",
   "metadata": {
    "scrolled": true
   },
   "outputs": [
    {
     "name": "stdout",
     "output_type": "stream",
     "text": [
      "1 p\n",
      "2 y\n",
      "1 t\n",
      "1 h\n",
      "1 o\n",
      "1 n\n",
      "2  \n",
      "1 i\n",
      "2 s\n",
      "2  \n",
      "1 e\n",
      "1 a\n",
      "2 s\n",
      "2 y\n"
     ]
    }
   ],
   "source": [
    "s = 'python is easy'\n",
    "for i in s:\n",
    "    print(s.count(i),i)"
   ]
  },
  {
   "cell_type": "markdown",
   "id": "34c2b0cb",
   "metadata": {},
   "source": [
    "### write a program to find number of occurences of each vowel present in the given string"
   ]
  },
  {
   "cell_type": "code",
   "execution_count": 4,
   "id": "0273f272",
   "metadata": {},
   "outputs": [
    {
     "name": "stdout",
     "output_type": "stream",
     "text": [
      "4\n"
     ]
    }
   ],
   "source": [
    "s='Python Is Easy'\n",
    "vowels=set('aeiouAEIOU')\n",
    "output=set(s)\n",
    "print(len(vowels & output))"
   ]
  }
 ],
 "metadata": {
  "kernelspec": {
   "display_name": "Python 3 (ipykernel)",
   "language": "python",
   "name": "python3"
  },
  "language_info": {
   "codemirror_mode": {
    "name": "ipython",
    "version": 3
   },
   "file_extension": ".py",
   "mimetype": "text/x-python",
   "name": "python",
   "nbconvert_exporter": "python",
   "pygments_lexer": "ipython3",
   "version": "3.11.5"
  }
 },
 "nbformat": 4,
 "nbformat_minor": 5
}
