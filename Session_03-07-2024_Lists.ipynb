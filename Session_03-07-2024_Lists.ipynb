{
 "cells": [
  {
   "cell_type": "markdown",
   "id": "3e145d39",
   "metadata": {},
   "source": [
    "#### List:\n",
    "we want to represent a group of individual objects as a single entity where insertion order preserved and duplicates\n",
    "are allowed.\n",
    "Heterogeneous objects are allowed\n",
    "list is dynaminc\n",
    "Supports both positive and negative indexes.\n",
    "list objects are mutable\n",
    "\n",
    "Access elements of list\n",
    " - By using indexes\n",
    " - +ve index, -ve index\n",
    " - +ve index start from 0\n",
    " - -ve index start from -1\n",
    " \n",
    " \n",
    " Ordering elements of the List:\n",
    " - reverse()\n",
    " - sort()\n",
    "   - If numbers then defaults sorting order would be in Ascending order\n",
    "   - If its alphabet then it should be in Alphabetical order\n",
    "   \n",
    "Mathematical Operators for List:\n",
    " +  , *\n",
    " + = Concatenation\n",
    " * = repetition\n",
    " \n",
    " comparing list :\n",
    " ==, !=\n",
    " \n",
    " Membership operators:\n",
    " in , not in"
   ]
  },
  {
   "cell_type": "code",
   "execution_count": 1,
   "id": "b7f6c190",
   "metadata": {},
   "outputs": [
    {
     "name": "stdout",
     "output_type": "stream",
     "text": [
      "[]\n"
     ]
    }
   ],
   "source": [
    "l3 = []\n",
    "print(l3)"
   ]
  },
  {
   "cell_type": "code",
   "execution_count": 2,
   "id": "29b78461",
   "metadata": {},
   "outputs": [
    {
     "name": "stdout",
     "output_type": "stream",
     "text": [
      "<class 'type'>\n"
     ]
    }
   ],
   "source": [
    "print(type(list))"
   ]
  },
  {
   "cell_type": "code",
   "execution_count": 4,
   "id": "ae615e31",
   "metadata": {},
   "outputs": [
    {
     "name": "stdout",
     "output_type": "stream",
     "text": [
      "Enter List:[6,8,9]\n",
      "[6, 8, 9]\n",
      "<class 'list'>\n"
     ]
    }
   ],
   "source": [
    "# Dynamic input\n",
    "list1 = eval(input(\"Enter List:\"))\n",
    "print(list1)\n",
    "print(type(list1))"
   ]
  },
  {
   "cell_type": "code",
   "execution_count": 5,
   "id": "f84b4c2f",
   "metadata": {},
   "outputs": [
    {
     "name": "stdout",
     "output_type": "stream",
     "text": [
      "[0, 2, 4, 6, 8]\n",
      "<class 'list'>\n"
     ]
    }
   ],
   "source": [
    "# list() function\n",
    "list3 = list(range(0,10,2))\n",
    "print(list3)\n",
    "print(type(list3))"
   ]
  },
  {
   "cell_type": "code",
   "execution_count": 6,
   "id": "7dadebde",
   "metadata": {},
   "outputs": [
    {
     "name": "stdout",
     "output_type": "stream",
     "text": [
      "['P', 'y', 't', 'h', 'o', 'n']\n"
     ]
    }
   ],
   "source": [
    "str1 = \"Python\"\n",
    "list4 = list(str1)\n",
    "print(list4)"
   ]
  },
  {
   "cell_type": "code",
   "execution_count": 7,
   "id": "18f5d533",
   "metadata": {},
   "outputs": [
    {
     "name": "stdout",
     "output_type": "stream",
     "text": [
      "['Python', 'is', 'very', 'easy']\n",
      "<class 'list'>\n"
     ]
    }
   ],
   "source": [
    "# split() function\n",
    "str2 = \"Python is very easy\"\n",
    "list5 = str2.split()\n",
    "print(list5)\n",
    "print(type(list5))"
   ]
  },
  {
   "cell_type": "code",
   "execution_count": 8,
   "id": "53266faf",
   "metadata": {},
   "outputs": [],
   "source": [
    "# Nested List\n",
    "list6 = [2,4,[10,20]]"
   ]
  },
  {
   "cell_type": "code",
   "execution_count": 9,
   "id": "6bbfe041",
   "metadata": {},
   "outputs": [
    {
     "data": {
      "text/plain": [
       "'Python'"
      ]
     },
     "execution_count": 9,
     "metadata": {},
     "output_type": "execute_result"
    }
   ],
   "source": [
    "list5[0]"
   ]
  },
  {
   "cell_type": "code",
   "execution_count": 10,
   "id": "b2de4017",
   "metadata": {},
   "outputs": [
    {
     "data": {
      "text/plain": [
       "'easy'"
      ]
     },
     "execution_count": 10,
     "metadata": {},
     "output_type": "execute_result"
    }
   ],
   "source": [
    "list5[-1]"
   ]
  },
  {
   "cell_type": "code",
   "execution_count": 11,
   "id": "c57e66f3",
   "metadata": {},
   "outputs": [
    {
     "ename": "IndexError",
     "evalue": "list index out of range",
     "output_type": "error",
     "traceback": [
      "\u001b[1;31m---------------------------------------------------------------------------\u001b[0m",
      "\u001b[1;31mIndexError\u001b[0m                                Traceback (most recent call last)",
      "Cell \u001b[1;32mIn[11], line 1\u001b[0m\n\u001b[1;32m----> 1\u001b[0m list5[\u001b[38;5;241m10\u001b[39m]\n",
      "\u001b[1;31mIndexError\u001b[0m: list index out of range"
     ]
    }
   ],
   "source": [
    "list5[10]"
   ]
  },
  {
   "cell_type": "code",
   "execution_count": 12,
   "id": "87041d61",
   "metadata": {},
   "outputs": [
    {
     "name": "stdout",
     "output_type": "stream",
     "text": [
      "[4, 6, 8]\n",
      "[5, 7, 9]\n",
      "[9, 7, 5]\n",
      "[5, 6, 7, 8, 9]\n"
     ]
    }
   ],
   "source": [
    "# Slice \n",
    "# list6 = list5[start:stop:step]\n",
    "list7= [2,3,4,5,6,7,8,9]\n",
    "print(list7[2:7:2])  # 4,6,8\n",
    "print(list7[3::2])  #5,7,9\n",
    "print(list7[8:2:-2]) #\n",
    "print(list7[3:50]) #4,5,6,7,8,9"
   ]
  },
  {
   "cell_type": "code",
   "execution_count": 13,
   "id": "3868a789",
   "metadata": {},
   "outputs": [
    {
     "name": "stdout",
     "output_type": "stream",
     "text": [
      "[20, 30, 40, 50, 60]\n",
      "[20, 30, 660, 50, 60]\n"
     ]
    }
   ],
   "source": [
    "# list is a mutable\n",
    "list8= [20,30,40,50,60]\n",
    "print(list8)\n",
    "list8[2]=660\n",
    "print(list8)"
   ]
  },
  {
   "cell_type": "code",
   "execution_count": 15,
   "id": "0283a54b",
   "metadata": {},
   "outputs": [
    {
     "name": "stdout",
     "output_type": "stream",
     "text": [
      "2\n",
      "3\n",
      "4\n",
      "5\n",
      "6\n",
      "7\n",
      "8\n",
      "9\n"
     ]
    }
   ],
   "source": [
    "# Traversing the elements of list\n",
    "# by using while loop \n",
    "list9= [2,3,4,5,6,7,8,9]\n",
    "i = 0\n",
    "while i<len(list9):\n",
    "    print(list9[i])\n",
    "    i=i+1"
   ]
  },
  {
   "cell_type": "code",
   "execution_count": 16,
   "id": "fcd9562d",
   "metadata": {},
   "outputs": [
    {
     "name": "stdout",
     "output_type": "stream",
     "text": [
      "3\n",
      "2\n"
     ]
    },
    {
     "ename": "ValueError",
     "evalue": "20 is not in list",
     "output_type": "error",
     "traceback": [
      "\u001b[1;31m---------------------------------------------------------------------------\u001b[0m",
      "\u001b[1;31mValueError\u001b[0m                                Traceback (most recent call last)",
      "Cell \u001b[1;32mIn[16], line 6\u001b[0m\n\u001b[0;32m      4\u001b[0m \u001b[38;5;28mprint\u001b[39m(list9\u001b[38;5;241m.\u001b[39mindex(\u001b[38;5;241m5\u001b[39m))\n\u001b[0;32m      5\u001b[0m \u001b[38;5;28mprint\u001b[39m(list9\u001b[38;5;241m.\u001b[39mcount(\u001b[38;5;241m5\u001b[39m))\n\u001b[1;32m----> 6\u001b[0m \u001b[38;5;28mprint\u001b[39m(list9\u001b[38;5;241m.\u001b[39mindex(\u001b[38;5;241m20\u001b[39m))\n",
      "\u001b[1;31mValueError\u001b[0m: 20 is not in list"
     ]
    }
   ],
   "source": [
    "#Functions of list\n",
    "# len(), count(), index()\n",
    "list9= [2,3,4,5,6,7,8,9,5]\n",
    "print(list9.index(5))\n",
    "print(list9.count(5))\n",
    "print(list9.index(20))"
   ]
  },
  {
   "cell_type": "code",
   "execution_count": 17,
   "id": "91ed6540",
   "metadata": {},
   "outputs": [],
   "source": [
    "# Manipulation method of list\n",
    "# append(), insert(), extend(), remove(),pop(),"
   ]
  },
  {
   "cell_type": "code",
   "execution_count": 18,
   "id": "2a353513",
   "metadata": {},
   "outputs": [
    {
     "name": "stdout",
     "output_type": "stream",
     "text": [
      "['d', 'g', 'j']\n"
     ]
    }
   ],
   "source": [
    "# append(): add item at the end of the list\n",
    "list10= []\n",
    "list10.append(\"d\")\n",
    "list10.append(\"g\")\n",
    "list10.append(\"j\")\n",
    "print(list10)"
   ]
  },
  {
   "cell_type": "code",
   "execution_count": 19,
   "id": "0c3a967a",
   "metadata": {},
   "outputs": [
    {
     "name": "stdout",
     "output_type": "stream",
     "text": [
      "['d', 900, 'g', 'j']\n"
     ]
    }
   ],
   "source": [
    "# insert() function: insert item at specified index position\n",
    "list10.insert(1,900)\n",
    "print(list10)"
   ]
  },
  {
   "cell_type": "code",
   "execution_count": 20,
   "id": "7250d481",
   "metadata": {},
   "outputs": [
    {
     "name": "stdout",
     "output_type": "stream",
     "text": [
      "['afb', 'd', 900, 'g', 'j', 'test']\n"
     ]
    }
   ],
   "source": [
    "list10.insert(20,'test')\n",
    "list10.insert(-50,'afb')\n",
    "print(list10)"
   ]
  },
  {
   "cell_type": "code",
   "execution_count": 21,
   "id": "77ffa6f3",
   "metadata": {},
   "outputs": [
    {
     "name": "stdout",
     "output_type": "stream",
     "text": [
      "['Security weaver', 'Infosys', 'Microsoft', 'SW', 'Infy', 'MS']\n"
     ]
    }
   ],
   "source": [
    "# extend() function: add all items of one list to another list\n",
    "l1 = [\"Security weaver\", \"Infosys\", \"Microsoft\"]\n",
    "l2 = [\"SW\", \"Infy\", \"MS\"]\n",
    "l1.extend(l2)\n",
    "print(l1)"
   ]
  },
  {
   "cell_type": "code",
   "execution_count": 22,
   "id": "7e7cfd36",
   "metadata": {},
   "outputs": [
    {
     "name": "stdout",
     "output_type": "stream",
     "text": [
      "[30, 50, 60]\n"
     ]
    }
   ],
   "source": [
    "# remove() function: remove item from the list\n",
    "l3 = [30,40,50,60]\n",
    "l3.remove(40)\n",
    "print(l3)"
   ]
  },
  {
   "cell_type": "code",
   "execution_count": 23,
   "id": "26d94579",
   "metadata": {},
   "outputs": [
    {
     "name": "stdout",
     "output_type": "stream",
     "text": [
      "[30, 50, 60, 20]\n"
     ]
    },
    {
     "ename": "ValueError",
     "evalue": "list.remove(x): x not in list",
     "output_type": "error",
     "traceback": [
      "\u001b[1;31m---------------------------------------------------------------------------\u001b[0m",
      "\u001b[1;31mValueError\u001b[0m                                Traceback (most recent call last)",
      "Cell \u001b[1;32mIn[23], line 4\u001b[0m\n\u001b[0;32m      2\u001b[0m l4\u001b[38;5;241m.\u001b[39mremove(\u001b[38;5;241m20\u001b[39m)\n\u001b[0;32m      3\u001b[0m \u001b[38;5;28mprint\u001b[39m(l4)\n\u001b[1;32m----> 4\u001b[0m l4\u001b[38;5;241m.\u001b[39mremove(\u001b[38;5;241m100\u001b[39m)\n",
      "\u001b[1;31mValueError\u001b[0m: list.remove(x): x not in list"
     ]
    }
   ],
   "source": [
    "l4 = [30,20,50,60,20]\n",
    "l4.remove(20)\n",
    "print(l4)\n",
    "l4.remove(100)"
   ]
  },
  {
   "cell_type": "code",
   "execution_count": 24,
   "id": "2435b7f8",
   "metadata": {},
   "outputs": [
    {
     "name": "stdout",
     "output_type": "stream",
     "text": [
      "20\n",
      "60\n",
      "[30, 20, 50]\n"
     ]
    }
   ],
   "source": [
    "# pop(): remove and returns the last element of the list\n",
    "l4 = [30,20,50,60,20]\n",
    "print(l4.pop()) # 20\n",
    "print(l4.pop()) # 60\n",
    "print(l4)"
   ]
  },
  {
   "cell_type": "code",
   "execution_count": null,
   "id": "99418f89",
   "metadata": {},
   "outputs": [],
   "source": []
  }
 ],
 "metadata": {
  "kernelspec": {
   "display_name": "Python 3 (ipykernel)",
   "language": "python",
   "name": "python3"
  },
  "language_info": {
   "codemirror_mode": {
    "name": "ipython",
    "version": 3
   },
   "file_extension": ".py",
   "mimetype": "text/x-python",
   "name": "python",
   "nbconvert_exporter": "python",
   "pygments_lexer": "ipython3",
   "version": "3.11.5"
  }
 },
 "nbformat": 4,
 "nbformat_minor": 5
}
