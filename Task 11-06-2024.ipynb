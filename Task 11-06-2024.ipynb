{
 "cells": [
  {
   "cell_type": "markdown",
   "id": "dbfe4c4c",
   "metadata": {},
   "source": [
    "### Write a function to accept 2 numbers as input and return Sum"
   ]
  },
  {
   "cell_type": "code",
   "execution_count": 4,
   "id": "22c3d9cb",
   "metadata": {},
   "outputs": [
    {
     "name": "stdout",
     "output_type": "stream",
     "text": [
      "Enter first number:25\n",
      "Enter second number:45\n"
     ]
    },
    {
     "data": {
      "text/plain": [
       "70"
      ]
     },
     "execution_count": 4,
     "metadata": {},
     "output_type": "execute_result"
    }
   ],
   "source": [
    "def sumOfTwoNumbers():\n",
    "    \n",
    "    num1 = int(input('Enter first number:'))\n",
    "    num2 = int(input('Enter second number:'))\n",
    "    \n",
    "    sum = num1 + num2\n",
    "    return sum\n",
    "\n",
    "sumOfTwoNumbers()"
   ]
  },
  {
   "cell_type": "markdown",
   "id": "d2494472",
   "metadata": {},
   "source": [
    "### Write a function to check whether the given number is even or odd?"
   ]
  },
  {
   "cell_type": "code",
   "execution_count": 6,
   "id": "1fe3779c",
   "metadata": {},
   "outputs": [
    {
     "name": "stdout",
     "output_type": "stream",
     "text": [
      "Enter a number:78\n",
      "Number is Even\n"
     ]
    }
   ],
   "source": [
    "def evenOddCheck():\n",
    "    \n",
    "    num3 = int(input('Enter a number:'))\n",
    "    \n",
    "    if (num3%2 == 0):\n",
    "        print('Number is Even')\n",
    "    else:\n",
    "        print('Number is Odd')\n",
    "        \n",
    "evenOddCheck()"
   ]
  },
  {
   "cell_type": "markdown",
   "id": "f083254c",
   "metadata": {},
   "source": [
    "### Write a function to find factorial of given number"
   ]
  },
  {
   "cell_type": "code",
   "execution_count": 22,
   "id": "fab3ba5b",
   "metadata": {},
   "outputs": [
    {
     "name": "stdout",
     "output_type": "stream",
     "text": [
      "Enter a number:10\n",
      "Factorial of a number 10 is: 3628800\n"
     ]
    }
   ],
   "source": [
    "def factorial():\n",
    "    \n",
    "    fact = 1\n",
    "    \n",
    "    num4 = int(input('Enter a number:'))\n",
    "    \n",
    "    for i in range(1,num4+1):\n",
    "        \n",
    "        fact = fact * i\n",
    "    print('Factorial of a number',num4,\"is:\",fact)\n",
    "    \n",
    "factorial()"
   ]
  }
 ],
 "metadata": {
  "kernelspec": {
   "display_name": "Python 3 (ipykernel)",
   "language": "python",
   "name": "python3"
  },
  "language_info": {
   "codemirror_mode": {
    "name": "ipython",
    "version": 3
   },
   "file_extension": ".py",
   "mimetype": "text/x-python",
   "name": "python",
   "nbconvert_exporter": "python",
   "pygments_lexer": "ipython3",
   "version": "3.11.5"
  }
 },
 "nbformat": 4,
 "nbformat_minor": 5
}
