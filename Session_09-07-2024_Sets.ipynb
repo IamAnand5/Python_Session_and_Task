{
 "cells": [
  {
   "cell_type": "markdown",
   "id": "1b4f7892",
   "metadata": {},
   "source": [
    "#### Set\n",
    "- {}\n",
    "Fuctions:\n",
    " add(x), update(x,y,z), copy(), pop(), remove(x), discard(x), clear()\n",
    " \n",
    "Mathematical operation:\n",
    "union(), intersection(), difference(), symmetric_difference(),\n",
    "\n",
    "Membership Operators\n",
    "- in, not in"
   ]
  },
  {
   "cell_type": "code",
   "execution_count": 1,
   "id": "6eec5aef",
   "metadata": {},
   "outputs": [
    {
     "name": "stdout",
     "output_type": "stream",
     "text": [
      "{40, 10, 20, 30}\n",
      "<class 'set'>\n"
     ]
    }
   ],
   "source": [
    "s1 = {10,20,30,40}\n",
    "print(s1)\n",
    "print(type(s1))"
   ]
  },
  {
   "cell_type": "code",
   "execution_count": 2,
   "id": "48745d86",
   "metadata": {},
   "outputs": [],
   "source": [
    "# set()\n",
    "l1 = [10,20,30,40,10,20,10]\n",
    "s2 = set(l1)"
   ]
  },
  {
   "cell_type": "code",
   "execution_count": 3,
   "id": "dd0dce98",
   "metadata": {},
   "outputs": [
    {
     "name": "stdout",
     "output_type": "stream",
     "text": [
      "{40, 10, 20, 30}\n"
     ]
    }
   ],
   "source": [
    "print(s2)"
   ]
  },
  {
   "cell_type": "code",
   "execution_count": 4,
   "id": "5f539bd8",
   "metadata": {},
   "outputs": [
    {
     "name": "stdout",
     "output_type": "stream",
     "text": [
      "{0, 1, 2, 3, 4, 5, 6, 7, 8, 9}\n"
     ]
    }
   ],
   "source": [
    "s3 = set(range(10))\n",
    "print(s3)"
   ]
  },
  {
   "cell_type": "code",
   "execution_count": 5,
   "id": "3e406ece",
   "metadata": {},
   "outputs": [
    {
     "name": "stdout",
     "output_type": "stream",
     "text": [
      "{}\n",
      "<class 'dict'>\n"
     ]
    }
   ],
   "source": [
    "s4={}\n",
    "print(s4)\n",
    "print(type(s4))"
   ]
  },
  {
   "cell_type": "code",
   "execution_count": 6,
   "id": "15c76adf",
   "metadata": {},
   "outputs": [
    {
     "name": "stdout",
     "output_type": "stream",
     "text": [
      "set()\n",
      "<class 'set'>\n"
     ]
    }
   ],
   "source": [
    "s5=set()\n",
    "print(s5)\n",
    "print(type(s5))"
   ]
  },
  {
   "cell_type": "code",
   "execution_count": 7,
   "id": "38bb1d24",
   "metadata": {},
   "outputs": [
    {
     "name": "stdout",
     "output_type": "stream",
     "text": [
      "{40, 10, 50, 20, 30}\n"
     ]
    }
   ],
   "source": [
    "# add()\n",
    "s6 = {10,20,30,40}\n",
    "s6.add(50)\n",
    "print(s6)"
   ]
  },
  {
   "cell_type": "code",
   "execution_count": 8,
   "id": "510d9d4d",
   "metadata": {},
   "outputs": [
    {
     "name": "stdout",
     "output_type": "stream",
     "text": [
      "{0, 1, 2, 3, 70, 40, 10, 50, 20, 60, 30}\n"
     ]
    }
   ],
   "source": [
    "# update()\n",
    "s7 = {10,20,30,40}\n",
    "l2=[50,60,70,20,30]\n",
    "s7.update(l2,range(4))\n",
    "print(s7)"
   ]
  },
  {
   "cell_type": "code",
   "execution_count": 9,
   "id": "9994ec30",
   "metadata": {},
   "outputs": [
    {
     "name": "stdout",
     "output_type": "stream",
     "text": [
      "{40, 20, 30}\n"
     ]
    }
   ],
   "source": [
    "# copy()\n",
    "s8={20,30,40}\n",
    "s9=s8.copy()\n",
    "print(s9)"
   ]
  },
  {
   "cell_type": "code",
   "execution_count": 10,
   "id": "07c32f19",
   "metadata": {},
   "outputs": [
    {
     "name": "stdout",
     "output_type": "stream",
     "text": [
      "{40, 50, 20, 30}\n",
      "{40, 20, 30}\n"
     ]
    }
   ],
   "source": [
    "s9.add(50)\n",
    "print(s9)\n",
    "print(s8)"
   ]
  },
  {
   "cell_type": "code",
   "execution_count": 11,
   "id": "86a0a520",
   "metadata": {},
   "outputs": [
    {
     "name": "stdout",
     "output_type": "stream",
     "text": [
      "{20, 30}\n"
     ]
    }
   ],
   "source": [
    "#pop()\n",
    "s8.pop()\n",
    "print(s8)"
   ]
  },
  {
   "cell_type": "code",
   "execution_count": 12,
   "id": "d3e3b652",
   "metadata": {},
   "outputs": [
    {
     "name": "stdout",
     "output_type": "stream",
     "text": [
      "{40, 50, 20, 30}\n",
      "{40, 50, 30}\n"
     ]
    }
   ],
   "source": [
    "#remove(x)\n",
    "print(s9)\n",
    "s9.remove(20)\n",
    "print(s9)"
   ]
  },
  {
   "cell_type": "code",
   "execution_count": 13,
   "id": "eac72530",
   "metadata": {},
   "outputs": [
    {
     "name": "stdout",
     "output_type": "stream",
     "text": [
      "{40, 50, 30}\n",
      "{40, 50}\n"
     ]
    }
   ],
   "source": [
    "# discard(x) - its same as remove(x), but discard function will not return any error in case if element does not find in the set\n",
    "print(s9)\n",
    "s9.discard(30)\n",
    "print(s9)"
   ]
  },
  {
   "cell_type": "code",
   "execution_count": 14,
   "id": "747effa6",
   "metadata": {},
   "outputs": [
    {
     "name": "stdout",
     "output_type": "stream",
     "text": [
      "{40, 10, 20, 30}\n",
      "set()\n"
     ]
    }
   ],
   "source": [
    "#clear()\n",
    "s10 = {10,20,30,40}\n",
    "print(s10)\n",
    "s10.clear()\n",
    "print(s10)"
   ]
  },
  {
   "cell_type": "code",
   "execution_count": 15,
   "id": "c7e32fb9",
   "metadata": {},
   "outputs": [
    {
     "name": "stdout",
     "output_type": "stream",
     "text": [
      "{40, 10, 50, 20, 60, 30}\n"
     ]
    }
   ],
   "source": [
    "# union()\n",
    "x = {10,20,30,40}\n",
    "y = {30,40,50,60}\n",
    "print(x.union(y))"
   ]
  },
  {
   "cell_type": "code",
   "execution_count": 16,
   "id": "0feb6b3e",
   "metadata": {},
   "outputs": [
    {
     "name": "stdout",
     "output_type": "stream",
     "text": [
      "{40, 30}\n"
     ]
    }
   ],
   "source": [
    "# intersection()\n",
    "x1 = {10,20,30,40}\n",
    "y1 = {30,40,50,60} \n",
    "print(x1.intersection(y1))"
   ]
  },
  {
   "cell_type": "code",
   "execution_count": 17,
   "id": "63881f53",
   "metadata": {},
   "outputs": [
    {
     "name": "stdout",
     "output_type": "stream",
     "text": [
      "{10, 20}\n",
      "{50, 60}\n"
     ]
    }
   ],
   "source": [
    "# difference()\n",
    "x2 = {10,20,30,40}\n",
    "y2 = {30,40,50,60} \n",
    "print(x2.difference(y2))\n",
    "print(y2.difference(x2))"
   ]
  },
  {
   "cell_type": "code",
   "execution_count": 18,
   "id": "2d53de8b",
   "metadata": {},
   "outputs": [
    {
     "name": "stdout",
     "output_type": "stream",
     "text": [
      "{10, 50, 20, 60}\n"
     ]
    }
   ],
   "source": [
    "# symmetric_difference():  returns only those elements which are present in either x OR y but not in both\n",
    "x3 = {10,20,30,40}\n",
    "y3 = {30,40,50,60} \n",
    "print(x3.symmetric_difference(y3))"
   ]
  },
  {
   "cell_type": "code",
   "execution_count": 19,
   "id": "2d5933bc",
   "metadata": {},
   "outputs": [
    {
     "name": "stdout",
     "output_type": "stream",
     "text": [
      "{'y', 'o', 'h', 't', 'P', 'n'}\n",
      "True\n",
      "True\n",
      "False\n"
     ]
    }
   ],
   "source": [
    "x4 = set(\"Python\")\n",
    "print(x4)\n",
    "print('t' in x4) # True\n",
    "print('n' in x4) #True\n",
    "print('a' in x4) #False"
   ]
  },
  {
   "cell_type": "code",
   "execution_count": 20,
   "id": "696a2c06",
   "metadata": {},
   "outputs": [],
   "source": [
    "# Write a program to print different vowel present in the given word using set()\n"
   ]
  },
  {
   "cell_type": "code",
   "execution_count": null,
   "id": "018fd6fa",
   "metadata": {},
   "outputs": [],
   "source": []
  }
 ],
 "metadata": {
  "kernelspec": {
   "display_name": "Python 3 (ipykernel)",
   "language": "python",
   "name": "python3"
  },
  "language_info": {
   "codemirror_mode": {
    "name": "ipython",
    "version": 3
   },
   "file_extension": ".py",
   "mimetype": "text/x-python",
   "name": "python",
   "nbconvert_exporter": "python",
   "pygments_lexer": "ipython3",
   "version": "3.11.5"
  }
 },
 "nbformat": 4,
 "nbformat_minor": 5
}
