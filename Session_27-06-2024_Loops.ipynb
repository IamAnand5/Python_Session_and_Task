{
 "cells": [
  {
   "cell_type": "code",
   "execution_count": 2,
   "id": "336ba45b",
   "metadata": {},
   "outputs": [
    {
     "name": "stdout",
     "output_type": "stream",
     "text": [
      "1\n",
      "2\n",
      "3\n",
      "4\n",
      "5\n",
      "6\n",
      "7\n",
      "8\n",
      "9\n",
      "10\n"
     ]
    }
   ],
   "source": [
    "# While loop\n",
    "a = 1\n",
    "while a <= 10:\n",
    "    print(a)\n",
    "    a = a+1"
   ]
  },
  {
   "cell_type": "code",
   "execution_count": 4,
   "id": "7085f8c1",
   "metadata": {},
   "outputs": [
    {
     "name": "stdout",
     "output_type": "stream",
     "text": [
      "Enter number:5\n",
      "The sum: 5 numbers is: 15\n"
     ]
    }
   ],
   "source": [
    "num = int(input(\"Enter number:\"))\n",
    "sum = 0\n",
    "i = 1\n",
    "while i <= num:\n",
    "    sum = sum+i\n",
    "    i = i+1\n",
    "print(\"The sum:\",num,\"numbers is:\",sum)"
   ]
  },
  {
   "cell_type": "code",
   "execution_count": null,
   "id": "9757dfbc",
   "metadata": {},
   "outputs": [],
   "source": [
    "i = 0\n",
    "#while True:   this will run while block infinitely\n",
    "    i=i+1\n",
    "    print(\"Hello\",i)"
   ]
  },
  {
   "cell_type": "code",
   "execution_count": 7,
   "id": "c719af4e",
   "metadata": {},
   "outputs": [
    {
     "name": "stdout",
     "output_type": "stream",
     "text": [
      "i= 0  j= 0\n",
      "i= 0  j= 1\n",
      "i= 0  j= 2\n",
      "i= 0  j= 3\n",
      "i= 0  j= 4\n",
      "i= 1  j= 0\n",
      "i= 1  j= 1\n",
      "i= 1  j= 2\n",
      "i= 1  j= 3\n",
      "i= 1  j= 4\n",
      "i= 2  j= 0\n",
      "i= 2  j= 1\n",
      "i= 2  j= 2\n",
      "i= 2  j= 3\n",
      "i= 2  j= 4\n",
      "i= 3  j= 0\n",
      "i= 3  j= 1\n",
      "i= 3  j= 2\n",
      "i= 3  j= 3\n",
      "i= 3  j= 4\n"
     ]
    }
   ],
   "source": [
    "#Nested loops:\n",
    "for i in range(4):\n",
    "    for j in range(5):\n",
    "        print(\"i=\",i,\" j=\",j)"
   ]
  },
  {
   "cell_type": "code",
   "execution_count": 8,
   "id": "bbe79b90",
   "metadata": {},
   "outputs": [
    {
     "name": "stdout",
     "output_type": "stream",
     "text": [
      "0\n",
      "1\n",
      "2\n",
      "3\n",
      "4\n",
      "5\n",
      "6\n",
      "7\n",
      "exit\n"
     ]
    }
   ],
   "source": [
    "#Transfer Statements\n",
    "#break, continue\n",
    "# Break\n",
    "for i in range(10):\n",
    "    if i ==8:\n",
    "        print(\"exit\")\n",
    "        break\n",
    "    print(i)"
   ]
  },
  {
   "cell_type": "code",
   "execution_count": 9,
   "id": "c831bcff",
   "metadata": {},
   "outputs": [
    {
     "name": "stdout",
     "output_type": "stream",
     "text": [
      "0\n",
      "1\n",
      "2\n",
      "3\n",
      "4\n",
      "5\n",
      "6\n",
      "7\n",
      "exit\n"
     ]
    }
   ],
   "source": [
    "#Transfer Statements\n",
    "#break, continue\n",
    "# Break\n",
    "for i in range(10):\n",
    "    if i ==8:\n",
    "        print(\"exit\")\n",
    "        break\n",
    "    print(i)"
   ]
  },
  {
   "cell_type": "code",
   "execution_count": 2,
   "id": "851456fd",
   "metadata": {},
   "outputs": [
    {
     "name": "stdout",
     "output_type": "stream",
     "text": [
      "1\n",
      "3\n",
      "5\n",
      "7\n",
      "9\n"
     ]
    }
   ],
   "source": [
    "# continue\n",
    "\n",
    "for i in range(10):\n",
    "    if i%2 == 0:\n",
    "        continue\n",
    "    print(i)"
   ]
  },
  {
   "cell_type": "code",
   "execution_count": 3,
   "id": "01fb254c",
   "metadata": {},
   "outputs": [
    {
     "name": "stdout",
     "output_type": "stream",
     "text": [
      "10\n",
      "20\n",
      "30\n",
      "40\n",
      "50\n",
      "All order processed successfully\n"
     ]
    }
   ],
   "source": [
    "# loop with else block\n",
    "\n",
    "cart = [10,20,30,40,50]\n",
    "for i in cart:\n",
    "    if i >= 500:\n",
    "        print('not able to process this order')\n",
    "        break\n",
    "    print(i)\n",
    "else:\n",
    "    print('All order processed successfully')"
   ]
  },
  {
   "cell_type": "code",
   "execution_count": 10,
   "id": "a612f353",
   "metadata": {},
   "outputs": [],
   "source": [
    "#pass \n",
    "def orderProcess():\n",
    "    pass"
   ]
  },
  {
   "cell_type": "code",
   "execution_count": 11,
   "id": "74859af5",
   "metadata": {},
   "outputs": [
    {
     "name": "stdout",
     "output_type": "stream",
     "text": [
      "20\n"
     ]
    }
   ],
   "source": [
    "# del\n",
    "a = 20\n",
    "print(a)\n",
    "del a"
   ]
  },
  {
   "cell_type": "code",
   "execution_count": 12,
   "id": "2c7c80cb",
   "metadata": {},
   "outputs": [
    {
     "ename": "NameError",
     "evalue": "name 'b' is not defined",
     "output_type": "error",
     "traceback": [
      "\u001b[1;31m---------------------------------------------------------------------------\u001b[0m",
      "\u001b[1;31mNameError\u001b[0m                                 Traceback (most recent call last)",
      "Cell \u001b[1;32mIn[12], line 3\u001b[0m\n\u001b[0;32m      1\u001b[0m b \u001b[38;5;241m=\u001b[39m \u001b[38;5;241m30\u001b[39m\n\u001b[0;32m      2\u001b[0m \u001b[38;5;28;01mdel\u001b[39;00m b\n\u001b[1;32m----> 3\u001b[0m \u001b[38;5;28mprint\u001b[39m(b)\n",
      "\u001b[1;31mNameError\u001b[0m: name 'b' is not defined"
     ]
    }
   ],
   "source": [
    "b = 30\n",
    "del b\n",
    "print(b)"
   ]
  },
  {
   "cell_type": "code",
   "execution_count": 13,
   "id": "d8a0a0f0",
   "metadata": {},
   "outputs": [
    {
     "name": "stdout",
     "output_type": "stream",
     "text": [
      "None\n"
     ]
    }
   ],
   "source": [
    "x = \"python\"\n",
    "x = None\n",
    "print(x)"
   ]
  },
  {
   "cell_type": "code",
   "execution_count": null,
   "id": "7e6cc00b",
   "metadata": {},
   "outputs": [],
   "source": []
  }
 ],
 "metadata": {
  "kernelspec": {
   "display_name": "Python 3 (ipykernel)",
   "language": "python",
   "name": "python3"
  },
  "language_info": {
   "codemirror_mode": {
    "name": "ipython",
    "version": 3
   },
   "file_extension": ".py",
   "mimetype": "text/x-python",
   "name": "python",
   "nbconvert_exporter": "python",
   "pygments_lexer": "ipython3",
   "version": "3.11.5"
  }
 },
 "nbformat": 4,
 "nbformat_minor": 5
}
