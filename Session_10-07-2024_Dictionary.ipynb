{
 "cells": [
  {
   "cell_type": "code",
   "execution_count": 9,
   "id": "9683b524",
   "metadata": {},
   "outputs": [
    {
     "name": "stdout",
     "output_type": "stream",
     "text": [
      "<class 'dict'>\n",
      "<class 'dict'>\n"
     ]
    }
   ],
   "source": [
    "d1 = {}\n",
    "d2 = dict()\n",
    "print(type(d1))\n",
    "print(type(d2))"
   ]
  },
  {
   "cell_type": "code",
   "execution_count": 10,
   "id": "73114845",
   "metadata": {},
   "outputs": [
    {
     "name": "stdout",
     "output_type": "stream",
     "text": [
      "{1: 'Python', 2: 'Java', 3: 'C#'}\n"
     ]
    }
   ],
   "source": [
    "d1[1]=\"Python\"\n",
    "d1[2]=\"Java\"\n",
    "d1[3]=\"C#\"\n",
    "print(d1)\n",
    "\n",
    "# dd = {1:\"Python\",2:\"java\"}\n",
    "# print(type(dd))"
   ]
  },
  {
   "cell_type": "code",
   "execution_count": 3,
   "id": "a0ba20f8",
   "metadata": {},
   "outputs": [
    {
     "name": "stdout",
     "output_type": "stream",
     "text": [
      "Java\n"
     ]
    }
   ],
   "source": [
    "print(d1[2])"
   ]
  },
  {
   "cell_type": "code",
   "execution_count": 4,
   "id": "5cffc4f1",
   "metadata": {},
   "outputs": [
    {
     "ename": "KeyError",
     "evalue": "10",
     "output_type": "error",
     "traceback": [
      "\u001b[1;31m---------------------------------------------------------------------------\u001b[0m",
      "\u001b[1;31mKeyError\u001b[0m                                  Traceback (most recent call last)",
      "Cell \u001b[1;32mIn[4], line 1\u001b[0m\n\u001b[1;32m----> 1\u001b[0m \u001b[38;5;28mprint\u001b[39m(d1[\u001b[38;5;241m10\u001b[39m])\n",
      "\u001b[1;31mKeyError\u001b[0m: 10"
     ]
    }
   ],
   "source": [
    "print(d1[10])"
   ]
  },
  {
   "cell_type": "code",
   "execution_count": 5,
   "id": "e3746b34",
   "metadata": {},
   "outputs": [
    {
     "ename": "AttributeError",
     "evalue": "'dict' object has no attribute 'has_key'",
     "output_type": "error",
     "traceback": [
      "\u001b[1;31m---------------------------------------------------------------------------\u001b[0m",
      "\u001b[1;31mAttributeError\u001b[0m                            Traceback (most recent call last)",
      "Cell \u001b[1;32mIn[5], line 1\u001b[0m\n\u001b[1;32m----> 1\u001b[0m d1\u001b[38;5;241m.\u001b[39mhas_key(\u001b[38;5;241m10\u001b[39m)\n",
      "\u001b[1;31mAttributeError\u001b[0m: 'dict' object has no attribute 'has_key'"
     ]
    }
   ],
   "source": [
    "d1.has_key(10)  # Python 2 deprecated in python 3"
   ]
  },
  {
   "cell_type": "code",
   "execution_count": 6,
   "id": "f758d3e9",
   "metadata": {},
   "outputs": [],
   "source": [
    "# Python 3\n",
    "if 10 in d1:\n",
    "    print(d1[10])"
   ]
  },
  {
   "cell_type": "code",
   "execution_count": 25,
   "id": "0a4c1def",
   "metadata": {},
   "outputs": [
    {
     "name": "stdout",
     "output_type": "stream",
     "text": [
      "Enter Name:anand\n",
      "Enter percentage:73\n",
      "{'anand': 73}\n"
     ]
    }
   ],
   "source": [
    "# write a program to enter name and percentage marks in a dictionary and display information on the screen\n",
    "\n",
    "dc = {}\n",
    "\n",
    "key = input('Enter Name:')\n",
    "value = int(input('Enter percentage:'))\n",
    "\n",
    "dc[key] = value\n",
    "#dc = (key,value)\n",
    "print(dict(dc))\n",
    "\n",
    "#d1[2] = \"Javascript\"\n",
    "#{'anand': 77.0}"
   ]
  },
  {
   "cell_type": "code",
   "execution_count": 8,
   "id": "0abbd592",
   "metadata": {},
   "outputs": [
    {
     "name": "stdout",
     "output_type": "stream",
     "text": [
      "{1: 'Python', 2: 'Javascript', 3: 'C#'}\n"
     ]
    }
   ],
   "source": [
    "# update dictionaries d[key] = value\n",
    "d1[2] = \"Javascript\"\n",
    "print(d1)"
   ]
  },
  {
   "cell_type": "code",
   "execution_count": 9,
   "id": "9d1a6ab2",
   "metadata": {},
   "outputs": [
    {
     "name": "stdout",
     "output_type": "stream",
     "text": [
      "{1: 'Python', 2: 'Javascript'}\n"
     ]
    }
   ],
   "source": [
    "# delete the element: del\n",
    "del d1[3]\n",
    "print(d1)\n"
   ]
  },
  {
   "cell_type": "code",
   "execution_count": 10,
   "id": "76ffda4a",
   "metadata": {},
   "outputs": [
    {
     "name": "stdout",
     "output_type": "stream",
     "text": [
      "{}\n"
     ]
    }
   ],
   "source": [
    "# clear(): remove all element\n",
    "d1.clear()\n",
    "print(d1)\n"
   ]
  },
  {
   "cell_type": "code",
   "execution_count": 11,
   "id": "e1b74329",
   "metadata": {},
   "outputs": [
    {
     "ename": "NameError",
     "evalue": "name 'd1' is not defined",
     "output_type": "error",
     "traceback": [
      "\u001b[1;31m---------------------------------------------------------------------------\u001b[0m",
      "\u001b[1;31mNameError\u001b[0m                                 Traceback (most recent call last)",
      "Cell \u001b[1;32mIn[11], line 2\u001b[0m\n\u001b[0;32m      1\u001b[0m \u001b[38;5;28;01mdel\u001b[39;00m d1\n\u001b[1;32m----> 2\u001b[0m \u001b[38;5;28mprint\u001b[39m(d1)\n",
      "\u001b[1;31mNameError\u001b[0m: name 'd1' is not defined"
     ]
    }
   ],
   "source": [
    "del d1\n",
    "print(d1)"
   ]
  },
  {
   "cell_type": "code",
   "execution_count": 12,
   "id": "fc378e6c",
   "metadata": {},
   "outputs": [],
   "source": [
    "# len(), get(), pop(), popitem(), keys(), values(), items(), copy(), setdefault(), update()"
   ]
  },
  {
   "cell_type": "code",
   "execution_count": 13,
   "id": "d11f4301",
   "metadata": {},
   "outputs": [
    {
     "name": "stdout",
     "output_type": "stream",
     "text": [
      "4\n"
     ]
    }
   ],
   "source": [
    "d3 = {10:\"Python\", 20:\"Java\", 30:\"C#\", 40:\"Javascript\"}\n",
    "print(len(d3))"
   ]
  },
  {
   "cell_type": "code",
   "execution_count": 14,
   "id": "4efa5c0a",
   "metadata": {},
   "outputs": [
    {
     "name": "stdout",
     "output_type": "stream",
     "text": [
      "C#\n"
     ]
    }
   ],
   "source": [
    "print(d3.get(30))"
   ]
  },
  {
   "cell_type": "code",
   "execution_count": 15,
   "id": "502434b2",
   "metadata": {},
   "outputs": [
    {
     "name": "stdout",
     "output_type": "stream",
     "text": [
      "None\n"
     ]
    }
   ],
   "source": [
    "print(d3.get(60))"
   ]
  },
  {
   "cell_type": "code",
   "execution_count": 16,
   "id": "b48e3a9e",
   "metadata": {},
   "outputs": [
    {
     "name": "stdout",
     "output_type": "stream",
     "text": [
      "Javascript\n",
      "{10: 'Python', 20: 'Java', 30: 'C#'}\n"
     ]
    }
   ],
   "source": [
    "print(d3.pop(40))\n",
    "print(d3)"
   ]
  },
  {
   "cell_type": "code",
   "execution_count": 17,
   "id": "d5effa26",
   "metadata": {},
   "outputs": [
    {
     "name": "stdout",
     "output_type": "stream",
     "text": [
      "(30, 'C#')\n",
      "{10: 'Python', 20: 'Java'}\n"
     ]
    }
   ],
   "source": [
    "print(d3.popitem())  # remove an arbitrary item from the dictionary\n",
    "print(d3)"
   ]
  },
  {
   "cell_type": "code",
   "execution_count": 18,
   "id": "0a169a24",
   "metadata": {},
   "outputs": [
    {
     "name": "stdout",
     "output_type": "stream",
     "text": [
      "dict_keys([10, 20])\n"
     ]
    }
   ],
   "source": [
    "print(d3.keys())"
   ]
  },
  {
   "cell_type": "code",
   "execution_count": 19,
   "id": "f515c28f",
   "metadata": {},
   "outputs": [
    {
     "name": "stdout",
     "output_type": "stream",
     "text": [
      "dict_values(['Python', 'Java'])\n"
     ]
    }
   ],
   "source": [
    "print(d3.values())"
   ]
  },
  {
   "cell_type": "code",
   "execution_count": 20,
   "id": "571b69cd",
   "metadata": {},
   "outputs": [
    {
     "name": "stdout",
     "output_type": "stream",
     "text": [
      "10  ****  Python\n",
      "20  ****  Java\n"
     ]
    }
   ],
   "source": [
    "for k,v in d3.items():\n",
    "    print(k,\" **** \",v)"
   ]
  },
  {
   "cell_type": "code",
   "execution_count": 21,
   "id": "3408de22",
   "metadata": {},
   "outputs": [
    {
     "name": "stdout",
     "output_type": "stream",
     "text": [
      "{10: 'Python', 20: 'Java'}\n"
     ]
    }
   ],
   "source": [
    "d4 = d3.copy()\n",
    "print(d4)"
   ]
  },
  {
   "cell_type": "code",
   "execution_count": 22,
   "id": "ffff9082",
   "metadata": {},
   "outputs": [],
   "source": [
    "# write a program to find number of occurences of each letter present in the given string\n",
    "# write a program to find number of occurences of each vowel present in the given string"
   ]
  },
  {
   "cell_type": "code",
   "execution_count": null,
   "id": "7de272b2",
   "metadata": {},
   "outputs": [],
   "source": []
  }
 ],
 "metadata": {
  "kernelspec": {
   "display_name": "Python 3 (ipykernel)",
   "language": "python",
   "name": "python3"
  },
  "language_info": {
   "codemirror_mode": {
    "name": "ipython",
    "version": 3
   },
   "file_extension": ".py",
   "mimetype": "text/x-python",
   "name": "python",
   "nbconvert_exporter": "python",
   "pygments_lexer": "ipython3",
   "version": "3.11.5"
  }
 },
 "nbformat": 4,
 "nbformat_minor": 5
}
