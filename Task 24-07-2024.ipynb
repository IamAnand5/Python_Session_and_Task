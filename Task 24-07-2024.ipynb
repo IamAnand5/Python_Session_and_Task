{
 "cells": [
  {
   "cell_type": "markdown",
   "id": "de9dc3a7",
   "metadata": {},
   "source": [
    "# write a program to delete a static variable from inside the class constructor, instance method, class method and static method and also from the outside of the class"
   ]
  },
  {
   "cell_type": "code",
   "execution_count": 5,
   "id": "e0179df7",
   "metadata": {},
   "outputs": [
    {
     "name": "stdout",
     "output_type": "stream",
     "text": [
      "{'name': 'anand', 'course': 'mca', 'address': 'chandpur', 'rollno': 78}\n"
     ]
    }
   ],
   "source": [
    "class deleteVariable:\n",
    "    #static variables\n",
    "    \n",
    "    x = 10\n",
    "    y = 20\n",
    "    z = 30\n",
    "    m = 50\n",
    "    n = 90\n",
    "    o = 45\n",
    "    \n",
    "    def __init__(self,name,course,address): #instance variables\n",
    "        self.name = name\n",
    "        self.course = course\n",
    "        self.address = address\n",
    "        #print(deleteVariable.x)\n",
    "        del deleteVariable.x\n",
    "        \n",
    "    def addRecord(self): #instance methods\n",
    "        self.rollno = 78\n",
    "        #print(deleteVariable.y)\n",
    "        del deleteVariable.y\n",
    "        \n",
    "    @classmethod  # annotation\n",
    "    def m2(cls):\n",
    "        cls.d1= 40\n",
    "        deleteVariable.d2=200\n",
    "        \n",
    "        #print(deleteVariable.z)\n",
    "        del deleteVariable.z\n",
    "        \n",
    "#     @staticmethod\n",
    "#     def m3():\n",
    "#         deleteVariable.j = 80\n",
    "#         print(deleteVariable.j)\n",
    "        \n",
    "#print(deleteVariable.x)  \n",
    "deleteVariable.x\n",
    "obj = deleteVariable('anand','mca','chandpur')\n",
    "obj.addRecord()\n",
    "deleteVariable.m2()\n",
    "print(obj.__dict__)\n",
    "# print(deleteVariable.x)\n",
    "# print(obj.y)\n",
    "# print(deleteVariable.z)\n",
    "#print(deleteVariable.__dict__)"
   ]
  },
  {
   "cell_type": "code",
   "execution_count": null,
   "id": "321b20d7",
   "metadata": {},
   "outputs": [],
   "source": []
  }
 ],
 "metadata": {
  "kernelspec": {
   "display_name": "Python 3 (ipykernel)",
   "language": "python",
   "name": "python3"
  },
  "language_info": {
   "codemirror_mode": {
    "name": "ipython",
    "version": 3
   },
   "file_extension": ".py",
   "mimetype": "text/x-python",
   "name": "python",
   "nbconvert_exporter": "python",
   "pygments_lexer": "ipython3",
   "version": "3.11.5"
  }
 },
 "nbformat": 4,
 "nbformat_minor": 5
}
