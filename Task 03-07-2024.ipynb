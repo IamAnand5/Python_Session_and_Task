{
 "cells": [
  {
   "cell_type": "markdown",
   "id": "056a073f",
   "metadata": {},
   "source": [
    " ##### Write a program to enter employee record , search the record, remove the record and exit the program\n",
    " employee id, employee name, Age, salary, Qualification, Address\n",
    " \n",
    " 1 - Add\n",
    " \n",
    " 2 - remove\n",
    " \n",
    " 3 - search\n",
    " \n",
    " 4 for exit"
   ]
  },
  {
   "cell_type": "code",
   "execution_count": 75,
   "id": "3c2a6e44",
   "metadata": {},
   "outputs": [
    {
     "name": "stdout",
     "output_type": "stream",
     "text": [
      "\n",
      "    Enter a your choice:\n",
      "    1.) Press 1 to Add\n",
      "    2.) Press 2 to Remove\n",
      "    3.) Press 3 to Search\n",
      "    4.) Press 4 to Exit\n",
      "    \n",
      "7\n",
      "You entered wrong!!!\n",
      "\n",
      "    Enter a your choice:\n",
      "    1.) Press 1 to Add\n",
      "    2.) Press 2 to Remove\n",
      "    3.) Press 3 to Search\n",
      "    4.) Press 4 to Exit\n",
      "    \n",
      "4\n",
      "You are Exit\n"
     ]
    }
   ],
   "source": [
    "\n",
    "emp_list = []\n",
    "\n",
    "while True:\n",
    "    menu = input('''\n",
    "    Enter a your choice:\n",
    "    1.) Press 1 to Add\n",
    "    2.) Press 2 to Remove\n",
    "    3.) Press 3 to Search\n",
    "    4.) Press 4 to Exit\n",
    "    \\n''')\n",
    "\n",
    "\n",
    "    if menu == '1':\n",
    "            #add\n",
    "                emp_id = int(input('Enter employee id:'))\n",
    "                emp_name = input('Enter employee name:')\n",
    "                emp_age = int(input('Enter employee age:'))\n",
    "                emp_salary = int(input('Enter employee salary:'))\n",
    "                emp_qualification = input('Enter employee qualification:')\n",
    "                emp_address = input('Enter employee address:')\n",
    "\n",
    "#                 print(emp_id)\n",
    "#                 print(emp_name)\n",
    "#                 print(emp_age)\n",
    "#                 print(emp_salary)\n",
    "#                 print(emp_qualification)\n",
    "#                 print(emp_address)\n",
    "\n",
    "                emp_list.append((emp_id, emp_name, emp_age, emp_salary, emp_qualification, emp_address))\n",
    "                print(list(emp_list))\n",
    "\n",
    "\n",
    "    elif menu == '2':\n",
    "     #remove\n",
    "        remove = int(input('Enter employee id you want to remove:'))\n",
    "        if emp_id == remove:\n",
    "            #emp_list.remove(emp_list)\n",
    "            print('The record is removed successfully:',emp_list)\n",
    "            \n",
    "    elif menu == '3':\n",
    "    #search\n",
    "        search = int(input('Enter employee id you want to search:'))\n",
    "        if emp_id == search:\n",
    "            print('The record you searched for is:',emp_list)\n",
    "\n",
    "    elif menu == '4':\n",
    "    #exit\n",
    "        print('You are Exit')\n",
    "        break\n",
    "\n",
    "    else:\n",
    "\n",
    "        print('You entered wrong!!!')\n",
    "\n",
    "\n",
    "\n",
    "    # if menu == '4':\n",
    "    #     print('You are Exit')\n"
   ]
  },
  {
   "cell_type": "code",
   "execution_count": 56,
   "id": "b0cc6b0a",
   "metadata": {},
   "outputs": [
    {
     "name": "stdout",
     "output_type": "stream",
     "text": [
      "1\n",
      "2\n",
      "3\n",
      "4\n",
      "5\n"
     ]
    }
   ],
   "source": [
    "i = 1\n",
    "while i < 6:\n",
    "    print(i)1\n",
    "\n",
    "    i += 1"
   ]
  },
  {
   "cell_type": "code",
   "execution_count": null,
   "id": "01ccd37a",
   "metadata": {},
   "outputs": [],
   "source": []
  }
 ],
 "metadata": {
  "kernelspec": {
   "display_name": "Python 3 (ipykernel)",
   "language": "python",
   "name": "python3"
  },
  "language_info": {
   "codemirror_mode": {
    "name": "ipython",
    "version": 3
   },
   "file_extension": ".py",
   "mimetype": "text/x-python",
   "name": "python",
   "nbconvert_exporter": "python",
   "pygments_lexer": "ipython3",
   "version": "3.11.5"
  }
 },
 "nbformat": 4,
 "nbformat_minor": 5
}
