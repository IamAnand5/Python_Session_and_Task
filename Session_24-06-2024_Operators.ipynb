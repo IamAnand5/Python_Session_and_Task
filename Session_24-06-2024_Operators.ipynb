{
 "cells": [
  {
   "cell_type": "markdown",
   "id": "a7417f9f",
   "metadata": {},
   "source": [
    "### Escape Characters\n",
    "\n",
    "\\n = new Line\n",
    "\n",
    "\\t = Horizontal tab\n",
    "\n",
    "\\r = Carriage return\n",
    "\n",
    "\\b = back space\n",
    "\n",
    "\\f = form feed\n",
    "\n",
    "\\v = vertical tab\n",
    "\n",
    "\\' = Single quote\n",
    "\n",
    "\\\" - Double quote\n",
    "\n",
    "\\\\ = Back slash symbol"
   ]
  },
  {
   "cell_type": "code",
   "execution_count": 1,
   "id": "d342e2e4",
   "metadata": {},
   "outputs": [
    {
     "name": "stdout",
     "output_type": "stream",
     "text": [
      "Python \n",
      " Programming\n"
     ]
    }
   ],
   "source": [
    "str1 = 'Python \\n Programming'\n",
    "print(str1)"
   ]
  },
  {
   "cell_type": "code",
   "execution_count": 2,
   "id": "cc064c80",
   "metadata": {},
   "outputs": [
    {
     "ename": "SyntaxError",
     "evalue": "invalid syntax (3567131627.py, line 1)",
     "output_type": "error",
     "traceback": [
      "\u001b[1;36m  Cell \u001b[1;32mIn[2], line 1\u001b[1;36m\u001b[0m\n\u001b[1;33m    str2 = \"This is a python programming \"Software Development\" which is used in ML\"\u001b[0m\n\u001b[1;37m                                          ^\u001b[0m\n\u001b[1;31mSyntaxError\u001b[0m\u001b[1;31m:\u001b[0m invalid syntax\n"
     ]
    }
   ],
   "source": [
    "str2 = \"This is a python programming \"Software Development\" which is used in ML\"\n",
    "print(str2)"
   ]
  },
  {
   "cell_type": "code",
   "execution_count": 3,
   "id": "be06d4fe",
   "metadata": {},
   "outputs": [
    {
     "name": "stdout",
     "output_type": "stream",
     "text": [
      "This is a Python programming \"Software Development\" which is use in ML\n"
     ]
    }
   ],
   "source": [
    "str3 = \"This is a Python programming \\\"Software Development\\\" which is use in ML\"\n",
    "print(str3)"
   ]
  },
  {
   "cell_type": "markdown",
   "id": "aa03a0aa",
   "metadata": {},
   "source": [
    "### Concatenate operator"
   ]
  },
  {
   "cell_type": "code",
   "execution_count": 4,
   "id": "895b9950",
   "metadata": {},
   "outputs": [
    {
     "ename": "TypeError",
     "evalue": "can only concatenate str (not \"int\") to str",
     "output_type": "error",
     "traceback": [
      "\u001b[1;31m---------------------------------------------------------------------------\u001b[0m",
      "\u001b[1;31mTypeError\u001b[0m                                 Traceback (most recent call last)",
      "Cell \u001b[1;32mIn[4], line 1\u001b[0m\n\u001b[1;32m----> 1\u001b[0m str4 \u001b[38;5;241m=\u001b[39m \u001b[38;5;124m\"\u001b[39m\u001b[38;5;124mPython\u001b[39m\u001b[38;5;124m\"\u001b[39m \u001b[38;5;241m+\u001b[39m \u001b[38;5;241m4\u001b[39m\n\u001b[0;32m      2\u001b[0m \u001b[38;5;28mprint\u001b[39m(str4)\n",
      "\u001b[1;31mTypeError\u001b[0m: can only concatenate str (not \"int\") to str"
     ]
    }
   ],
   "source": [
    "str4 = \"Python\" + 4\n",
    "print(str4)"
   ]
  },
  {
   "cell_type": "code",
   "execution_count": 6,
   "id": "db60d3ee",
   "metadata": {},
   "outputs": [
    {
     "name": "stdout",
     "output_type": "stream",
     "text": [
      "Python4\n"
     ]
    }
   ],
   "source": [
    "str5 = \"Python\" + '4'\n",
    "print(str5)"
   ]
  },
  {
   "cell_type": "code",
   "execution_count": 7,
   "id": "0c900dfb",
   "metadata": {},
   "outputs": [
    {
     "ename": "NameError",
     "evalue": "name 'Python' is not defined",
     "output_type": "error",
     "traceback": [
      "\u001b[1;31m---------------------------------------------------------------------------\u001b[0m",
      "\u001b[1;31mNameError\u001b[0m                                 Traceback (most recent call last)",
      "Cell \u001b[1;32mIn[7], line 1\u001b[0m\n\u001b[1;32m----> 1\u001b[0m str6 \u001b[38;5;241m=\u001b[39m \u001b[38;5;241m4\u001b[39m \u001b[38;5;241m*\u001b[39m Python\n\u001b[0;32m      2\u001b[0m \u001b[38;5;28mprint\u001b[39m(str6)\n",
      "\u001b[1;31mNameError\u001b[0m: name 'Python' is not defined"
     ]
    }
   ],
   "source": [
    "str6 = 4 * Python\n",
    "print(str6)"
   ]
  },
  {
   "cell_type": "code",
   "execution_count": 8,
   "id": "bb34b67a",
   "metadata": {},
   "outputs": [
    {
     "name": "stdout",
     "output_type": "stream",
     "text": [
      "PythonPythonPythonPython\n"
     ]
    }
   ],
   "source": [
    "str6 = 4 * 'Python'\n",
    "print(str6)"
   ]
  },
  {
   "cell_type": "markdown",
   "id": "a31d34b4",
   "metadata": {},
   "source": [
    "### Relational or comparision operator"
   ]
  },
  {
   "cell_type": "code",
   "execution_count": 9,
   "id": "b758a855",
   "metadata": {},
   "outputs": [
    {
     "name": "stdout",
     "output_type": "stream",
     "text": [
      "False\n",
      "True\n",
      "True\n",
      "False\n"
     ]
    }
   ],
   "source": [
    "print(True > True)\n",
    "print(True >= True)\n",
    "print(22 > True)\n",
    "print(False > True)"
   ]
  },
  {
   "cell_type": "code",
   "execution_count": 10,
   "id": "56b326a8",
   "metadata": {},
   "outputs": [
    {
     "name": "stdout",
     "output_type": "stream",
     "text": [
      "a is not greater than b\n"
     ]
    }
   ],
   "source": [
    "a = 5\n",
    "b = 8\n",
    "if (a > b):\n",
    "    print('a is greater than b')\n",
    "else:\n",
    "    print('a is not greater than b')"
   ]
  },
  {
   "cell_type": "code",
   "execution_count": 11,
   "id": "1af585f7",
   "metadata": {},
   "outputs": [
    {
     "name": "stdout",
     "output_type": "stream",
     "text": [
      "True\n",
      "False\n",
      "True\n"
     ]
    }
   ],
   "source": [
    "print(20<30<40)\n",
    "print(10<20<30>50)\n",
    "print(10<20<50>30)"
   ]
  },
  {
   "cell_type": "markdown",
   "id": "01ddaf5d",
   "metadata": {},
   "source": [
    "### Equality operator"
   ]
  },
  {
   "cell_type": "code",
   "execution_count": 12,
   "id": "d886b32b",
   "metadata": {},
   "outputs": [
    {
     "name": "stdout",
     "output_type": "stream",
     "text": [
      "False\n"
     ]
    }
   ],
   "source": [
    "print(20 == 30)"
   ]
  },
  {
   "cell_type": "code",
   "execution_count": 13,
   "id": "fabb4e7d",
   "metadata": {},
   "outputs": [
    {
     "name": "stdout",
     "output_type": "stream",
     "text": [
      "False\n",
      "True\n"
     ]
    }
   ],
   "source": [
    "print(1==2==3==4)\n",
    "print(1==1==1==1)"
   ]
  },
  {
   "cell_type": "markdown",
   "id": "b976b1f8",
   "metadata": {},
   "source": [
    "### Logical operator"
   ]
  },
  {
   "cell_type": "code",
   "execution_count": 14,
   "id": "73e89ae3",
   "metadata": {},
   "outputs": [
    {
     "name": "stdout",
     "output_type": "stream",
     "text": [
      "False\n",
      "True\n",
      "True\n"
     ]
    }
   ],
   "source": [
    "print(True and False)\n",
    "print(True or False)\n",
    "print(not False)"
   ]
  },
  {
   "cell_type": "code",
   "execution_count": 15,
   "id": "0519ba9f",
   "metadata": {},
   "outputs": [
    {
     "name": "stdout",
     "output_type": "stream",
     "text": [
      "0\n",
      "False\n"
     ]
    }
   ],
   "source": [
    "print(True and 0)\n",
    "print(44 and False)"
   ]
  },
  {
   "cell_type": "code",
   "execution_count": 16,
   "id": "b9c23343",
   "metadata": {},
   "outputs": [
    {
     "name": "stdout",
     "output_type": "stream",
     "text": [
      "Hello\n"
     ]
    }
   ],
   "source": [
    "if (24):\n",
    "    print('Hello')"
   ]
  },
  {
   "cell_type": "code",
   "execution_count": 17,
   "id": "ce1a7dfe",
   "metadata": {},
   "outputs": [],
   "source": [
    "if(0):\n",
    "    print('Hi')"
   ]
  },
  {
   "cell_type": "code",
   "execution_count": 18,
   "id": "08bbe661",
   "metadata": {},
   "outputs": [
    {
     "name": "stdout",
     "output_type": "stream",
     "text": [
      "50\n"
     ]
    }
   ],
   "source": [
    "a = 30\n",
    "b = 20\n",
    "x = 40 if a<b else 50\n",
    "print(x)"
   ]
  },
  {
   "cell_type": "code",
   "execution_count": null,
   "id": "f473add7",
   "metadata": {},
   "outputs": [],
   "source": []
  }
 ],
 "metadata": {
  "kernelspec": {
   "display_name": "Python 3 (ipykernel)",
   "language": "python",
   "name": "python3"
  },
  "language_info": {
   "codemirror_mode": {
    "name": "ipython",
    "version": 3
   },
   "file_extension": ".py",
   "mimetype": "text/x-python",
   "name": "python",
   "nbconvert_exporter": "python",
   "pygments_lexer": "ipython3",
   "version": "3.11.5"
  }
 },
 "nbformat": 4,
 "nbformat_minor": 5
}
