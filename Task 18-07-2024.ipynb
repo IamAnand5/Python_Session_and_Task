{
 "cells": [
  {
   "cell_type": "markdown",
   "id": "98589480",
   "metadata": {},
   "source": [
    "### Q - write a program to find that program is executed as a individual or from module.\n"
   ]
  },
  {
   "cell_type": "code",
   "execution_count": 5,
   "id": "7e3654e7",
   "metadata": {},
   "outputs": [],
   "source": [
    "import moduleEx"
   ]
  },
  {
   "cell_type": "code",
   "execution_count": 9,
   "id": "107819f1",
   "metadata": {},
   "outputs": [
    {
     "name": "stdout",
     "output_type": "stream",
     "text": [
      "Hello Everyone!\n",
      "C:\\Users\\Anand S\\Core_Python\\Python_Programs\\moduleEx.py\n"
     ]
    }
   ],
   "source": [
    "moduleEx.heloo(50,50)\n",
    "print(moduleEx.__file__)\n",
    "\n",
    "# modulename.functionname()  \n",
    "# print(modulename.__file__)"
   ]
  },
  {
   "cell_type": "code",
   "execution_count": null,
   "id": "b934b19c",
   "metadata": {},
   "outputs": [],
   "source": [
    "print (\"Module __name__ = %s\" %__name__)  \n",
    "  \n",
    "if __name__ == \"__main__\":  \n",
    "    print (\"File1 is being run directly\") \n",
    "else:  \n",
    "    print (\"File1 is being imported\") "
   ]
  },
  {
   "cell_type": "code",
   "execution_count": null,
   "id": "7637d3b8",
   "metadata": {},
   "outputs": [],
   "source": []
  }
 ],
 "metadata": {
  "kernelspec": {
   "display_name": "Python 3 (ipykernel)",
   "language": "python",
   "name": "python3"
  },
  "language_info": {
   "codemirror_mode": {
    "name": "ipython",
    "version": 3
   },
   "file_extension": ".py",
   "mimetype": "text/x-python",
   "name": "python",
   "nbconvert_exporter": "python",
   "pygments_lexer": "ipython3",
   "version": "3.11.5"
  }
 },
 "nbformat": 4,
 "nbformat_minor": 5
}
