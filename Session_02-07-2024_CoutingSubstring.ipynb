{
 "cells": [
  {
   "cell_type": "markdown",
   "id": "29ca4da8",
   "metadata": {},
   "source": [
    "### - Counting substring:\n",
    "find the number of occurences of substring present in the given string\n",
    "  - count()\n",
    "  syntax:\n",
    "    s.count(substring)\n",
    "\ts.count(substring, begin, end)\n",
    "\t\n",
    "\t\n",
    "- Replacing a String\n",
    "   - s.replace(oldstring, newstring)\n",
    "   \n",
    "- Splitting a String:\n",
    "   split(seperator)\n",
    "  \n",
    "  - Joining of Strings:\n",
    "   s = seperator.join(group of strings)\n",
    "  \n",
    "  Method of strings:\n",
    "  - upper()\n",
    "  - lower()\n",
    "  - swapcase() - convert lower to upper and upper to lower\n",
    "  - title() - first character of each word should be in upper case and all others are in the lower case\n",
    "  - capitalize()- upper case only first character of first word . other are in lower case \n",
    "  \n",
    "- Check Start and end part of the string\n",
    "   - startswith(substring)\n",
    "   - endswith(substring)\n",
    "   \n",
    "- check type of characters present in string:\n",
    "  - isalnum() - return true if all characters are alphanumeric (a to z, A to Z , 0 to 9)\n",
    "  - isalpha() - Retruns true if all characters are only alphabet\n",
    "  - isdigit()\n",
    "  - islower()\n",
    "  - isupper()\n",
    "  - istitle()\n",
    "  - isspace() - retruns true if string contains only spaces\n",
    "  \n",
    " - Formatting the string\n",
    "    - format()\n",
    "\t"
   ]
  },
  {
   "cell_type": "code",
   "execution_count": 1,
   "id": "fee63ab1",
   "metadata": {},
   "outputs": [
    {
     "name": "stdout",
     "output_type": "stream",
     "text": [
      "4\n"
     ]
    }
   ],
   "source": [
    "# Count substring\n",
    "s = \"Python is a programming language\"\n",
    "print(s.count(\"a\"))"
   ]
  },
  {
   "cell_type": "code",
   "execution_count": 2,
   "id": "3289f729",
   "metadata": {},
   "outputs": [
    {
     "name": "stdout",
     "output_type": "stream",
     "text": [
      "1\n"
     ]
    }
   ],
   "source": [
    "print(s.count('pro'))"
   ]
  },
  {
   "cell_type": "code",
   "execution_count": 3,
   "id": "fcb165e8",
   "metadata": {},
   "outputs": [
    {
     "name": "stdout",
     "output_type": "stream",
     "text": [
      "1\n"
     ]
    }
   ],
   "source": [
    "print(s.count('a',12, 25 ))"
   ]
  },
  {
   "cell_type": "code",
   "execution_count": 4,
   "id": "c0ff23bb",
   "metadata": {},
   "outputs": [
    {
     "name": "stdout",
     "output_type": "stream",
     "text": [
      "Python is very difficult language\n"
     ]
    }
   ],
   "source": [
    "# Replace string\n",
    "s1 = \"Python is very easy language\"\n",
    "s2 = s1.replace(\"easy\", \"difficult\")\n",
    "print(s2)"
   ]
  },
  {
   "cell_type": "code",
   "execution_count": 12,
   "id": "0cbd1d1b",
   "metadata": {},
   "outputs": [
    {
     "name": "stdout",
     "output_type": "stream",
     "text": [
      "Python is difficult language. Python is based on Oops\n"
     ]
    }
   ],
   "source": [
    "s3 = \"Java is difficult language. Java is based on Oops\"\n",
    "s4 = s3.replace(\"Java\", \"Python\")\n",
    "print(s4)"
   ]
  },
  {
   "cell_type": "code",
   "execution_count": 6,
   "id": "fa211c74",
   "metadata": {},
   "outputs": [
    {
     "name": "stdout",
     "output_type": "stream",
     "text": [
      "Python is difficult language. Python is based on Oops\n"
     ]
    }
   ],
   "source": [
    "print(s4)"
   ]
  },
  {
   "cell_type": "code",
   "execution_count": 7,
   "id": "d52bcfcf",
   "metadata": {},
   "outputs": [
    {
     "name": "stdout",
     "output_type": "stream",
     "text": [
      "Python\n",
      "Programming\n",
      "Language\n"
     ]
    }
   ],
   "source": [
    "# Split a string\n",
    "s5 = \"Python Programming Language\"\n",
    "x = s5.split()\n",
    "for i in x:\n",
    "    print(i)"
   ]
  },
  {
   "cell_type": "code",
   "execution_count": 8,
   "id": "88bb1689",
   "metadata": {},
   "outputs": [
    {
     "name": "stdout",
     "output_type": "stream",
     "text": [
      "Dyal-Pardeep-Kaushal\n"
     ]
    }
   ],
   "source": [
    "# Joining of strings\n",
    "t1 = ('Dyal', 'Pardeep', 'Kaushal')\n",
    "s6 = '-'.join(t1)\n",
    "print(s6)"
   ]
  },
  {
   "cell_type": "code",
   "execution_count": 9,
   "id": "ff90c0f2",
   "metadata": {},
   "outputs": [
    {
     "name": "stdout",
     "output_type": "stream",
     "text": [
      "False\n",
      "True\n",
      "False\n",
      "True\n"
     ]
    }
   ],
   "source": [
    "# Start and end of the substring\n",
    "s7 = 'Python is very easy language'\n",
    "print(s7.startswith('easy'))\n",
    "print(s7.startswith('Python'))\n",
    "print(s7.endswith('easy'))\n",
    "print(s7.endswith('language'))"
   ]
  },
  {
   "cell_type": "code",
   "execution_count": 10,
   "id": "91579732",
   "metadata": {},
   "outputs": [
    {
     "name": "stdout",
     "output_type": "stream",
     "text": [
      "Anand's salary is 50000 and his age is 22\n",
      "Anand's salary is 50000 and his age is 22\n",
      "Anand's salary is 50000 and his age is 22\n"
     ]
    }
   ],
   "source": [
    "# format() method\n",
    "name = \"Anand\"\n",
    "salary = 50000\n",
    "age = 22\n",
    "print(\"{}'s salary is {} and his age is {}\".format(name, salary, age))\n",
    "print(\"{0}'s salary is {1} and his age is {2}\".format(name, salary, age))\n",
    "print(\"{a}'s salary is {b} and his age is {c}\".format(a=name, b=salary, c=age))"
   ]
  },
  {
   "cell_type": "code",
   "execution_count": null,
   "id": "10e27e33",
   "metadata": {},
   "outputs": [],
   "source": []
  }
 ],
 "metadata": {
  "kernelspec": {
   "display_name": "Python 3 (ipykernel)",
   "language": "python",
   "name": "python3"
  },
  "language_info": {
   "codemirror_mode": {
    "name": "ipython",
    "version": 3
   },
   "file_extension": ".py",
   "mimetype": "text/x-python",
   "name": "python",
   "nbconvert_exporter": "python",
   "pygments_lexer": "ipython3",
   "version": "3.11.5"
  }
 },
 "nbformat": 4,
 "nbformat_minor": 5
}
